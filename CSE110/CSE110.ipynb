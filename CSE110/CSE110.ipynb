{
 "cells": [
  {
   "cell_type": "markdown",
   "metadata": {},
   "source": [
    "# Text to Numerics"
   ]
  },
  {
   "cell_type": "code",
   "execution_count": null,
   "metadata": {},
   "outputs": [
    {
     "name": "stdout",
     "output_type": "stream",
     "text": [
      "['one', 'hundred']\n",
      "hundred\n",
      "one\n",
      "10\n"
     ]
    }
   ],
   "source": [
    "def converter():\n",
    "    x = input(\"Enter amount in words: \")\n",
    "    words = x.split()\n",
    "    num = 0\n",
    "    print(words)\n",
    "    for i in range(1, len(words)+1):\n",
    "        print(words[-i])\n",
    "        if words[-i].lower() == 'one':\n",
    "            num = 1 + num\n",
    "        elif words[-i].lower() == 'two' or words[-i].lower() == 'twenty':\n",
    "            num = 2 + num\n",
    "        elif words[-i].lower() == 'three' or words[-i].lower() == 'thirty':\n",
    "            num = 3 + num\n",
    "        elif words[-i].lower() == 'four' or words[-i].lower() == 'forty':\n",
    "            num = 4 + num\n",
    "        elif words[-i].lower() == 'five' or words[-i].lower() == 'fifty':\n",
    "            num = 5 + num\n",
    "        elif words[-i].lower() == 'six' or words[-i].lower() == 'sixty':\n",
    "            num = 6 + num\n",
    "        elif words[-i].lower() == 'seven' or words[-i].lower() == 'seventy':\n",
    "            num = 7 + num\n",
    "        elif words[-i].lower() == 'eight' or words[-i].lower() == 'eighty':\n",
    "            num = 8 + num\n",
    "        elif words[-i].lower() == 'nine' or words[-i].lower() == 'ninety':\n",
    "            num = 9 + num\n",
    "        elif words[-i] == 'hundred':\n",
    "            num = 100 + num\n",
    "        elif words[-i] == 'thousand':\n",
    "            num = 1000 + num\n",
    "    return num\n",
    "\n",
    "def converter():\n",
    "    x = input(\"Enter amount in words: \")\n",
    "    words = x.split()\n",
    "    num = 0\n",
    "    print(words)\n",
    "    for i in range(1, len(words)):\n",
    "        if words[i].lower() == 'hundred' or words[i].lower() == 'thousand':\n",
    "            if words[i-1].lower() == 'one':\n",
    "                x = '1'\n",
    "            elif words[i-1].lower() == 'two':\n",
    "                x = '2'\n",
    "            elif words[i-1].lower() == 'three':\n",
    "                x = '3'\n",
    "            elif words[i-1].lower() == 'four':\n",
    "                x = '4'\n",
    "            elif words[i-1].lower() == 'five':\n",
    "                x = '5'\n",
    "            elif words[i-1].lower() == 'six':\n",
    "                x = '6'\n",
    "            elif words[i-1].lower() == 'seven':\n",
    "                x = '7'\n",
    "            elif words[i-1].lower() == 'eight':\n",
    "                x = '8'\n",
    "            elif words[i-1].lower() == 'nine':\n",
    "                x = '9'\n",
    "            elif words[i-1].lower() == 'ten':\n",
    "                \n",
    "        if words[i] == 'hundred':\n",
    "            x += '00'\n",
    "        elif words[i] == 'thousand':\n",
    "            x += '000'\n",
    "        elif words[i] == 'million':\n",
    "            x += \n",
    "\n",
    "print(converter())"
   ]
  }
 ],
 "metadata": {
  "kernelspec": {
   "display_name": "base",
   "language": "python",
   "name": "python3"
  },
  "language_info": {
   "codemirror_mode": {
    "name": "ipython",
    "version": 3
   },
   "file_extension": ".py",
   "mimetype": "text/x-python",
   "name": "python",
   "nbconvert_exporter": "python",
   "pygments_lexer": "ipython3",
   "version": "3.11.4"
  }
 },
 "nbformat": 4,
 "nbformat_minor": 2
}
