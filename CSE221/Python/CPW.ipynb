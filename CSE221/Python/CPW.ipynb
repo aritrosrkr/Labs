{
 "cells": [
  {
   "cell_type": "markdown",
   "id": "2e88527c",
   "metadata": {},
   "source": [
    "## Day - 2\n",
    "###\n",
    "###\n",
    "**CP WORKSHOP DAY 2 PROBLEMSET**\n",
    "Since the workshop time is limited, spending too long on a single problem might prevent us from covering more content. So, before each session, we’ll share all the problems we plan to discuss in advance, allowing us to dive straight into idea-sharing during the session.\n",
    "\n",
    "https://codeforces.com/contest/313/problem/B\n",
    "https://codeforces.com/contest/276/problem/C\n",
    "https://codeforces.com/contest/295/problem/A\n",
    "https://codeforces.com/gym/105231/problem/H\n",
    "https://cses.fi/problemset/task/1661\n",
    "https://codeforces.com/contest/1826/problem/D\n",
    "https://leetcode.com/problems/sliding-window-maximum/description/\n",
    "https://cses.fi/problemset/task/1076\n",
    "https://cses.fi/problemset/task/1644\n",
    "https://cses.fi/problemset/task/1645\n",
    "https://codeforces.com/edu/course/2/lesson/9/1/practice/contest/307092/problem/A\n",
    "https://cses.fi/problemset/task/1640\n",
    "https://cses.fi/problemset/task/1641\n",
    "https://cses.fi/problemset/task/1660\n",
    "https://cses.fi/problemset/task/1661\n",
    "https://codeforces.com/edu/course/2/lesson/9/2/practice/contest/307093/problem/E\n",
    "https://codeforces.com/edu/course/2/lesson/9/2/practice/contest/307093/problem/F"
   ]
  },
  {
   "cell_type": "code",
   "execution_count": 8,
   "id": "e85c7730",
   "metadata": {},
   "outputs": [
    {
     "name": "stdout",
     "output_type": "stream",
     "text": [
      "1\n",
      "1\n",
      "2\n",
      "2\n",
      "0\n"
     ]
    }
   ],
   "source": [
    "s = input()\n",
    "m = int(input())\n",
    "\n",
    "prefix = [0]*len(s)\n",
    "\n",
    "for i in range(1, len(s)):\n",
    "    prefix[i] = prefix[i-1]\n",
    "    if s[i-1] == s[i]:\n",
    "        prefix[i] += 1\n",
    "    \n",
    "for _ in range(m):\n",
    "    l, r = map(int, input().split())\n",
    "    print(prefix[r-1] - prefix[l-1])"
   ]
  },
  {
   "cell_type": "code",
   "execution_count": null,
   "id": "d73ab22d",
   "metadata": {},
   "outputs": [
    {
     "name": "stdout",
     "output_type": "stream",
     "text": [
      "[5, 4, 3, 2, 1]\n",
      "[5, 4, 3, 2, 1]\n",
      "[5, 4]\n",
      "[5, 4]\n",
      "[5, 9, 12, 0, 0]\n",
      "33\n"
     ]
    }
   ],
   "source": [
    "n, q = map(int, input().split())\n",
    "arr = list(map(int, input().split()))\n",
    "arr.sort(reverse=True)\n",
    "max = 0\n",
    "prefix = [0]*n\n",
    "# print(arr)\n",
    "for i in range(q):\n",
    "    l, r = map(int, input().split())\n",
    "    # prefix[i] = prefix[i-1] + arr[i]\n",
    "    # print(arr[:r-l+1:])\n",
    "    # print(sum(arr[:r-l:]))\n",
    "    max += sum(arr[:r-l+1:])\n",
    "# print(prefix)\n",
    "print(max)\n"
   ]
  },
  {
   "cell_type": "code",
   "execution_count": null,
   "id": "1d22abee",
   "metadata": {},
   "outputs": [],
   "source": [
    "n, m, k = map(int, input().split())\n",
    "arr = list(map(int, input().split()))\n",
    "op = {k:None for k in range(1, m+1)}\n",
    "for i in range(1, m+1):\n",
    "    op[i] = list(map(int, input().split()))\n",
    "\n",
    "for i in range(k):\n",
    "    x, y = tuple(map(int, input().split()))\n",
    "    "
   ]
  }
 ],
 "metadata": {
  "kernelspec": {
   "display_name": "base",
   "language": "python",
   "name": "python3"
  },
  "language_info": {
   "codemirror_mode": {
    "name": "ipython",
    "version": 3
   },
   "file_extension": ".py",
   "mimetype": "text/x-python",
   "name": "python",
   "nbconvert_exporter": "python",
   "pygments_lexer": "ipython3",
   "version": "3.11.4"
  }
 },
 "nbformat": 4,
 "nbformat_minor": 5
}
