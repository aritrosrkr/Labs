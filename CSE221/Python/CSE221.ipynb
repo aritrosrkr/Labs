{
 "cells": [
  {
   "cell_type": "markdown",
   "metadata": {},
   "source": [
    "# Final"
   ]
  },
  {
   "cell_type": "markdown",
   "metadata": {},
   "source": [
    "### Graph"
   ]
  },
  {
   "cell_type": "code",
   "execution_count": 51,
   "metadata": {},
   "outputs": [
    {
     "ename": "TypeError",
     "evalue": "'vertex' object is not iterable",
     "output_type": "error",
     "traceback": [
      "\u001b[1;31m---------------------------------------------------------------------------\u001b[0m",
      "\u001b[1;31mTypeError\u001b[0m                                 Traceback (most recent call last)",
      "Cell \u001b[1;32mIn[51], line 43\u001b[0m\n\u001b[0;32m     40\u001b[0m     graph[u]\u001b[38;5;241m.\u001b[39mchild\u001b[38;5;241m.\u001b[39mappend(graph[v])\n\u001b[0;32m     41\u001b[0m     graph[v]\u001b[38;5;241m.\u001b[39mchild\u001b[38;5;241m.\u001b[39mappend(graph[u])\n\u001b[1;32m---> 43\u001b[0m \u001b[38;5;28mprint\u001b[39m(bfs(graph, \u001b[38;5;241m1\u001b[39m))\n",
      "Cell \u001b[1;32mIn[51], line 24\u001b[0m, in \u001b[0;36mbfs\u001b[1;34m(G, s)\u001b[0m\n\u001b[0;32m     22\u001b[0m u \u001b[38;5;241m=\u001b[39m Q\u001b[38;5;241m.\u001b[39mpop(\u001b[38;5;241m0\u001b[39m)\n\u001b[0;32m     23\u001b[0m traversal\u001b[38;5;241m.\u001b[39mappend(u)\n\u001b[1;32m---> 24\u001b[0m \u001b[38;5;28;01mfor\u001b[39;00m v \u001b[38;5;129;01min\u001b[39;00m G[u]:\n\u001b[0;32m     25\u001b[0m     \u001b[38;5;28;01mif\u001b[39;00m color[v] \u001b[38;5;241m==\u001b[39m \u001b[38;5;124m'\u001b[39m\u001b[38;5;124mWHITE\u001b[39m\u001b[38;5;124m'\u001b[39m:\n\u001b[0;32m     26\u001b[0m         color[v] \u001b[38;5;241m=\u001b[39m \u001b[38;5;124m'\u001b[39m\u001b[38;5;124mGREY\u001b[39m\u001b[38;5;124m'\u001b[39m\n",
      "\u001b[1;31mTypeError\u001b[0m: 'vertex' object is not iterable"
     ]
    }
   ],
   "source": [
    "# BFS Traversal\n",
    "class vertex:\n",
    "    def __init__(self, key):\n",
    "        self.key = key\n",
    "        self.child = []\n",
    "        self.visited = False\n",
    "        self.color = 'WHITE'\n",
    "        self.d = float('inf')\n",
    "        self.p = None\n",
    "\n",
    "def bfs(G, s):\n",
    "    traversal = []\n",
    "    color = {node: 'WHITE' for node in graph}\n",
    "    dist = {node: float('inf') for node in graph}\n",
    "    prnt = {node: None for node in graph}\n",
    "    \n",
    "    Q = [s]\n",
    "    color[s] = 'GREY'\n",
    "    dist[s] = 0\n",
    "    \n",
    "    while Q:\n",
    "        u = Q.pop(0)\n",
    "        traversal.append(u)\n",
    "        for v in G[u]:\n",
    "            if color[v] == 'WHITE':\n",
    "                color[v] = 'GREY'\n",
    "                dist[v] = dist[u] + 1\n",
    "                prnt[v] = u\n",
    "                Q.append(v)\n",
    "        color[u] = 'BLACK'\n",
    "    return traversal\n",
    "\n",
    "################## INPUT ##################\n",
    "graph = {}\n",
    "for i in range(1, 8):\n",
    "    graph[i] = vertex(i)\n",
    "\n",
    "edges = [(1, 2), (1, 3), (2, 4), (3, 4), (3, 7), (4, 5), (4, 6)]\n",
    "for u, v in edges:\n",
    "    graph[u].child.append(graph[v])\n",
    "    graph[v].child.append(graph[u])\n",
    "\n",
    "print(bfs(graph, 1))"
   ]
  },
  {
   "cell_type": "code",
   "execution_count": 43,
   "metadata": {},
   "outputs": [
    {
     "name": "stdout",
     "output_type": "stream",
     "text": [
      "[1, 2, 3, 4, 5, 6, 7]\n"
     ]
    }
   ],
   "source": [
    "# DFS Traversal\n",
    "class vertex:\n",
    "    def __init__(self, key):\n",
    "        self.key = key\n",
    "        self.child = []\n",
    "        self.visited = False\n",
    "        self.color = 'WHITE'\n",
    "        self.d = None\n",
    "        self.f = None\n",
    "        self.p = None\n",
    "     \n",
    "time = 0\n",
    "traversal = []   \n",
    "def dfs_visit(u):\n",
    "    global time\n",
    "    \n",
    "    traversal.append(u)\n",
    "    time += 1\n",
    "    u.color = 'GREY'\n",
    "    u.d = time\n",
    "    for v in u.child:\n",
    "        if v.color == 'WHITE':\n",
    "            dfs_visit(v)\n",
    "    u.color = 'BLACK'\n",
    "    u.f = time\n",
    "\n",
    "def dfs(G):\n",
    "    global time\n",
    "    time = 0\n",
    "    for u in G:\n",
    "        if G[u].color == 'WHITE':\n",
    "            dfs_visit(G[u])\n",
    "    return traversal\n",
    "\n",
    "################## INPUT ##################\n",
    "graph = {}\n",
    "for i in range(1, 8):\n",
    "    graph[i] = vertex(i)\n",
    "\n",
    "edges = [(1, 2), (1, 3), (2, 4), (3, 4), (3, 7), (4, 5), (4, 6)]\n",
    "for u, v in edges:\n",
    "    graph[u].child.append(graph[v])\n",
    "    graph[v].child.append(graph[u])\n",
    "    \n",
    "dfs(graph)\n",
    "print([graph[u].key for u in graph])"
   ]
  },
  {
   "cell_type": "code",
   "execution_count": null,
   "metadata": {},
   "outputs": [
    {
     "name": "stdout",
     "output_type": "stream",
     "text": [
      "[0, 3, 2, 1, 1]\n"
     ]
    }
   ],
   "source": [
    "# Iterative DFS\n",
    "def dfs(G, s):\n",
    "    traversal = []\n",
    "    color = {k: 'WHITE' for k in range(len(G))}\n",
    "    S = [s]\n",
    "    while S:\n",
    "        u = S.pop()\n",
    "        if color[u] == 'WHITE':\n",
    "            color[u] = 'GREY'\n",
    "            traversal.append(u)\n",
    "            for v in G[u]:\n",
    "                if color[v] == 'WHITE':\n",
    "                    S.append(v)\n",
    "            color[u] = 'BLACK'\n",
    "    return traversal\n",
    "\n",
    "################## INPUT ##################\n",
    "G = {\n",
    "    0: [1, 3],\n",
    "    1: [0, 2],\n",
    "    2: [1, 3],\n",
    "    3: [0, 2]\n",
    "}\n",
    "\n",
    "print(dfs(G, 0))"
   ]
  },
  {
   "cell_type": "code",
   "execution_count": null,
   "metadata": {},
   "outputs": [],
   "source": [
    "# Possible Paths DFS\n",
    "def possible_paths(edges, n, start, destination):\n",
    "    graph = {k:[] for k in range(n)}\n",
    "    for u,v in edges:\n",
    "        graph[u].append(v)\n",
    "            \n",
    "    def dfs(G, u, s = start, d = destination):\n",
    "        if u == d:\n",
    "            return 1                # Each time destination is reached,\n",
    "        paths = 0\n",
    "        for v in G[u]:\n",
    "            paths += dfs(G, v)      # 1 is returned here and added to paths\n",
    "        return paths\n",
    "        \n",
    "    return dfs(graph, 0)"
   ]
  },
  {
   "cell_type": "code",
   "execution_count": 111,
   "metadata": {},
   "outputs": [
    {
     "name": "stdout",
     "output_type": "stream",
     "text": [
      "0\n",
      "1\n"
     ]
    }
   ],
   "source": [
    "def minimumStep (n):\n",
    "    length = 0\n",
    "    while n > 1:\n",
    "        if n % 3 != 0:\n",
    "            print('e')\n",
    "            n = n-1\n",
    "        else:\n",
    "            n = n % 3\n",
    "        print(n)\n",
    "        length += 1\n",
    "    print(length)\n",
    "\n",
    "minimumStep(9)"
   ]
  },
  {
   "cell_type": "code",
   "execution_count": null,
   "metadata": {},
   "outputs": [
    {
     "name": "stdout",
     "output_type": "stream",
     "text": [
      "False\n"
     ]
    }
   ],
   "source": [
    "# Bipartite Check\n",
    "from collections import deque\n",
    "\n",
    "def check_bipartite(G, s):\n",
    "    color = {k: None for k in G}\n",
    "    color[s] = 0\n",
    "    Q = deque([s])\n",
    "    while Q:\n",
    "        u = Q.popleft()\n",
    "        for v in G[u]:\n",
    "            if color[v] == None:\n",
    "                color[v] = 1 - color[u]\n",
    "                Q.append(v)\n",
    "            elif color[u] == color[v]:\n",
    "                return False\n",
    "    return True\n",
    "\n",
    "G = {\n",
    "    0: [1, 3],\n",
    "    1: [0, 2],\n",
    "    2: [1, 3],\n",
    "    3: [0, 2]\n",
    "}\n",
    "\n",
    "print(check_bipartite(G, 0))"
   ]
  },
  {
   "cell_type": "code",
   "execution_count": null,
   "metadata": {},
   "outputs": [
    {
     "name": "stdout",
     "output_type": "stream",
     "text": [
      "{1: <__main__.vertex object at 0x00000193BC1F4290>, 2: <__main__.vertex object at 0x00000193BC1F5850>, 3: <__main__.vertex object at 0x00000193BC1F4E10>, 4: <__main__.vertex object at 0x00000193BC204B10>, 5: <__main__.vertex object at 0x00000193BC2044D0>, 6: <__main__.vertex object at 0x00000193BC207E50>, 7: <__main__.vertex object at 0x00000193BC206B90>}\n",
      "3\n",
      "[1, 2, 4, 6]\n"
     ]
    }
   ],
   "source": [
    "# Shortest Path BFS\n",
    "graph = {}\n",
    "for i in range(1, 8):\n",
    "    graph[i] = vertex(i)\n",
    "\n",
    "edges = [(1, 2), (1, 3), (2, 4), (3, 4), (3, 7), (4, 5), (4, 6)]\n",
    "for u, v in edges:\n",
    "    graph[u].child.append(graph[v])     # Directed\n",
    "    graph[v].child.append(graph[u])     # Undirected\n",
    "\n",
    "print(graph)\n",
    "def shortest_path(G, u_key, v_key):\n",
    "    u = G[u_key]\n",
    "    v = G[v_key]\n",
    "    cur = v\n",
    "    d = 0\n",
    "    path = []\n",
    "    while cur:\n",
    "        path.append(cur.key)\n",
    "        if cur == u:\n",
    "            break\n",
    "        cur = cur.p\n",
    "        d += 1\n",
    "    if path[-1] != u_key:\n",
    "        return 'No path'\n",
    "    \n",
    "    path.reverse()\n",
    "    print(d)\n",
    "    print(path)\n",
    "\n",
    "bfs(graph, 1)\n",
    "shortest_path(graph, 1, 6)"
   ]
  },
  {
   "cell_type": "code",
   "execution_count": null,
   "metadata": {},
   "outputs": [
    {
     "name": "stdout",
     "output_type": "stream",
     "text": [
      "[1, 4, 5, 0, 2, 3]\n"
     ]
    }
   ],
   "source": [
    "# Topological Sort (Recursive)\n",
    "ans = []\n",
    "visited = [False]*N\n",
    "\n",
    "N = 6\n",
    "graph = {\n",
    "    0: [2, 3],\n",
    "    1: [3, 4],\n",
    "    2: [3],\n",
    "    3: [],\n",
    "    4: [5],\n",
    "    5: []\n",
    "}\n",
    "\n",
    "def dfs(v):\n",
    "    visited[v] = True\n",
    "    for u in graph[v]:\n",
    "        if visited[u] == False:\n",
    "            dfs(u)\n",
    "    ans.append(v)       # Appending AFTER fully explored\n",
    "    \n",
    "def topological_sort():\n",
    "    for i in range(N):\n",
    "        if visited[i] == False:\n",
    "            dfs(i)\n",
    "    ans.reverse()\n",
    "    return ans\n",
    "\n",
    "print(topological_sort())"
   ]
  },
  {
   "cell_type": "code",
   "execution_count": null,
   "metadata": {},
   "outputs": [
    {
     "name": "stdout",
     "output_type": "stream",
     "text": [
      "[1, 4, 5, 0, 2, 3]\n"
     ]
    }
   ],
   "source": [
    "# Topological Sort (Iterative)\n",
    "def topological_sort(G, s):\n",
    "    global ans, visited\n",
    "    processed = [False]*len(G)\n",
    "    S = [s]\n",
    "    while S:\n",
    "        u = S.pop()\n",
    "        if processed[u]:            # Add the vertex ONLY AFTER all adjacents are explored\n",
    "            ans.append(u)\n",
    "\n",
    "        elif not visited[u]:\n",
    "            visited[u] = True\n",
    "            S.append(u)             # We append u again so that, its adjacents may be fully\n",
    "            for v in G[u]:          # processed before processing u\n",
    "                if not visited[v]:  # Stack: Top > v2 > v1 > u\n",
    "                    S.append(v)\n",
    "            processed[u] = True     # Mainly, processed indicates if we have pushed the\n",
    "                                    # adjacents of u into the stack (v1, v2, ...) of u\n",
    "    return ans\n",
    "\n",
    "N = 6\n",
    "graph = {\n",
    "    0: [2, 3],\n",
    "    1: [3, 4],\n",
    "    2: [3],\n",
    "    3: [],\n",
    "    4: [5],\n",
    "    5: []\n",
    "}\n",
    "\n",
    "ans = []\n",
    "visited = {k:[] for k in range(N)}\n",
    "for v in graph:\n",
    "    if v not in ans:\n",
    "        topological_sort(graph, v)\n",
    "ans.reverse()  \n",
    "print(ans)"
   ]
  },
  {
   "cell_type": "code",
   "execution_count": 3,
   "metadata": {},
   "outputs": [
    {
     "name": "stdout",
     "output_type": "stream",
     "text": [
      "{0: [2], 1: [0, 3], 2: [1, 3, 4], 3: [4, 5], 4: [], 5: [1]}\n",
      "[[4], [0, 2, 1, 3, 5]]\n"
     ]
    }
   ],
   "source": [
    "# Strongly Connected Components (Kosaraju)\n",
    "N = 6\n",
    "graph = {\n",
    "    0: [1],\n",
    "    1: [2, 5],\n",
    "    2: [0],\n",
    "    3: [1, 2],\n",
    "    4: [2, 3],\n",
    "    5: [3]\n",
    "}\n",
    "\n",
    "time = 0\n",
    "d = {k : 0 for k in graph}\n",
    "f = {k : 0 for k in graph}\n",
    "visited = {k : False for k in graph}\n",
    "\n",
    "# # # # # # # # # # # # # # # # # # #\n",
    "def dfs(G, u):                      #\n",
    "    global time, d, f, visited      #\n",
    "    visited[u] = True               #\n",
    "    time += 1                       #\n",
    "    d[u] = time                     #\n",
    "    for v in G[u]:                  #\n",
    "        if not visited[v]:          #\n",
    "            dfs(G, v)               #\n",
    "    time += 1                       #\n",
    "    f[u] = time                     #\n",
    "# # # # # # # # # # # # # # # # # # #\n",
    "\n",
    "# # # # # # # # # # # # # # # # # # #\n",
    "def transpose(G):                   #\n",
    "    Gt = {k:[] for k in G}          #\n",
    "    for k,v in G.items():           #\n",
    "        for u in v:                 #\n",
    "            Gt[u].append(k)         #\n",
    "    print(Gt)                       #\n",
    "    return Gt                       #\n",
    "# # # # # # # # # # # # # # # # # # #\n",
    "    \n",
    "# # # # # # # # # # # # # # # # # # #\n",
    "def collect_scc(G, u, scc):         #\n",
    "    visited[u] = True               #\n",
    "    scc.append(u)                   #\n",
    "    for v in G[u]:                  #\n",
    "        if not visited[v]:          #\n",
    "            collect_scc(G, v, scc)  #\n",
    "# # # # # # # # # # # # # # # # # # #\n",
    "\n",
    "def find_scc(G):\n",
    "    global time, d, f, visited\n",
    "    for i in G:                     # First STep: Perform DFS on graph, G\n",
    "        if not visited[i]:          #\n",
    "            dfs(G, i)               #\n",
    "\n",
    "    Gt = transpose(G)               # Second Step: Transpose the graph, G\n",
    "\n",
    "    sorted_f = sorted(f.items(), key = lambda item: item[1], reverse = True)\n",
    "    visited = {k : False for k in G}\n",
    "    sccs = []\n",
    "   \n",
    "    for u in sorted_f:              # Third Step: Perform DFS on Gt,\n",
    "        if not visited[u[0]]:       # based on descending order of f\n",
    "            scc = []\n",
    "            collect_scc(Gt, u[0], scc)\n",
    "            sccs.append(scc)\n",
    "    return sccs\n",
    "\n",
    "print(find_scc(graph))"
   ]
  },
  {
   "cell_type": "markdown",
   "metadata": {},
   "source": [
    "### Greedy Algorithms"
   ]
  },
  {
   "cell_type": "code",
   "execution_count": null,
   "metadata": {},
   "outputs": [],
   "source": [
    "# Dijkstra Algorithm\n",
    "import heapq\n",
    "\n",
    "def dijkstra(G, s):\n",
    "    distance = {k:float('inf') for k in G}\n",
    "    parent = {k:None for k in G}\n",
    "    Q = []\n",
    "    \n",
    "    distance[s] = 0\n",
    "    heapq.heappush(Q, s)\n",
    "    while Q:\n",
    "        u = heapq.heappop(Q)\n",
    "        for v in G[u]:\n",
    "            if distance[u] + w[u, v] < distance[v]:\n",
    "                distance[v] = distance[u] + w[u, v]\n",
    "                parent[v] = u\n",
    "    \n",
    "    return"
   ]
  },
  {
   "cell_type": "code",
   "execution_count": null,
   "metadata": {},
   "outputs": [],
   "source": [
    "class DisjointSet:\n",
    "    def __init__(self, n):\n",
    "        self.parent = list(range(n))\n",
    "        self.size = [1] * n\n",
    " \n",
    "    def find(self, x):\n",
    "        if self.parent[x] != x:\n",
    "            self.parent[x] = self.find(self.parent[x])\n",
    "        return self.parent[x]\n",
    " \n",
    "    def unite(self, x, y):\n",
    "        x_par = self.find(x)\n",
    "        y_par = self.find(y)\n",
    "        if x_par == y_par:\n",
    "            return\n",
    "        if self.size[x_par] > self.size[y_par]:\n",
    "            x_par, y_par = y_par, x_par\n",
    "        self.parent[x_par] = y_par\n",
    "        self.size[y_par] += self.size[x_par]\n",
    "        \n",
    "def kruskal(N, edges, skip = None, force = None):\n",
    "    dsu = DisjointSet(N)\n",
    "    total = 0\n",
    "    c = 0\n",
    "    if force != None:\n",
    "        w, u, v = edges[force]\n",
    "        if dsu.unite(u, v):\n",
    "            total += w\n",
    "            c += 1\n",
    "\n",
    "    i = 0\n",
    "    for w, u, v in edges:\n",
    "        if i == skip:\n",
    "            i += 1\n",
    "            continue\n",
    "        if dsu.unite(u, v):\n",
    "            total += w\n",
    "            c += 1\n",
    "            if c == N-1:\n",
    "                break\n",
    "        i += 1\n",
    "    return total if c == N-1 else float('inf')"
   ]
  },
  {
   "cell_type": "markdown",
   "metadata": {},
   "source": [
    "### Dynamic Programming"
   ]
  },
  {
   "cell_type": "markdown",
   "metadata": {},
   "source": [
    "### Previous Questions"
   ]
  },
  {
   "cell_type": "markdown",
   "metadata": {},
   "source": [
    "### Lab"
   ]
  },
  {
   "cell_type": "markdown",
   "metadata": {},
   "source": [
    "#### #1"
   ]
  },
  {
   "cell_type": "code",
   "execution_count": null,
   "metadata": {},
   "outputs": [
    {
     "name": "stdout",
     "output_type": "stream",
     "text": [
      "7 1 2 4 6 5 3 0\n"
     ]
    }
   ],
   "source": [
    "import heapq\n",
    "\n",
    "N, M = map(int, input().split())\n",
    "\n",
    "graph = {k:[] for k in range(N)}\n",
    "in_degree = {k:0 for k in graph}\n",
    "n1 = list(map(int, input().split()))\n",
    "n2 = list(map(int, input().split()))\n",
    "\n",
    "for i in range(M):\n",
    "    graph[n1[i]].append(n2[i])\n",
    "    in_degree[n2[i]] += 1\n",
    "    \n",
    "def kahn_sort(G):\n",
    "    ans = []\n",
    "    Q = []\n",
    "    for v in G:\n",
    "        if in_degree[v] == 0:\n",
    "            heapq.heappush(Q, -v)\n",
    "\n",
    "    while Q:\n",
    "        u = -heapq.heappop(Q)\n",
    "        ans.append(u)\n",
    "        for v in G[u]:\n",
    "            in_degree[v] -= 1\n",
    "            if in_degree[v] == 0:\n",
    "                heapq.heappush(Q, -v)\n",
    "    \n",
    "    if len(ans) == N:\n",
    "        print(*ans)\n",
    "    else:\n",
    "        print(-1)\n",
    "\n",
    "kahn_sort(graph)\n",
    "                "
   ]
  },
  {
   "cell_type": "markdown",
   "metadata": {},
   "source": [
    "#### #2"
   ]
  },
  {
   "cell_type": "code",
   "execution_count": 30,
   "metadata": {},
   "outputs": [
    {
     "name": "stdout",
     "output_type": "stream",
     "text": [
      "e t a\n"
     ]
    }
   ],
   "source": [
    "import heapq\n",
    "\n",
    "N = int(input())\n",
    "graph = {}\n",
    "in_degree = {}\n",
    "words = []\n",
    "chars = set()\n",
    "for _ in range(N):\n",
    "    S = input()\n",
    "    words.append(S)\n",
    "\n",
    "for word in words:\n",
    "    for ch in word:\n",
    "        chars.add(ch)\n",
    "\n",
    "for ch in chars:\n",
    "    graph[ch] = []\n",
    "    in_degree[ch] = 0\n",
    "\n",
    "def kahn_sort(G):\n",
    "    Q = []\n",
    "    ans = []\n",
    "    for v in G:\n",
    "        if in_degree[v] == 0:\n",
    "            heapq.heappush(Q, v)\n",
    "    \n",
    "    while Q:\n",
    "        u = heapq.heappop(Q)\n",
    "        ans.append(u)\n",
    "        for v in G[u]:\n",
    "            in_degree[v] -= 1\n",
    "            if in_degree[v] == 0:\n",
    "                heapq.heappush(Q, v)\n",
    "\n",
    "    if len(ans) == len(G):\n",
    "        print(*ans)\n",
    "    else:\n",
    "        print(-1)\n",
    "\n",
    "valid = True\n",
    "for i in range(1, N):\n",
    "    w2 = words[i]\n",
    "    w1 = words[i-1]\n",
    "    for j in range(min(len(w1), len(w2))):\n",
    "        if w1[j] != w2[j]:\n",
    "            graph[w1[j]].append(w2[j])\n",
    "            in_degree[w2[j]] += 1\n",
    "            found = True\n",
    "            break\n",
    "    if not found and len(w1) > len(w2):\n",
    "        valid = False\n",
    "\n",
    "if valid:\n",
    "    kahn_sort(graph)"
   ]
  },
  {
   "cell_type": "markdown",
   "metadata": {},
   "source": [
    "#### #3"
   ]
  },
  {
   "cell_type": "code",
   "execution_count": 37,
   "metadata": {},
   "outputs": [
    {
     "name": "stdout",
     "output_type": "stream",
     "text": [
      "['.', '.', '.', '.', '.'] ['.', '.', '.', 'W', '.'] ['.', '.', 'W', '.', 'D'] ['.', 'W', '.', 'W', '.'] ['.', '.', '.', '.', '.']\n",
      "15\n",
      "16\n"
     ]
    }
   ],
   "source": [
    "from collections import deque\n",
    "\n",
    "R, H = map(int, input().split())\n",
    "grid = [[] for i in range(R)]\n",
    "pos1 = list(map(int, input().split()))\n",
    "pos2 = list(map(int, input().split()))\n",
    "for i in range(R):\n",
    "    grid[i] = list(input())\n",
    "print(*grid)\n",
    "\n",
    "directions = [(0,1), (0,-1), (-1,0), (1,0)]\n",
    "visited = [[False]*H for i in range(R)]\n",
    "def shortest_path(s):\n",
    "    moves = 0\n",
    "    visited[s[0]][s[1]] = True\n",
    "    Q = deque([s])\n",
    "    while Q:\n",
    "        x, y = Q.popleft()\n",
    "        moves += 1\n",
    "        if grid[x][y] == 'D':\n",
    "            return moves\n",
    "        for i,j in directions:\n",
    "            a,b = x+i, y+j\n",
    "            if 0 <= a < R and 0 <= b < H and not visited[a][b] and grid[a][b] != 'W':\n",
    "                visited[a][b] = True\n",
    "                Q.append((a,b))\n",
    "\n",
    "print(shortest_path(pos1))\n",
    "visited = [[False]*H for i in range(R)]\n",
    "print(shortest_path(pos2))\n",
    "        "
   ]
  },
  {
   "cell_type": "markdown",
   "metadata": {},
   "source": [
    "### Final Questions"
   ]
  },
  {
   "cell_type": "code",
   "execution_count": null,
   "metadata": {},
   "outputs": [
    {
     "name": "stdout",
     "output_type": "stream",
     "text": [
      "Path to task1.txt: Drive->Work->Tasklist->Task1.txt\n",
      "Path to Horror Movies: Drive->other File->Media->Cinema->Horror movies\n"
     ]
    }
   ],
   "source": [
    "from collections import deque\n",
    "\n",
    "graph = {\n",
    "    \"Drive\": [\"Work\", \"Personal\", \"other File\"],\n",
    "    \"Work\": [\"Tasklist\", \"Schedule.xl\"],\n",
    "    \"Tasklist\": [\"Task1.txt\"],\n",
    "    \"Personal\": [\"ToDo list.txt\"],\n",
    "    \"other File\": [\"Media\"],\n",
    "    \"Media\": [\"Songs\", \"Cinema\"],\n",
    "    \"Cinema\": [\"Horror movies\", \"Action Movie\"],\n",
    "    \"Schedule.xl\" : [],\n",
    "    \"Task1.txt\" : [],\n",
    "    \"Action Movie\" : [],\n",
    "    \"ToDo list.txt\" : [],\n",
    "    \"Songs\" : [],\n",
    "    \"Horror movies\" : []\n",
    "}\n",
    "\n",
    "\n",
    "def bfs(G, s, d):\n",
    "    visited = {k:False for k in graph}\n",
    "    visited[s] = True\n",
    "    Q = deque([[s]])\n",
    "    while Q:\n",
    "        path = Q.popleft()\n",
    "        u = path[-1]\n",
    "        if u == d:\n",
    "            return path\n",
    "        for v in G[u]:\n",
    "            if not visited[v]:\n",
    "                visited[v] = True\n",
    "                new = list(path)\n",
    "                new.append(v)\n",
    "                Q.append(new)\n",
    "        visited[u] = True\n",
    "    return []\n",
    "\n",
    "print(\"Path to task1.txt:\", \"->\".join(bfs(graph, \"Drive\", \"Task1.txt\")))\n",
    "print(\"Path to Horror Movies:\", \"->\".join(bfs(graph, \"Drive\", \"Horror movies\")))"
   ]
  },
  {
   "cell_type": "markdown",
   "metadata": {},
   "source": [
    "# Mid"
   ]
  },
  {
   "cell_type": "code",
   "execution_count": 41,
   "metadata": {},
   "outputs": [
    {
     "name": "stdout",
     "output_type": "stream",
     "text": [
      "[2, 3, 5, 7, 11, 13, 19, 23]\n"
     ]
    }
   ],
   "source": [
    "# Merge Sort\n",
    "def mergesort(arr):\n",
    "    if len(arr) > 1:\n",
    "        m = len(arr)//2\n",
    "        a1 = mergesort(arr[:m:])\n",
    "        a2 = mergesort(arr[m::])\n",
    "        return merge(a1, a2)\n",
    "    return arr\n",
    "    \n",
    "def merge(a1, a2):\n",
    "    i = 0\n",
    "    j = 0\n",
    "    arr = []\n",
    "    while i < len(a1) and j < len(a2):\n",
    "        if a1[i] <= a2[j]:\n",
    "            arr.append(a1[i])\n",
    "            i += 1\n",
    "        else:\n",
    "            arr.append(a2[j]) \n",
    "            j += 1\n",
    "    arr += a1[i::]\n",
    "    arr += a2[j::]\n",
    "    return arr\n",
    "\n",
    "arr = [23, 2, 19, 3, 7, 11, 5, 13]\n",
    "print(mergesort(arr))"
   ]
  },
  {
   "cell_type": "code",
   "execution_count": 46,
   "metadata": {},
   "outputs": [
    {
     "name": "stdout",
     "output_type": "stream",
     "text": [
      "43\n",
      "[51, 70, 28, 12, 75, 62, 88, 43]\n",
      "[51, 70, 28, 12, 75, 62, 88, 43]\n",
      "[28, 70, 51, 12, 75, 62, 88, 43]\n",
      "[28, 12, 51, 70, 75, 62, 88, 43]\n",
      "[28, 12, 51, 70, 75, 62, 88, 43]\n",
      "[28, 12, 51, 70, 75, 62, 88, 43]\n",
      "[28, 12, 51, 70, 75, 62, 88, 43]\n",
      "12\n",
      "[28, 12, 43, 70, 75, 62, 88, 51]\n",
      "51\n",
      "[12, 28, 43, 70, 75, 62, 88, 51]\n",
      "[12, 28, 43, 70, 75, 62, 88, 51]\n",
      "[12, 28, 43, 70, 75, 62, 88, 51]\n",
      "[12, 28, 43, 70, 75, 62, 88, 51]\n",
      "70\n",
      "[12, 28, 43, 51, 75, 62, 88, 70]\n",
      "[12, 28, 43, 51, 62, 75, 88, 70]\n",
      "[12, 28, 43, 51, 62, 75, 88, 70]\n",
      "75\n",
      "[12, 28, 43, 51, 62, 70, 88, 75]\n",
      "[12, 28, 43, 51, 62, 70, 75, 88]\n"
     ]
    }
   ],
   "source": [
    "# Quick Sort\n",
    "import random\n",
    "\n",
    "def quicksort(arr, l = 0, r = len(arr) - 1):\n",
    "    if l < r:\n",
    "        piv = partition(arr, l, r)\n",
    "        quicksort(arr, l, piv - 1)\n",
    "        quicksort(arr, piv + 1, r)\n",
    "    return arr\n",
    "\n",
    "# def rand_partition(arr, l, r):\n",
    "#     piv = random.randint(l, r)          #random pivot selection\n",
    "#     arr[piv], arr[r] = arr[r], arr[piv] #swap pivot to end\n",
    "#     return partition(arr, l, r)\n",
    "\n",
    "def partition(arr, l, r):\n",
    "    pivot = arr[r]\n",
    "    print(pivot)\n",
    "    i = l - 1                   #index for smaller item from the left\n",
    "    for j in range(l, r):       #j keeps moving right\n",
    "        if arr[j] <= pivot:     #j is index of larger item from right\n",
    "            i += 1\n",
    "            arr[i], arr[j] = arr[j], arr[i]\n",
    "        print(arr)\n",
    "    arr[i + 1], arr[r] = arr[r], arr[i + 1]\n",
    "    # print(arr)\n",
    "    #swap the pivot from r to (i+1)\n",
    "    #everything left of (i+1) <= pivot\n",
    "    #everything right of (i+1) > pivot\n",
    "    return i + 1 #pivot index\n",
    "\n",
    "arr = [51, 70, 28, 12, 75, 62, 88, 43]\n",
    "print(quicksort(arr))"
   ]
  },
  {
   "cell_type": "code",
   "execution_count": null,
   "metadata": {},
   "outputs": [
    {
     "name": "stdout",
     "output_type": "stream",
     "text": [
      "[2, 3, 5, 7, 11, 13, 19, 23]\n"
     ]
    }
   ],
   "source": [
    "arr = [23, 2, 19, 3, 7, 11, 5, 13]\n",
    "n = len(arr)\n",
    "even_list = [arr[i] for i in range(0, n, 2)]\n",
    "odd_list = [arr[i] for i in range(1, n, 2)]\n",
    "\n",
    "i, j, k = 0, 0, 0\n",
    "while i < len(even_list) and j < len(odd_list):\n",
    "        if even_list[i] < odd_list[j]:\n",
    "            arr[k] = even_list[i]\n",
    "            i += 1\n",
    "        else:\n",
    "            arr[k] = odd_list[j]\n",
    "            j += 1\n",
    "        k += 1\n",
    "\n",
    "while i < len(even_list):\n",
    "        arr[k] = even_list[i]\n",
    "        i += 1\n",
    "        k += 1\n",
    "\n",
    "while j < len(odd_list):\n",
    "        arr[k] = odd_list[j]\n",
    "        j += 1\n",
    "        k += 1\n",
    "\n",
    "print(arr)"
   ]
  },
  {
   "cell_type": "code",
   "execution_count": 31,
   "metadata": {},
   "outputs": [
    {
     "data": {
      "text/plain": [
       "0"
      ]
     },
     "execution_count": 31,
     "metadata": {},
     "output_type": "execute_result"
    }
   ],
   "source": [
    "def sqrt_linear(n):\n",
    "    result = 0\n",
    "    for i in range(1, n):\n",
    "        if i * i > n:\n",
    "            break\n",
    "        result = i\n",
    "        if i * i != n:\n",
    "            return 0\n",
    "    return result\n",
    "\n",
    "sqrt_linear(82)"
   ]
  },
  {
   "cell_type": "code",
   "execution_count": null,
   "metadata": {},
   "outputs": [
    {
     "name": "stdout",
     "output_type": "stream",
     "text": [
      "9\n"
     ]
    }
   ],
   "source": [
    "def find_peak(arr):\n",
    "    low, high = 0, len(arr) - 1\n",
    "    \n",
    "    while low < high:\n",
    "        mid = (low + high) // 2\n",
    "        if arr[mid] > arr[mid + 1]:\n",
    "            high = mid\n",
    "        else:\n",
    "            low = mid + 1\n",
    "    return arr[high]\n",
    "\n",
    "arr = [1, 3, 4, 5, 9, 6, 2, -1]\n",
    "print(find_peak(arr))"
   ]
  },
  {
   "cell_type": "code",
   "execution_count": 15,
   "metadata": {},
   "outputs": [
    {
     "name": "stdout",
     "output_type": "stream",
     "text": [
      "13\n",
      "4\n",
      "13\n",
      "3\n",
      "2\n"
     ]
    }
   ],
   "source": [
    "arr = [1, 2, 13, 13, 13, 56, 56, 56, 56, 89]\n",
    "upper = len(arr) - 1\n",
    "lower = 0\n",
    "target = 13\n",
    "ind = None\n",
    "while lower <= upper:\n",
    "    mid = (upper + lower)//2\n",
    "    if arr[mid] < target:\n",
    "        lower = mid + 1\n",
    "    elif arr[mid] > target:\n",
    "        upper = mid - 1\n",
    "    else:\n",
    "        if arr[mid - 1] == target:\n",
    "            lower = mid - 1\n",
    "            upper = mid\n",
    "        else:\n",
    "            ind = mid\n",
    "            break\n",
    "    print(arr[mid])\n",
    "    print(mid)\n",
    "print(ind)"
   ]
  },
  {
   "cell_type": "code",
   "execution_count": null,
   "metadata": {},
   "outputs": [
    {
     "name": "stdout",
     "output_type": "stream",
     "text": [
      "[5, 6, 7, 11, 12, 13]\n"
     ]
    }
   ],
   "source": [
    "def merge_sort(arr, l, r ):\n",
    "    if l < r:\n",
    "        m = (l+r)//2\n",
    "        merge_sort(arr, l, m)\n",
    "        merge_sort(arr, m+1, r)\n",
    "        merge(arr, l, m, r)\n",
    "\n",
    "def merge(arr, l, m, r):\n",
    "    L = arr[l:m+1]\n",
    "    R = arr[m+1:r+1]\n",
    "    i = 0\n",
    "    j = 0\n",
    "    k = l\n",
    "    while i < len(L) and j < len(R):\n",
    "        if L[i] <= R[j]:\n",
    "            arr[k] = L[i]\n",
    "            i += 1\n",
    "        else:\n",
    "            arr[k] = R[j]\n",
    "            j += 1\n",
    "        k += 1\n",
    "    \n",
    "    while i < len(L):\n",
    "        arr[k] = L[i]\n",
    "        i += 1\n",
    "        k += 1\n",
    "\n",
    "    while j < len(R):\n",
    "        arr[k] = R[j]\n",
    "        j += 1\n",
    "        k += 1\n",
    "        \n",
    "arr = [12, 11, 13, 5, 6, 7]\n",
    "merge_sort(arr, 0, len(arr) - 1)\n",
    "print(arr)"
   ]
  },
  {
   "cell_type": "code",
   "execution_count": null,
   "metadata": {},
   "outputs": [
    {
     "name": "stdout",
     "output_type": "stream",
     "text": [
      "37\n"
     ]
    }
   ],
   "source": [
    "def max_pair_value(A, l, r):\n",
    "    if l == r:\n",
    "        return float('-inf')\n",
    "\n",
    "    if r - l == 1:\n",
    "        return A[l] + A[r]**2\n",
    "\n",
    "    mid = (l + r) // 2\n",
    "\n",
    "    left_best = max_pair_value(A, l, mid)\n",
    "    right_best = max_pair_value(A, mid + 1, r)\n",
    "\n",
    "    minA = min(A[l:mid + 1])\n",
    "    maxA = max(A[mid + 1:r + 1])\n",
    "    cross_best = minA + maxA**2\n",
    "\n",
    "    return max(left_best, right_best, cross_best)\n",
    "\n",
    "N = int(input())\n",
    "A = list(map(int, input().split()))\n",
    "\n",
    "result = max_pair_value(A, 0, N - 1)\n",
    "print(result)"
   ]
  },
  {
   "cell_type": "markdown",
   "metadata": {},
   "source": [
    "## Sorting Lab"
   ]
  },
  {
   "cell_type": "code",
   "execution_count": null,
   "metadata": {},
   "outputs": [
    {
     "name": "stdout",
     "output_type": "stream",
     "text": [
      "[-15, 17, 23, 34, 42, 50, 67, 78, 89, 910]\n",
      "8\n"
     ]
    }
   ],
   "source": [
    "N = int(input())\n",
    "arr = list(map(int, input().split(' ')))\n",
    "swaps = 0\n",
    "for i in range(N):\n",
    "    ind = i\n",
    "    least = arr[i]\n",
    "    for j in range(i, N):\n",
    "        if arr[j] < least:\n",
    "            least = arr[j]\n",
    "            ind = j\n",
    "    if ind != i:\n",
    "        arr[ind], arr[i] = arr[i], arr[ind]\n",
    "        swaps += 1\n",
    "print(arr)\n",
    "print(swaps)\n",
    "#-2 8 32 128 4 16 64\n",
    "# 17 42 89 23 67 -15 78 910 34 50\n"
   ]
  },
  {
   "cell_type": "code",
   "execution_count": 33,
   "metadata": {},
   "outputs": [
    {
     "name": "stdout",
     "output_type": "stream",
     "text": [
      "Impossible\n",
      "[910]\n",
      "[17, 42, 50, 34, 89, 23, 67, -15, 78]\n"
     ]
    }
   ],
   "source": [
    "Arr = [-2, 8, 16, 32, 128, 64, 16, 4]\n",
    "Arr = [17, 42, 89, 23, 67, -15, 78, 910, 34, 50]\n",
    "Brr = []\n",
    "for i in range(len(Arr)):\n",
    "    if len(Arr) > 1:\n",
    "        if Arr[0] < Arr[-1]:\n",
    "            x = Arr[0]\n",
    "            Arr.remove(x)\n",
    "        else:\n",
    "            x = Arr[-1]\n",
    "            Arr.remove(x)\n",
    "        Brr.append(x)\n",
    "\n",
    "for i in range(len(Brr)-1):\n",
    "    if Brr[i] > Brr[i+1]:\n",
    "        print('Impossible')\n",
    "        break\n",
    "print(Arr)\n",
    "print(Brr) "
   ]
  },
  {
   "cell_type": "code",
   "execution_count": 35,
   "metadata": {},
   "outputs": [
    {
     "name": "stdout",
     "output_type": "stream",
     "text": [
      "[-2, 4, 4, 8, 16, 32, 64, 128]\n"
     ]
    }
   ],
   "source": [
    "N = int(input())\n",
    "arr = list(map(int, input().split(' ')))\n",
    "for i in range(N):\n",
    "    ind = i\n",
    "    least = arr[i]\n",
    "    for j in range(i, N):\n",
    "        if (i%2==0 and j%2==0) or (i%2!=0 and j%2!=0):\n",
    "            if arr[j] < least:\n",
    "                ind = j\n",
    "                least = arr[j]\n",
    "    if ind != i:\n",
    "        arr[ind], arr[i] = arr[i], arr[ind]\n",
    "\n",
    "for i in range(len(arr)-1):\n",
    "    if arr[i] > arr[i+1]:\n",
    "        print('Impossible')\n",
    "        break\n",
    "print(arr)"
   ]
  },
  {
   "cell_type": "code",
   "execution_count": 44,
   "metadata": {},
   "outputs": [
    {
     "name": "stdout",
     "output_type": "stream",
     "text": [
      "14 11 10 8 0\n"
     ]
    }
   ],
   "source": [
    "N, M = tuple(map(int, input().split()))\n",
    "arr = list(map(int, input().split()))\n",
    "list0 = []\n",
    "for i in range(M-1, -1, -1):\n",
    "    if i not in arr:\n",
    "        list0.append(i)\n",
    "print(' '.join(list(map(str, list0))))\n"
   ]
  },
  {
   "cell_type": "code",
   "execution_count": null,
   "metadata": {},
   "outputs": [
    {
     "name": "stdout",
     "output_type": "stream",
     "text": [
      "5 4 2 1 3\n"
     ]
    }
   ],
   "source": [
    "N, M = tuple(map(int, input().split()))\n",
    "arr = list(map(int, input().split()))\n",
    "list0 = []             \n",
    "for i in range(1, N):\n",
    "    key = arr[i]\n",
    "    j = i - 1\n",
    "    if key > M:\n",
    "        while j >= 0 and arr[j] < key:\n",
    "            arr[j+1] = arr[j]\n",
    "            j -= 1\n",
    "        arr[j+1] = key\n",
    "print(' '.join(map(str, arr)))"
   ]
  },
  {
   "cell_type": "code",
   "execution_count": 65,
   "metadata": {},
   "outputs": [
    {
     "name": "stdout",
     "output_type": "stream",
     "text": [
      "[1, 2, 3, 4, 5]\n",
      "[4, 5]\n",
      "[1, 2]\n",
      "6\n"
     ]
    }
   ],
   "source": [
    "N, M = tuple(map(int, input().split()))\n",
    "arr = list(map(int, input().split()))\n",
    "for i in range(N):\n",
    "    for j in range(i+1, N):\n",
    "        if arr[i] > arr[j]:\n",
    "            arr[i], arr[j] = arr[j], arr[i]\n",
    "print(arr)\n",
    "print(arr[M::])\n",
    "print(arr[:M-1:])\n",
    "print(sum(arr[M::]) - sum(arr[:M-1:]))"
   ]
  },
  {
   "cell_type": "markdown",
   "metadata": {},
   "source": [
    "## Two Pointer Lab / Searching"
   ]
  },
  {
   "cell_type": "markdown",
   "metadata": {},
   "source": [
    "### 1"
   ]
  },
  {
   "cell_type": "markdown",
   "metadata": {},
   "source": [
    "#### Problem Statement\n",
    "\n",
    "**Problem Proposed/Prepared by: ASD**  \n",
    "\n",
    "Imagine a path that has been paved with shades of light and dark tiles. Each tile’s color can be either a dark shade or a light shade. You need to find out the **minimum number of light tiles to be replaced by dark tiles** so that there exists **k consecutive dark tiles** in the path.\n",
    "\n",
    "#### Input\n",
    "\n",
    "- The first line of input consists of a single integer `n` denoting the number of tiles in the path.\n",
    "- The second line consists of `n` space-separated integers. The integers will be either `1` or `0`.  \n",
    "  - `1` means a **light** tile.\n",
    "  - `0` means a **dark** tile.\n",
    "- The third line of input consists of a single integer `k` denoting the number of consecutive dark tiles that must exist in the path.\n",
    "\n",
    "#### Output\n",
    "\n",
    "- Output consists of a single integer denoting the **minimum number of light tiles** that need to be replaced with dark tiles.\n",
    "- If the path already contains `k` consecutive dark tiles, then the answer is **0**.\n",
    "\n",
    "#### Sample Input 1\n",
    "```plaintext\n",
    "5\n",
    "1 0 1 0 1\n",
    "3"
   ]
  },
  {
   "cell_type": "code",
   "execution_count": null,
   "metadata": {},
   "outputs": [
    {
     "name": "stdout",
     "output_type": "stream",
     "text": [
      "['0', '0', '1']\n",
      "1\n",
      "['0', '1', '0']\n",
      "2\n",
      "['1', '0', '1']\n",
      "1\n"
     ]
    }
   ],
   "source": [
    "n = int(input())\n",
    "tiles = input()\n",
    "k = int(input())\n",
    "\n",
    "i = 0\n",
    "j = k\n",
    "count = 0\n",
    "\n",
    "arr = list(map(str, tiles[i:j:]))\n",
    "print(arr)\n",
    "for x in range(len(arr)):\n",
    "    if arr[x] == '1':\n",
    "        count += 1\n",
    "\n",
    "least = count\n",
    "while i < n and j < n:\n",
    "    if tiles[i] == '1':\n",
    "        count -= 1\n",
    "    if tiles[j] == '1':\n",
    "        count += 1\n",
    "    if count < least:\n",
    "        least = count\n",
    "    arr.remove(tiles[i])\n",
    "    arr.append(tiles[j])\n",
    "    i += 1\n",
    "    j += 1\n",
    "    print(count)\n",
    "    print(arr)\n",
    "    \n",
    "print(least)"
   ]
  },
  {
   "cell_type": "markdown",
   "metadata": {},
   "source": [
    "### 2"
   ]
  },
  {
   "cell_type": "code",
   "execution_count": null,
   "metadata": {},
   "outputs": [
    {
     "name": "stdout",
     "output_type": "stream",
     "text": [
      "[1, 2, 2, 3, 4, 5, 7, 8]\n",
      "4\n"
     ]
    }
   ],
   "source": [
    "N= int(input())\n",
    "arr_N = list(map(int, input().split()))\n",
    "\n",
    "M = int(input())\n",
    "arr_M = list(map(int, input().split()))\n",
    "\n",
    "k = int(input())\n",
    "ind = 1\n",
    "\n",
    "arr = []\n",
    "\n",
    "i = 0\n",
    "j = 0\n",
    "while i < N and j < M:\n",
    "    if arr_N[i] < arr_M[j]:\n",
    "        arr.append(arr_N[i])\n",
    "        i += 1\n",
    "    elif arr_M[j] < arr_N[i]:\n",
    "        arr.append(arr_M[j])\n",
    "        j += 1\n",
    "arr += arr_N[i::] + arr_M[j::]\n",
    "\n",
    "print(arr)\n",
    "print(arr[k-1])"
   ]
  },
  {
   "cell_type": "markdown",
   "metadata": {},
   "source": [
    "### 3"
   ]
  },
  {
   "cell_type": "code",
   "execution_count": null,
   "metadata": {},
   "outputs": [
    {
     "name": "stdout",
     "output_type": "stream",
     "text": [
      "[1, 2, 2, 3, 4, 5, 7, 8, 15]\n",
      "[1, 1, 2, 2, 3, 4, 5, 7, 7, 8, 9, 10, 15]\n"
     ]
    }
   ],
   "source": [
    "U = int(input())\n",
    "arr_U = list(map(int, input().split()))\n",
    "\n",
    "V = int(input())\n",
    "arr_V = list(map(int, input().split()))\n",
    "\n",
    "W = int(input())\n",
    "arr_W = list(map(int, input().split()))\n",
    "\n",
    "arr = []\n",
    "\n",
    "i = 0\n",
    "j = 0\n",
    "k = 0\n",
    "while i < U and j < V:\n",
    "    if arr_U[i] <= arr_V[j]:\n",
    "        arr.append(arr_U[i])\n",
    "        i += 1\n",
    "    elif arr_V[j] <= arr_U[i]:\n",
    "        arr.append(arr_V[j])\n",
    "        j += 1\n",
    "arr += arr_U[i::] + arr_V[j::]\n",
    "print(arr)\n",
    "\n",
    "i = 0\n",
    "n = len(arr)\n",
    "arr1 = []\n",
    "while i < n and k < W:\n",
    "    if arr_W[k] <= arr[i]:\n",
    "        arr1.append(arr_W[k])\n",
    "        k += 1\n",
    "    else:\n",
    "        arr1.append(arr[i])\n",
    "        i += 1\n",
    "arr1 += arr[i::] + arr_W[k::]\n",
    "print(arr1)"
   ]
  },
  {
   "cell_type": "markdown",
   "metadata": {},
   "source": [
    "### 6"
   ]
  },
  {
   "cell_type": "markdown",
   "metadata": {},
   "source": [
    "#### Problem Proposed/Prepared by: ATY\n",
    "\n",
    "You're a contestant in a game show set in a magical forest. In this forest, there are mystical water fountains scattered around, but they're guarded by mischievous creatures. To collect water for your village, you need to place two magic orbs between two trees. Each orb's height is limited by the shorter tree, and the width is the distance between the trees. Your goal is to maximize water collection to save your village from drought. Can you figure out the best placement for the orbs to gather the most water?\n",
    "\n",
    "![Water Collection Problem](Screenshot_72.png)\n",
    "\n",
    "#### Input\n",
    "\n",
    "The first line contains one integer `N` (1 ≤ N ≤ 10⁵), denoting the number of trees in the forest.  \n",
    "The second line contains the height of the trees separated by a space.\n",
    "\n",
    "#### Output\n",
    "\n",
    "The output contains an integer number denoting the maximum area you can cover between two trees.\n"
   ]
  },
  {
   "cell_type": "code",
   "execution_count": 6,
   "metadata": {},
   "outputs": [
    {
     "name": "stdout",
     "output_type": "stream",
     "text": [
      "25\n"
     ]
    }
   ],
   "source": [
    "N = int(input())\n",
    "trees = list(map(int, input().split()))\n",
    "\n",
    "i = 0\n",
    "j = len(trees) - 1\n",
    "area = 0\n",
    "\n",
    "while i < j:\n",
    "    w = j - i\n",
    "    h = min(trees[i], trees[j])\n",
    "    x = w * h\n",
    "    area = max(area, x)\n",
    "    if trees[i] < trees[j]:\n",
    "        i += 1\n",
    "    else:\n",
    "        j -= 1\n",
    "\n",
    "print(area)"
   ]
  },
  {
   "cell_type": "markdown",
   "metadata": {},
   "source": [
    "### 7"
   ]
  },
  {
   "cell_type": "markdown",
   "metadata": {},
   "source": [
    "#### Problem Proposed/Prepared by: TAP\n",
    "\n",
    "You are given a list consisting of **N** integers, you need to find all the distinct triplets present in the list which add up to zero.\n",
    "\n",
    "A list is said to have a triplet **(li[i], li[j], li[k])** with **0 sum** if there exist three indices **i, j, and k** such that:  \n",
    "- **i ≠ j, j ≠ k, and i ≠ k**  \n",
    "- **li[i] + li[j] + li[k] = 0**\n",
    "\n",
    "If no such triplet is present in the list, then the output should be **\"IMPOSSIBLE\"**.\n",
    "\n",
    "---\n",
    "\n",
    "#### **Input Format**\n",
    "- The first line contains an integer **T** (**1 ≤ T ≤ 50**), denoting the number of test cases.\n",
    "- For each test case:\n",
    "  - The first line will contain an integer **N** (**1 ≤ N ≤ 10³**), denoting the number of elements in the list.\n",
    "  - The next line will contain **N** integers separated by space.\n",
    "\n",
    "---\n",
    "\n",
    "#### **Output Format**\n",
    "- For each test case, find the triplet(s) that add up to `0`.  \n",
    "- The values of the triplets can be printed in **any order**.  \n",
    "- Example: If a valid triplet is `(1, 2, -3)`, then `(2, -3, 1)`, `(-3, 2, 1)`, etc., are also valid triplets.  \n",
    "- If there are multiple valid triplets, you can print them in **any order**.  \n",
    "- If no such triplet exists, print **\"IMPOSSIBLE\"**.\n",
    "\n",
    "---\n",
    "\n",
    "#### **Sample Input/Output**\n",
    "\n",
    "| Sample Input 1  | Sample Output 1 |\n",
    "|-----------------|----------------|\n",
    "| *T = 1*        | *Example Output* |\n",
    "| 5              | (1, 2, -3)      |\n",
    "| 1 2 -3 4 -1    | (-1, 2, -1)     |\n",
    "| ...            | ...              |\n",
    "\n",
    "---\n",
    "\n",
    "![Triplet Sum Problem](Screenshot_73.png)\n",
    "\n"
   ]
  },
  {
   "cell_type": "code",
   "execution_count": null,
   "metadata": {},
   "outputs": [],
   "source": [
    "T = int(input())\n",
    "for i in range(T):\n",
    "    N = int(input())\n",
    "    arr = list(map(int, input().split()))\n",
    "    arr.sort()\n",
    "    triplets = []\n",
    "        "
   ]
  },
  {
   "cell_type": "markdown",
   "metadata": {},
   "source": [
    "### 8"
   ]
  },
  {
   "cell_type": "code",
   "execution_count": 15,
   "metadata": {},
   "outputs": [
    {
     "name": "stdout",
     "output_type": "stream",
     "text": [
      "[(3, 7), (8, 11)]\n",
      "[(1, 3), (11, 12)]\n",
      "7 3\n",
      "7 3\n",
      "7 12\n",
      "11 12\n",
      "[(1, 3), (3, 7), (8, 11), (11, 12)]\n"
     ]
    }
   ],
   "source": [
    "N = int(input())\n",
    "arrN = []\n",
    "for i in range(N):\n",
    "    x = tuple(map(int, input().split()))\n",
    "    if i%2 != 0:\n",
    "        arrN.append(x)\n",
    "\n",
    "arrM = []\n",
    "M = int(input())\n",
    "for i in range(M):\n",
    "    x = tuple(map(int, input().split()))\n",
    "    if i%2 != 0:\n",
    "        arrM.append(x)\n",
    "\n",
    "arrN.reverse()\n",
    "arrM.reverse()\n",
    "print(arrN)\n",
    "print(arrM)\n",
    "i = 0\n",
    "j = 0\n",
    "arr = []\n",
    "n = len(arrN)\n",
    "m = len(arrM)\n",
    "print(arrN[i][1], arrM[j][1])\n",
    "while i < n and j < m:\n",
    "    print(arrN[i][1], arrM[j][1])\n",
    "    if arrN[i][1] <= arrM[j][1]:\n",
    "        arr.append(arrN[i])\n",
    "        i += 1\n",
    "    elif arrM[j][1] <= arrN[i][1]:\n",
    "        arr.append(arrM[j])\n",
    "        j += 1\n",
    "arr += arrN[i::] + arrM[j::]\n",
    "\n",
    "print(arr)"
   ]
  },
  {
   "cell_type": "markdown",
   "metadata": {},
   "source": [
    "### 9"
   ]
  },
  {
   "cell_type": "code",
   "execution_count": null,
   "metadata": {},
   "outputs": [
    {
     "name": "stdout",
     "output_type": "stream",
     "text": [
      "[1, 2, 2, 2, 5, 5, 5]\n"
     ]
    }
   ],
   "source": [
    "N, K = map(int, input().split())\n",
    "arr = list(map(int, input().split()))\n",
    "i = 0\n",
    "j = 0\n",
    "k = K\n",
    "arr1 = [arr[i]]\n",
    "while i < N and j < N-1:\n",
    "    j += 1\n",
    "    if arr[i] == arr[j]:\n",
    "        k -= 1\n",
    "    else:\n",
    "        i = j\n",
    "        k = K\n",
    "    if k > 0:\n",
    "        arr1.append(arr[i])\n",
    "\n",
    "print(arr1)\n",
    "#boiiii watte hell is dis-"
   ]
  }
 ],
 "metadata": {
  "kernelspec": {
   "display_name": "base",
   "language": "python",
   "name": "python3"
  },
  "language_info": {
   "codemirror_mode": {
    "name": "ipython",
    "version": 3
   },
   "file_extension": ".py",
   "mimetype": "text/x-python",
   "name": "python",
   "nbconvert_exporter": "python",
   "pygments_lexer": "ipython3",
   "version": "3.11.4"
  }
 },
 "nbformat": 4,
 "nbformat_minor": 2
}
