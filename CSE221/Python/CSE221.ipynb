{
 "cells": [
  {
   "cell_type": "code",
   "execution_count": 17,
   "metadata": {},
   "outputs": [
    {
     "ename": "AttributeError",
     "evalue": "'set' object has no attribute 'append'",
     "output_type": "error",
     "traceback": [
      "\u001b[1;31m---------------------------------------------------------------------------\u001b[0m",
      "\u001b[1;31mAttributeError\u001b[0m                            Traceback (most recent call last)",
      "Cell \u001b[1;32mIn[17], line 5\u001b[0m\n\u001b[0;32m      3\u001b[0m list0 \u001b[38;5;241m+\u001b[39m\u001b[38;5;241m=\u001b[39m str0\n\u001b[0;32m      4\u001b[0m set0 \u001b[38;5;241m=\u001b[39m \u001b[38;5;28mset\u001b[39m([])\n\u001b[1;32m----> 5\u001b[0m set0\u001b[38;5;241m.\u001b[39mappend(\u001b[38;5;124m'\u001b[39m\u001b[38;5;124mact\u001b[39m\u001b[38;5;124m'\u001b[39m)\n\u001b[0;32m      6\u001b[0m \u001b[38;5;66;03m# list0.sort()\u001b[39;00m\n\u001b[0;32m      7\u001b[0m \u001b[38;5;28mprint\u001b[39m(set0)\n",
      "\u001b[1;31mAttributeError\u001b[0m: 'set' object has no attribute 'append'"
     ]
    }
   ],
   "source": [
    "list0 = [['act', 'cat'], ['pots', 'tops', 'stop'], ['', '', ''], ['', ''], [''], ['hat']]\n",
    "str0 = 'dbc'\n",
    "list0 += str0\n",
    "set0 = set([])\n",
    "set0.append('act')\n",
    "# list0.sort()\n",
    "print(set0)"
   ]
  },
  {
   "cell_type": "code",
   "execution_count": 28,
   "metadata": {},
   "outputs": [
    {
     "name": "stdout",
     "output_type": "stream",
     "text": [
      "[-15, 17, 23, 34, 42, 50, 67, 78, 89, 910]\n",
      "8\n"
     ]
    }
   ],
   "source": [
    "N = int(input())\n",
    "arr = list(map(int, input().split(' ')))\n",
    "swaps = 0\n",
    "for i in range(N):\n",
    "    ind = i\n",
    "    least = arr[i]\n",
    "    for j in range(i, N):\n",
    "        if arr[j] < least:\n",
    "            least = arr[j]\n",
    "            ind = j\n",
    "    if ind != i:\n",
    "        arr[ind], arr[i] = arr[i], arr[ind]\n",
    "        swaps += 1\n",
    "print(arr)\n",
    "print(swaps)\n",
    "#-2 8 32 128 4 16 64 - 4\n",
    "# 17 42 89 23 67 -15 78 910 34 50 - 8\n"
   ]
  },
  {
   "cell_type": "code",
   "execution_count": null,
   "metadata": {},
   "outputs": [
    {
     "ename": "IndexError",
     "evalue": "list index out of range",
     "output_type": "error",
     "traceback": [
      "\u001b[1;31m---------------------------------------------------------------------------\u001b[0m",
      "\u001b[1;31mIndexError\u001b[0m                                Traceback (most recent call last)",
      "Cell \u001b[1;32mIn[30], line 11\u001b[0m\n\u001b[0;32m      9\u001b[0m             x \u001b[38;5;241m=\u001b[39m Arr[\u001b[38;5;241m-\u001b[39m\u001b[38;5;241m1\u001b[39m]\n\u001b[0;32m     10\u001b[0m             Arr\u001b[38;5;241m.\u001b[39mremove(x)\n\u001b[1;32m---> 11\u001b[0m         \u001b[38;5;28;01mif\u001b[39;00m x \u001b[38;5;241m>\u001b[39m\u001b[38;5;241m=\u001b[39m Brr[i]:\n\u001b[0;32m     12\u001b[0m             Brr\u001b[38;5;241m.\u001b[39mappend(x)\n\u001b[0;32m     13\u001b[0m \u001b[38;5;28mprint\u001b[39m(Arr)\n",
      "\u001b[1;31mIndexError\u001b[0m: list index out of range"
     ]
    }
   ],
   "source": [
    "Arr = [-2, 8, 16, 32, 128, 64, 16, 4]\n",
    "Brr = []\n",
    "for i in range(len(Arr)):\n",
    "    if len(Arr) > 1:\n",
    "        if Arr[0] < Arr[-1]:\n",
    "            x = Arr[0]\n",
    "            Arr.remove(x)\n",
    "        else:\n",
    "            x = Arr[-1]\n",
    "            Arr.remove(x)\n",
    "\n",
    "        Brr.append(x)\n",
    "print(Arr)\n",
    "print(Brr) "
   ]
  }
 ],
 "metadata": {
  "kernelspec": {
   "display_name": "base",
   "language": "python",
   "name": "python3"
  },
  "language_info": {
   "codemirror_mode": {
    "name": "ipython",
    "version": 3
   },
   "file_extension": ".py",
   "mimetype": "text/x-python",
   "name": "python",
   "nbconvert_exporter": "python",
   "pygments_lexer": "ipython3",
   "version": "3.11.4"
  }
 },
 "nbformat": 4,
 "nbformat_minor": 2
}
