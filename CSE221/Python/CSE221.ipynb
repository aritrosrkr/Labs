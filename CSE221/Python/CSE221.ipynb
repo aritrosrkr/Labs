{
  "cells": [
    {
      "cell_type": "markdown",
      "metadata": {
        "id": "view-in-github",
        "colab_type": "text"
      },
      "source": [
        "<a href=\"https://colab.research.google.com/github/aritrosrkr/Labs/blob/main/CSE221/Python/CSE221.ipynb\" target=\"_parent\"><img src=\"https://colab.research.google.com/assets/colab-badge.svg\" alt=\"Open In Colab\"/></a>"
      ]
    },
    {
      "cell_type": "markdown",
      "metadata": {
        "id": "M5E7TGF2TeDB"
      },
      "source": [
        "# Sorting Lab"
      ]
    },
    {
      "cell_type": "code",
      "execution_count": null,
      "metadata": {
        "id": "9HMhhNCUTeDC",
        "outputId": "8d235f69-f65d-4862-f354-0febbd4fb9bb"
      },
      "outputs": [
        {
          "name": "stdout",
          "output_type": "stream",
          "text": [
            "[-15, 17, 23, 34, 42, 50, 67, 78, 89, 910]\n",
            "8\n"
          ]
        }
      ],
      "source": [
        "N = int(input())\n",
        "arr = list(map(int, input().split(' ')))\n",
        "swaps = 0\n",
        "for i in range(N):\n",
        "    ind = i\n",
        "    least = arr[i]\n",
        "    for j in range(i, N):\n",
        "        if arr[j] < least:\n",
        "            least = arr[j]\n",
        "            ind = j\n",
        "    if ind != i:\n",
        "        arr[ind], arr[i] = arr[i], arr[ind]\n",
        "        swaps += 1\n",
        "print(arr)\n",
        "print(swaps)\n",
        "#-2 8 32 128 4 16 64 - 4\n",
        "# 17 42 89 23 67 -15 78 910 34 50 - 8\n"
      ]
    },
    {
      "cell_type": "code",
      "execution_count": null,
      "metadata": {
        "id": "5rzW6ROtTeDC",
        "outputId": "daf13fd1-cd0e-4425-9075-bc18ec359f89"
      },
      "outputs": [
        {
          "name": "stdout",
          "output_type": "stream",
          "text": [
            "Impossible\n",
            "[910]\n",
            "[17, 42, 50, 34, 89, 23, 67, -15, 78]\n"
          ]
        }
      ],
      "source": [
        "Arr = [-2, 8, 16, 32, 128, 64, 16, 4]\n",
        "Arr = [17, 42, 89, 23, 67, -15, 78, 910, 34, 50]\n",
        "Brr = []\n",
        "for i in range(len(Arr)):\n",
        "    if len(Arr) > 1:\n",
        "        if Arr[0] < Arr[-1]:\n",
        "            x = Arr[0]\n",
        "            Arr.remove(x)\n",
        "        else:\n",
        "            x = Arr[-1]\n",
        "            Arr.remove(x)\n",
        "        Brr.append(x)\n",
        "\n",
        "for i in range(len(Brr)-1):\n",
        "    if Brr[i] > Brr[i+1]:\n",
        "        print('Impossible')\n",
        "        break\n",
        "print(Arr)\n",
        "print(Brr)"
      ]
    },
    {
      "cell_type": "code",
      "execution_count": null,
      "metadata": {
        "id": "xcJRs7kaTeDD",
        "outputId": "b382ce18-2c51-4621-b174-0a851d2ed50b"
      },
      "outputs": [
        {
          "name": "stdout",
          "output_type": "stream",
          "text": [
            "[-2, 4, 4, 8, 16, 32, 64, 128]\n"
          ]
        }
      ],
      "source": [
        "N = int(input())\n",
        "arr = list(map(int, input().split(' ')))\n",
        "for i in range(N):\n",
        "    ind = i\n",
        "    least = arr[i]\n",
        "    for j in range(i, N):\n",
        "        if (i%2==0 and j%2==0) or (i%2!=0 and j%2!=0):\n",
        "            if arr[j] < least:\n",
        "                ind = j\n",
        "                least = arr[j]\n",
        "    if ind != i:\n",
        "        arr[ind], arr[i] = arr[i], arr[ind]\n",
        "\n",
        "for i in range(len(arr)-1):\n",
        "    if arr[i] > arr[i+1]:\n",
        "        print('Impossible')\n",
        "        break\n",
        "print(arr)"
      ]
    },
    {
      "cell_type": "code",
      "execution_count": null,
      "metadata": {
        "id": "kYH9zbbkTeDD",
        "outputId": "7f5592e6-f7e1-401a-e2eb-40f529d10606"
      },
      "outputs": [
        {
          "name": "stdout",
          "output_type": "stream",
          "text": [
            "14 11 10 8 0\n"
          ]
        }
      ],
      "source": [
        "N, M = tuple(map(int, input().split()))\n",
        "arr = list(map(int, input().split()))\n",
        "list0 = []\n",
        "for i in range(M-1, -1, -1):\n",
        "    if i not in arr:\n",
        "        list0.append(i)\n",
        "print(' '.join(list(map(str, list0))))\n"
      ]
    },
    {
      "cell_type": "code",
      "execution_count": null,
      "metadata": {
        "id": "MOWJbfsxTeDD",
        "outputId": "563a3775-f233-4756-be9b-62b51c946eb1"
      },
      "outputs": [
        {
          "name": "stdout",
          "output_type": "stream",
          "text": [
            "5 4 2 1 3\n"
          ]
        }
      ],
      "source": [
        "N, M = tuple(map(int, input().split()))\n",
        "arr = list(map(int, input().split()))\n",
        "list0 = []\n",
        "for i in range(1, N):\n",
        "    key = arr[i]\n",
        "    j = i - 1\n",
        "    if key > M:\n",
        "        while j >= 0 and arr[j] < key:\n",
        "            arr[j+1] = arr[j]\n",
        "            j -= 1\n",
        "        arr[j+1] = key\n",
        "print(' '.join(map(str, arr)))"
      ]
    },
    {
      "cell_type": "code",
      "execution_count": null,
      "metadata": {
        "id": "QxLodo93TeDD",
        "outputId": "3eb1bcbf-9120-420d-86e8-a14f9d9fdaa2"
      },
      "outputs": [
        {
          "name": "stdout",
          "output_type": "stream",
          "text": [
            "[1, 2, 3, 4, 5]\n",
            "[4, 5]\n",
            "[1, 2]\n",
            "6\n"
          ]
        }
      ],
      "source": [
        "N, M = tuple(map(int, input().split()))\n",
        "arr = list(map(int, input().split()))\n",
        "for i in range(N):\n",
        "    for j in range(i+1, N):\n",
        "        if arr[i] > arr[j]:\n",
        "            arr[i], arr[j] = arr[j], arr[i]\n",
        "print(arr)\n",
        "print(arr[M::])\n",
        "print(arr[:M-1:])\n",
        "print(sum(arr[M::]) - sum(arr[:M-1:]))"
      ]
    },
    {
      "cell_type": "markdown",
      "metadata": {
        "id": "k9Kd1vtQTeDD"
      },
      "source": [
        "# Two Pointer Lab / Searching"
      ]
    },
    {
      "cell_type": "markdown",
      "metadata": {
        "id": "FMVbXPAjTeDE"
      },
      "source": [
        "### Problem Statement\n",
        "\n",
        "**Problem Proposed/Prepared by: ASD**  \n",
        "\n",
        "Imagine a path that has been paved with shades of light and dark tiles. Each tile’s color can be either a dark shade or a light shade. You need to find out the **minimum number of light tiles to be replaced by dark tiles** so that there exists **k consecutive dark tiles** in the path.\n",
        "\n",
        "### Input\n",
        "\n",
        "- The first line of input consists of a single integer `n` denoting the number of tiles in the path.\n",
        "- The second line consists of `n` space-separated integers. The integers will be either `1` or `0`.  \n",
        "  - `1` means a **light** tile.\n",
        "  - `0` means a **dark** tile.\n",
        "- The third line of input consists of a single integer `k` denoting the number of consecutive dark tiles that must exist in the path.\n",
        "\n",
        "### Output\n",
        "\n",
        "- Output consists of a single integer denoting the **minimum number of light tiles** that need to be replaced with dark tiles.\n",
        "- If the path already contains `k` consecutive dark tiles, then the answer is **0**.\n",
        "\n",
        "### Sample Input 1\n",
        "```plaintext\n",
        "5\n",
        "1 0 1 0 1\n",
        "3"
      ]
    },
    {
      "cell_type": "code",
      "execution_count": null,
      "metadata": {
        "id": "cAsz7qGoTeDE",
        "outputId": "839db0c7-cd3b-4185-8256-de499b4d97aa"
      },
      "outputs": [
        {
          "name": "stdout",
          "output_type": "stream",
          "text": [
            "['0', '0', '1']\n",
            "1\n",
            "['0', '1', '0']\n",
            "2\n",
            "['1', '0', '1']\n",
            "1\n"
          ]
        }
      ],
      "source": [
        "n = int(input())\n",
        "tiles = input()\n",
        "k = int(input())\n",
        "\n",
        "i = 0\n",
        "j = k\n",
        "count = 0\n",
        "\n",
        "arr = list(map(str, tiles[i:j:]))\n",
        "print(arr)\n",
        "for x in range(len(arr)):\n",
        "    if arr[x] == '1':\n",
        "        count += 1\n",
        "\n",
        "least = count\n",
        "while i < n and j < n:\n",
        "    if tiles[i] == '1':\n",
        "        count -= 1\n",
        "    if tiles[j] == '1':\n",
        "        count += 1\n",
        "    if count < least:\n",
        "        least = count\n",
        "    arr.remove(tiles[i])\n",
        "    arr.append(tiles[j])\n",
        "    i += 1\n",
        "    j += 1\n",
        "    print(count)\n",
        "    print(arr)\n",
        "\n",
        "print(least)"
      ]
    },
    {
      "cell_type": "markdown",
      "metadata": {
        "id": "_n-z_KVaTeDE"
      },
      "source": [
        "### 2"
      ]
    },
    {
      "cell_type": "code",
      "execution_count": null,
      "metadata": {
        "id": "HX9Y-QOETeDE",
        "outputId": "fca10644-b0a4-4b02-8963-0a5d6b1fa786"
      },
      "outputs": [
        {
          "name": "stdout",
          "output_type": "stream",
          "text": [
            "[1, 2, 2, 3, 4, 5, 7, 8]\n",
            "4\n"
          ]
        }
      ],
      "source": [
        "N= int(input())\n",
        "arr_N = list(map(int, input().split()))\n",
        "\n",
        "M = int(input())\n",
        "arr_M = list(map(int, input().split()))\n",
        "\n",
        "k = int(input())\n",
        "ind = 1\n",
        "\n",
        "arr = []\n",
        "\n",
        "i = 0\n",
        "j = 0\n",
        "while i < N and j < M:\n",
        "    if arr_N[i] < arr_M[j]:\n",
        "        arr.append(arr_N[i])\n",
        "        i += 1\n",
        "    elif arr_M[j] < arr_N[i]:\n",
        "        arr.append(arr_M[j])\n",
        "        j += 1\n",
        "arr += arr_N[i::] + arr_M[j::]\n",
        "\n",
        "print(arr)\n",
        "print(arr[k-1])"
      ]
    },
    {
      "cell_type": "markdown",
      "metadata": {
        "id": "m580P2PyTeDE"
      },
      "source": [
        "### 3"
      ]
    },
    {
      "cell_type": "code",
      "execution_count": null,
      "metadata": {
        "id": "i_5B-OfzTeDF",
        "outputId": "09edda95-8d64-4d77-aefc-9c741c85f821"
      },
      "outputs": [
        {
          "name": "stdout",
          "output_type": "stream",
          "text": [
            "[1, 2, 2, 3, 4, 5, 7, 8, 15]\n",
            "[1, 1, 2, 2, 3, 4, 5, 7, 7, 8, 9, 10, 15]\n"
          ]
        }
      ],
      "source": [
        "U = int(input())\n",
        "arr_U = list(map(int, input().split()))\n",
        "\n",
        "V = int(input())\n",
        "arr_V = list(map(int, input().split()))\n",
        "\n",
        "W = int(input())\n",
        "arr_W = list(map(int, input().split()))\n",
        "\n",
        "arr = []\n",
        "\n",
        "i = 0\n",
        "j = 0\n",
        "k = 0\n",
        "while i < U and j < V:\n",
        "    if arr_U[i] <= arr_V[j]:\n",
        "        arr.append(arr_U[i])\n",
        "        i += 1\n",
        "    elif arr_V[j] <= arr_U[i]:\n",
        "        arr.append(arr_V[j])\n",
        "        j += 1\n",
        "arr += arr_U[i::] + arr_V[j::]\n",
        "print(arr)\n",
        "\n",
        "i = 0\n",
        "n = len(arr)\n",
        "arr1 = []\n",
        "while i < n and k < W:\n",
        "    if arr_W[k] <= arr[i]:\n",
        "        arr1.append(arr_W[k])\n",
        "        k += 1\n",
        "    else:\n",
        "        arr1.append(arr[i])\n",
        "        i += 1\n",
        "arr1 += arr[i::] + arr_W[k::]\n",
        "print(arr1)"
      ]
    }
  ],
  "metadata": {
    "kernelspec": {
      "display_name": "base",
      "language": "python",
      "name": "python3"
    },
    "language_info": {
      "codemirror_mode": {
        "name": "ipython",
        "version": 3
      },
      "file_extension": ".py",
      "mimetype": "text/x-python",
      "name": "python",
      "nbconvert_exporter": "python",
      "pygments_lexer": "ipython3",
      "version": "3.11.4"
    },
    "colab": {
      "provenance": [],
      "include_colab_link": true
    }
  },
  "nbformat": 4,
  "nbformat_minor": 0
}