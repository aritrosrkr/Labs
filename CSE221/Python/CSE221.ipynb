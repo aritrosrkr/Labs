{
 "cells": [
  {
   "cell_type": "code",
   "execution_count": 17,
   "metadata": {},
   "outputs": [
    {
     "ename": "AttributeError",
     "evalue": "'set' object has no attribute 'append'",
     "output_type": "error",
     "traceback": [
      "\u001b[1;31m---------------------------------------------------------------------------\u001b[0m",
      "\u001b[1;31mAttributeError\u001b[0m                            Traceback (most recent call last)",
      "Cell \u001b[1;32mIn[17], line 5\u001b[0m\n\u001b[0;32m      3\u001b[0m list0 \u001b[38;5;241m+\u001b[39m\u001b[38;5;241m=\u001b[39m str0\n\u001b[0;32m      4\u001b[0m set0 \u001b[38;5;241m=\u001b[39m \u001b[38;5;28mset\u001b[39m([])\n\u001b[1;32m----> 5\u001b[0m set0\u001b[38;5;241m.\u001b[39mappend(\u001b[38;5;124m'\u001b[39m\u001b[38;5;124mact\u001b[39m\u001b[38;5;124m'\u001b[39m)\n\u001b[0;32m      6\u001b[0m \u001b[38;5;66;03m# list0.sort()\u001b[39;00m\n\u001b[0;32m      7\u001b[0m \u001b[38;5;28mprint\u001b[39m(set0)\n",
      "\u001b[1;31mAttributeError\u001b[0m: 'set' object has no attribute 'append'"
     ]
    }
   ],
   "source": [
    "list0 = [['act', 'cat'], ['pots', 'tops', 'stop'], ['', '', ''], ['', ''], [''], ['hat']]\n",
    "str0 = 'dbc'\n",
    "list0 += str0\n",
    "set0 = set([])\n",
    "set0.append('act')\n",
    "# list0.sort()\n",
    "print(set0)"
   ]
  },
  {
   "cell_type": "markdown",
   "metadata": {},
   "source": [
    "# Sorting Lab"
   ]
  },
  {
   "cell_type": "code",
   "execution_count": 28,
   "metadata": {},
   "outputs": [
    {
     "name": "stdout",
     "output_type": "stream",
     "text": [
      "[-15, 17, 23, 34, 42, 50, 67, 78, 89, 910]\n",
      "8\n"
     ]
    }
   ],
   "source": [
    "N = int(input())\n",
    "arr = list(map(int, input().split(' ')))\n",
    "swaps = 0\n",
    "for i in range(N):\n",
    "    ind = i\n",
    "    least = arr[i]\n",
    "    for j in range(i, N):\n",
    "        if arr[j] < least:\n",
    "            least = arr[j]\n",
    "            ind = j\n",
    "    if ind != i:\n",
    "        arr[ind], arr[i] = arr[i], arr[ind]\n",
    "        swaps += 1\n",
    "print(arr)\n",
    "print(swaps)\n",
    "#-2 8 32 128 4 16 64 - 4\n",
    "# 17 42 89 23 67 -15 78 910 34 50 - 8\n"
   ]
  },
  {
   "cell_type": "code",
   "execution_count": 33,
   "metadata": {},
   "outputs": [
    {
     "name": "stdout",
     "output_type": "stream",
     "text": [
      "Impossible\n",
      "[910]\n",
      "[17, 42, 50, 34, 89, 23, 67, -15, 78]\n"
     ]
    }
   ],
   "source": [
    "Arr = [-2, 8, 16, 32, 128, 64, 16, 4]\n",
    "Arr = [17, 42, 89, 23, 67, -15, 78, 910, 34, 50]\n",
    "Brr = []\n",
    "for i in range(len(Arr)):\n",
    "    if len(Arr) > 1:\n",
    "        if Arr[0] < Arr[-1]:\n",
    "            x = Arr[0]\n",
    "            Arr.remove(x)\n",
    "        else:\n",
    "            x = Arr[-1]\n",
    "            Arr.remove(x)\n",
    "        Brr.append(x)\n",
    "\n",
    "for i in range(len(Brr)-1):\n",
    "    if Brr[i] > Brr[i+1]:\n",
    "        print('Impossible')\n",
    "        break\n",
    "print(Arr)\n",
    "print(Brr) "
   ]
  },
  {
   "cell_type": "code",
   "execution_count": 35,
   "metadata": {},
   "outputs": [
    {
     "name": "stdout",
     "output_type": "stream",
     "text": [
      "[-2, 4, 4, 8, 16, 32, 64, 128]\n"
     ]
    }
   ],
   "source": [
    "N = int(input())\n",
    "arr = list(map(int, input().split(' ')))\n",
    "for i in range(N):\n",
    "    ind = i\n",
    "    least = arr[i]\n",
    "    for j in range(i, N):\n",
    "        if (i%2==0 and j%2==0) or (i%2!=0 and j%2!=0):\n",
    "            if arr[j] < least:\n",
    "                ind = j\n",
    "                least = arr[j]\n",
    "    if ind != i:\n",
    "        arr[ind], arr[i] = arr[i], arr[ind]\n",
    "\n",
    "for i in range(len(arr)-1):\n",
    "    if arr[i] > arr[i+1]:\n",
    "        print('Impossible')\n",
    "        break\n",
    "print(arr)"
   ]
  },
  {
   "cell_type": "code",
   "execution_count": 44,
   "metadata": {},
   "outputs": [
    {
     "name": "stdout",
     "output_type": "stream",
     "text": [
      "14 11 10 8 0\n"
     ]
    }
   ],
   "source": [
    "N, M = tuple(map(int, input().split()))\n",
    "arr = list(map(int, input().split()))\n",
    "list0 = []\n",
    "for i in range(M-1, -1, -1):\n",
    "    if i not in arr:\n",
    "        list0.append(i)\n",
    "print(' '.join(list(map(str, list0))))\n"
   ]
  },
  {
   "cell_type": "code",
   "execution_count": null,
   "metadata": {},
   "outputs": [
    {
     "name": "stdout",
     "output_type": "stream",
     "text": [
      "5 4 2 1 3\n"
     ]
    }
   ],
   "source": [
    "N, M = tuple(map(int, input().split()))\n",
    "arr = list(map(int, input().split()))\n",
    "list0 = []             \n",
    "for i in range(1, N):\n",
    "    key = arr[i]\n",
    "    j = i - 1\n",
    "    if key > M:\n",
    "        while j >= 0 and arr[j] < key:\n",
    "            arr[j+1] = arr[j]\n",
    "            j -= 1\n",
    "        arr[j+1] = key\n",
    "print(' '.join(map(str, arr)))"
   ]
  },
  {
   "cell_type": "code",
   "execution_count": 65,
   "metadata": {},
   "outputs": [
    {
     "name": "stdout",
     "output_type": "stream",
     "text": [
      "[1, 2, 3, 4, 5]\n",
      "[4, 5]\n",
      "[1, 2]\n",
      "6\n"
     ]
    }
   ],
   "source": [
    "N, M = tuple(map(int, input().split()))\n",
    "arr = list(map(int, input().split()))\n",
    "for i in range(N):\n",
    "    for j in range(i+1, N):\n",
    "        if arr[i] > arr[j]:\n",
    "            arr[i], arr[j] = arr[j], arr[i]\n",
    "print(arr)\n",
    "print(arr[M::])\n",
    "print(arr[:M-1:])\n",
    "print(sum(arr[M::]) - sum(arr[:M-1:]))"
   ]
  },
  {
   "cell_type": "markdown",
   "metadata": {},
   "source": [
    "# Two Pointer Lab / Searching"
   ]
  },
  {
   "cell_type": "code",
   "execution_count": null,
   "metadata": {},
   "outputs": [
    {
     "name": "stdout",
     "output_type": "stream",
     "text": [
      "['1', '1']\n",
      "1\n",
      "['1', '0']\n",
      "1\n"
     ]
    }
   ],
   "source": [
    "n = int(input())\n",
    "tiles = input()\n",
    "k = int(input())\n",
    "\n",
    "i = 0\n",
    "j = k - 1\n",
    "count = 0\n",
    "\n",
    "arr = list(map(str, tiles[i:k:]))\n",
    "print(arr)\n",
    "for x in range(len(arr)):\n",
    "    if arr[x] == '1':\n",
    "        count += 1\n",
    "\n",
    "least = count\n",
    "while i < n and j < n-1:\n",
    "    if tiles[i] == '1':\n",
    "        count -= 1\n",
    "    if count < least:\n",
    "        least = count\n",
    "    arr.remove(tiles[i])\n",
    "    i += 1\n",
    "    j += 1\n",
    "    arr.append(tiles[j])\n",
    "    if tiles[j] == '1':\n",
    "        count += 1    \n",
    "    print(arr)\n",
    "    \n",
    "print(least)\n",
    "        \n",
    "    \n",
    "    "
   ]
  }
 ],
 "metadata": {
  "kernelspec": {
   "display_name": "base",
   "language": "python",
   "name": "python3"
  },
  "language_info": {
   "codemirror_mode": {
    "name": "ipython",
    "version": 3
   },
   "file_extension": ".py",
   "mimetype": "text/x-python",
   "name": "python",
   "nbconvert_exporter": "python",
   "pygments_lexer": "ipython3",
   "version": "3.11.4"
  }
 },
 "nbformat": 4,
 "nbformat_minor": 2
}
