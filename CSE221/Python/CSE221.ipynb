{
 "cells": [
  {
   "cell_type": "code",
   "execution_count": null,
   "metadata": {},
   "outputs": [
    {
     "name": "stdout",
     "output_type": "stream",
     "text": [
      "[5, 6, 7, 11, 12, 13]\n"
     ]
    }
   ],
   "source": [
    "def merge_sort(arr, l, r ):\n",
    "    if l < r:\n",
    "        m = (l+r)//2\n",
    "        merge_sort(arr, l, m)\n",
    "        merge_sort(arr, m+1, r)\n",
    "        merge(arr, l, m, r)\n",
    "\n",
    "def merge(arr, l, m, r):\n",
    "    L = arr[l:m+1]\n",
    "    R = arr[m+1:r+1]\n",
    "    i = 0\n",
    "    j = 0\n",
    "    k = l\n",
    "    while i < len(L) and j < len(R):\n",
    "        if L[i] <= R[j]:\n",
    "            arr[k] = L[i]\n",
    "            i += 1\n",
    "        else:\n",
    "            arr[k] = R[j]\n",
    "            j += 1\n",
    "        k += 1\n",
    "    \n",
    "    while i < len(L):\n",
    "        arr[k] = L[i]\n",
    "        i += 1\n",
    "        k += 1\n",
    "\n",
    "    while j < len(R):\n",
    "        arr[k] = R[j]\n",
    "        j += 1\n",
    "        k += 1\n",
    "        \n",
    "arr = [12, 11, 13, 5, 6, 7]\n",
    "merge_sort(arr, 0, len(arr) - 1)\n",
    "print(arr)"
   ]
  },
  {
   "cell_type": "markdown",
   "metadata": {},
   "source": [
    "# Sorting Lab"
   ]
  },
  {
   "cell_type": "code",
   "execution_count": 28,
   "metadata": {},
   "outputs": [
    {
     "name": "stdout",
     "output_type": "stream",
     "text": [
      "[-15, 17, 23, 34, 42, 50, 67, 78, 89, 910]\n",
      "8\n"
     ]
    }
   ],
   "source": [
    "N = int(input())\n",
    "arr = list(map(int, input().split(' ')))\n",
    "swaps = 0\n",
    "for i in range(N):\n",
    "    ind = i\n",
    "    least = arr[i]\n",
    "    for j in range(i, N):\n",
    "        if arr[j] < least:\n",
    "            least = arr[j]\n",
    "            ind = j\n",
    "    if ind != i:\n",
    "        arr[ind], arr[i] = arr[i], arr[ind]\n",
    "        swaps += 1\n",
    "print(arr)\n",
    "print(swaps)\n",
    "#-2 8 32 128 4 16 64 - 4\n",
    "# 17 42 89 23 67 -15 78 910 34 50 - 8\n"
   ]
  },
  {
   "cell_type": "code",
   "execution_count": 33,
   "metadata": {},
   "outputs": [
    {
     "name": "stdout",
     "output_type": "stream",
     "text": [
      "Impossible\n",
      "[910]\n",
      "[17, 42, 50, 34, 89, 23, 67, -15, 78]\n"
     ]
    }
   ],
   "source": [
    "Arr = [-2, 8, 16, 32, 128, 64, 16, 4]\n",
    "Arr = [17, 42, 89, 23, 67, -15, 78, 910, 34, 50]\n",
    "Brr = []\n",
    "for i in range(len(Arr)):\n",
    "    if len(Arr) > 1:\n",
    "        if Arr[0] < Arr[-1]:\n",
    "            x = Arr[0]\n",
    "            Arr.remove(x)\n",
    "        else:\n",
    "            x = Arr[-1]\n",
    "            Arr.remove(x)\n",
    "        Brr.append(x)\n",
    "\n",
    "for i in range(len(Brr)-1):\n",
    "    if Brr[i] > Brr[i+1]:\n",
    "        print('Impossible')\n",
    "        break\n",
    "print(Arr)\n",
    "print(Brr) "
   ]
  },
  {
   "cell_type": "code",
   "execution_count": 35,
   "metadata": {},
   "outputs": [
    {
     "name": "stdout",
     "output_type": "stream",
     "text": [
      "[-2, 4, 4, 8, 16, 32, 64, 128]\n"
     ]
    }
   ],
   "source": [
    "N = int(input())\n",
    "arr = list(map(int, input().split(' ')))\n",
    "for i in range(N):\n",
    "    ind = i\n",
    "    least = arr[i]\n",
    "    for j in range(i, N):\n",
    "        if (i%2==0 and j%2==0) or (i%2!=0 and j%2!=0):\n",
    "            if arr[j] < least:\n",
    "                ind = j\n",
    "                least = arr[j]\n",
    "    if ind != i:\n",
    "        arr[ind], arr[i] = arr[i], arr[ind]\n",
    "\n",
    "for i in range(len(arr)-1):\n",
    "    if arr[i] > arr[i+1]:\n",
    "        print('Impossible')\n",
    "        break\n",
    "print(arr)"
   ]
  },
  {
   "cell_type": "code",
   "execution_count": 44,
   "metadata": {},
   "outputs": [
    {
     "name": "stdout",
     "output_type": "stream",
     "text": [
      "14 11 10 8 0\n"
     ]
    }
   ],
   "source": [
    "N, M = tuple(map(int, input().split()))\n",
    "arr = list(map(int, input().split()))\n",
    "list0 = []\n",
    "for i in range(M-1, -1, -1):\n",
    "    if i not in arr:\n",
    "        list0.append(i)\n",
    "print(' '.join(list(map(str, list0))))\n"
   ]
  },
  {
   "cell_type": "code",
   "execution_count": null,
   "metadata": {},
   "outputs": [
    {
     "name": "stdout",
     "output_type": "stream",
     "text": [
      "5 4 2 1 3\n"
     ]
    }
   ],
   "source": [
    "N, M = tuple(map(int, input().split()))\n",
    "arr = list(map(int, input().split()))\n",
    "list0 = []             \n",
    "for i in range(1, N):\n",
    "    key = arr[i]\n",
    "    j = i - 1\n",
    "    if key > M:\n",
    "        while j >= 0 and arr[j] < key:\n",
    "            arr[j+1] = arr[j]\n",
    "            j -= 1\n",
    "        arr[j+1] = key\n",
    "print(' '.join(map(str, arr)))"
   ]
  },
  {
   "cell_type": "code",
   "execution_count": 65,
   "metadata": {},
   "outputs": [
    {
     "name": "stdout",
     "output_type": "stream",
     "text": [
      "[1, 2, 3, 4, 5]\n",
      "[4, 5]\n",
      "[1, 2]\n",
      "6\n"
     ]
    }
   ],
   "source": [
    "N, M = tuple(map(int, input().split()))\n",
    "arr = list(map(int, input().split()))\n",
    "for i in range(N):\n",
    "    for j in range(i+1, N):\n",
    "        if arr[i] > arr[j]:\n",
    "            arr[i], arr[j] = arr[j], arr[i]\n",
    "print(arr)\n",
    "print(arr[M::])\n",
    "print(arr[:M-1:])\n",
    "print(sum(arr[M::]) - sum(arr[:M-1:]))"
   ]
  },
  {
   "cell_type": "markdown",
   "metadata": {},
   "source": [
    "# Two Pointer Lab / Searching"
   ]
  },
  {
   "cell_type": "markdown",
   "metadata": {},
   "source": [
    "### 1"
   ]
  },
  {
   "cell_type": "markdown",
   "metadata": {},
   "source": [
    "#### Problem Statement\n",
    "\n",
    "**Problem Proposed/Prepared by: ASD**  \n",
    "\n",
    "Imagine a path that has been paved with shades of light and dark tiles. Each tile’s color can be either a dark shade or a light shade. You need to find out the **minimum number of light tiles to be replaced by dark tiles** so that there exists **k consecutive dark tiles** in the path.\n",
    "\n",
    "#### Input\n",
    "\n",
    "- The first line of input consists of a single integer `n` denoting the number of tiles in the path.\n",
    "- The second line consists of `n` space-separated integers. The integers will be either `1` or `0`.  \n",
    "  - `1` means a **light** tile.\n",
    "  - `0` means a **dark** tile.\n",
    "- The third line of input consists of a single integer `k` denoting the number of consecutive dark tiles that must exist in the path.\n",
    "\n",
    "#### Output\n",
    "\n",
    "- Output consists of a single integer denoting the **minimum number of light tiles** that need to be replaced with dark tiles.\n",
    "- If the path already contains `k` consecutive dark tiles, then the answer is **0**.\n",
    "\n",
    "#### Sample Input 1\n",
    "```plaintext\n",
    "5\n",
    "1 0 1 0 1\n",
    "3"
   ]
  },
  {
   "cell_type": "code",
   "execution_count": null,
   "metadata": {},
   "outputs": [
    {
     "name": "stdout",
     "output_type": "stream",
     "text": [
      "['0', '0', '1']\n",
      "1\n",
      "['0', '1', '0']\n",
      "2\n",
      "['1', '0', '1']\n",
      "1\n"
     ]
    }
   ],
   "source": [
    "n = int(input())\n",
    "tiles = input()\n",
    "k = int(input())\n",
    "\n",
    "i = 0\n",
    "j = k\n",
    "count = 0\n",
    "\n",
    "arr = list(map(str, tiles[i:j:]))\n",
    "print(arr)\n",
    "for x in range(len(arr)):\n",
    "    if arr[x] == '1':\n",
    "        count += 1\n",
    "\n",
    "least = count\n",
    "while i < n and j < n:\n",
    "    if tiles[i] == '1':\n",
    "        count -= 1\n",
    "    if tiles[j] == '1':\n",
    "        count += 1\n",
    "    if count < least:\n",
    "        least = count\n",
    "    arr.remove(tiles[i])\n",
    "    arr.append(tiles[j])\n",
    "    i += 1\n",
    "    j += 1\n",
    "    print(count)\n",
    "    print(arr)\n",
    "    \n",
    "print(least)"
   ]
  },
  {
   "cell_type": "markdown",
   "metadata": {},
   "source": [
    "### 2"
   ]
  },
  {
   "cell_type": "code",
   "execution_count": null,
   "metadata": {},
   "outputs": [
    {
     "name": "stdout",
     "output_type": "stream",
     "text": [
      "[1, 2, 2, 3, 4, 5, 7, 8]\n",
      "4\n"
     ]
    }
   ],
   "source": [
    "N= int(input())\n",
    "arr_N = list(map(int, input().split()))\n",
    "\n",
    "M = int(input())\n",
    "arr_M = list(map(int, input().split()))\n",
    "\n",
    "k = int(input())\n",
    "ind = 1\n",
    "\n",
    "arr = []\n",
    "\n",
    "i = 0\n",
    "j = 0\n",
    "while i < N and j < M:\n",
    "    if arr_N[i] < arr_M[j]:\n",
    "        arr.append(arr_N[i])\n",
    "        i += 1\n",
    "    elif arr_M[j] < arr_N[i]:\n",
    "        arr.append(arr_M[j])\n",
    "        j += 1\n",
    "arr += arr_N[i::] + arr_M[j::]\n",
    "\n",
    "print(arr)\n",
    "print(arr[k-1])"
   ]
  },
  {
   "cell_type": "markdown",
   "metadata": {},
   "source": [
    "### 3"
   ]
  },
  {
   "cell_type": "code",
   "execution_count": null,
   "metadata": {},
   "outputs": [
    {
     "name": "stdout",
     "output_type": "stream",
     "text": [
      "[1, 2, 2, 3, 4, 5, 7, 8, 15]\n",
      "[1, 1, 2, 2, 3, 4, 5, 7, 7, 8, 9, 10, 15]\n"
     ]
    }
   ],
   "source": [
    "U = int(input())\n",
    "arr_U = list(map(int, input().split()))\n",
    "\n",
    "V = int(input())\n",
    "arr_V = list(map(int, input().split()))\n",
    "\n",
    "W = int(input())\n",
    "arr_W = list(map(int, input().split()))\n",
    "\n",
    "arr = []\n",
    "\n",
    "i = 0\n",
    "j = 0\n",
    "k = 0\n",
    "while i < U and j < V:\n",
    "    if arr_U[i] <= arr_V[j]:\n",
    "        arr.append(arr_U[i])\n",
    "        i += 1\n",
    "    elif arr_V[j] <= arr_U[i]:\n",
    "        arr.append(arr_V[j])\n",
    "        j += 1\n",
    "arr += arr_U[i::] + arr_V[j::]\n",
    "print(arr)\n",
    "\n",
    "i = 0\n",
    "n = len(arr)\n",
    "arr1 = []\n",
    "while i < n and k < W:\n",
    "    if arr_W[k] <= arr[i]:\n",
    "        arr1.append(arr_W[k])\n",
    "        k += 1\n",
    "    else:\n",
    "        arr1.append(arr[i])\n",
    "        i += 1\n",
    "arr1 += arr[i::] + arr_W[k::]\n",
    "print(arr1)"
   ]
  },
  {
   "cell_type": "markdown",
   "metadata": {},
   "source": [
    "### 6"
   ]
  },
  {
   "cell_type": "markdown",
   "metadata": {},
   "source": [
    "#### Problem Proposed/Prepared by: ATY\n",
    "\n",
    "You're a contestant in a game show set in a magical forest. In this forest, there are mystical water fountains scattered around, but they're guarded by mischievous creatures. To collect water for your village, you need to place two magic orbs between two trees. Each orb's height is limited by the shorter tree, and the width is the distance between the trees. Your goal is to maximize water collection to save your village from drought. Can you figure out the best placement for the orbs to gather the most water?\n",
    "\n",
    "![Water Collection Problem](Screenshot_72.png)\n",
    "\n",
    "#### Input\n",
    "\n",
    "The first line contains one integer `N` (1 ≤ N ≤ 10⁵), denoting the number of trees in the forest.  \n",
    "The second line contains the height of the trees separated by a space.\n",
    "\n",
    "#### Output\n",
    "\n",
    "The output contains an integer number denoting the maximum area you can cover between two trees.\n"
   ]
  },
  {
   "cell_type": "code",
   "execution_count": 6,
   "metadata": {},
   "outputs": [
    {
     "name": "stdout",
     "output_type": "stream",
     "text": [
      "25\n"
     ]
    }
   ],
   "source": [
    "N = int(input())\n",
    "trees = list(map(int, input().split()))\n",
    "\n",
    "i = 0\n",
    "j = len(trees) - 1\n",
    "area = 0\n",
    "\n",
    "while i < j:\n",
    "    w = j - i\n",
    "    h = min(trees[i], trees[j])\n",
    "    x = w * h\n",
    "    area = max(area, x)\n",
    "    if trees[i] < trees[j]:\n",
    "        i += 1\n",
    "    else:\n",
    "        j -= 1\n",
    "\n",
    "print(area)"
   ]
  },
  {
   "cell_type": "markdown",
   "metadata": {},
   "source": [
    "### 7"
   ]
  },
  {
   "cell_type": "markdown",
   "metadata": {},
   "source": [
    "#### Problem Proposed/Prepared by: TAP\n",
    "\n",
    "You are given a list consisting of **N** integers, you need to find all the distinct triplets present in the list which add up to zero.\n",
    "\n",
    "A list is said to have a triplet **(li[i], li[j], li[k])** with **0 sum** if there exist three indices **i, j, and k** such that:  \n",
    "- **i ≠ j, j ≠ k, and i ≠ k**  \n",
    "- **li[i] + li[j] + li[k] = 0**\n",
    "\n",
    "If no such triplet is present in the list, then the output should be **\"IMPOSSIBLE\"**.\n",
    "\n",
    "---\n",
    "\n",
    "#### **Input Format**\n",
    "- The first line contains an integer **T** (**1 ≤ T ≤ 50**), denoting the number of test cases.\n",
    "- For each test case:\n",
    "  - The first line will contain an integer **N** (**1 ≤ N ≤ 10³**), denoting the number of elements in the list.\n",
    "  - The next line will contain **N** integers separated by space.\n",
    "\n",
    "---\n",
    "\n",
    "#### **Output Format**\n",
    "- For each test case, find the triplet(s) that add up to `0`.  \n",
    "- The values of the triplets can be printed in **any order**.  \n",
    "- Example: If a valid triplet is `(1, 2, -3)`, then `(2, -3, 1)`, `(-3, 2, 1)`, etc., are also valid triplets.  \n",
    "- If there are multiple valid triplets, you can print them in **any order**.  \n",
    "- If no such triplet exists, print **\"IMPOSSIBLE\"**.\n",
    "\n",
    "---\n",
    "\n",
    "#### **Sample Input/Output**\n",
    "\n",
    "| Sample Input 1  | Sample Output 1 |\n",
    "|-----------------|----------------|\n",
    "| *T = 1*        | *Example Output* |\n",
    "| 5              | (1, 2, -3)      |\n",
    "| 1 2 -3 4 -1    | (-1, 2, -1)     |\n",
    "| ...            | ...              |\n",
    "\n",
    "---\n",
    "\n",
    "![Triplet Sum Problem](Screenshot_73.png)\n",
    "\n"
   ]
  },
  {
   "cell_type": "code",
   "execution_count": null,
   "metadata": {},
   "outputs": [],
   "source": [
    "T = int(input())\n",
    "for i in range(T):\n",
    "    N = int(input())\n",
    "    arr = list(map(int, input().split()))\n",
    "    arr.sort()\n",
    "    triplets = []\n",
    "        "
   ]
  },
  {
   "cell_type": "markdown",
   "metadata": {},
   "source": [
    "### 8"
   ]
  },
  {
   "cell_type": "code",
   "execution_count": 15,
   "metadata": {},
   "outputs": [
    {
     "name": "stdout",
     "output_type": "stream",
     "text": [
      "[(3, 7), (8, 11)]\n",
      "[(1, 3), (11, 12)]\n",
      "7 3\n",
      "7 3\n",
      "7 12\n",
      "11 12\n",
      "[(1, 3), (3, 7), (8, 11), (11, 12)]\n"
     ]
    }
   ],
   "source": [
    "N = int(input())\n",
    "arrN = []\n",
    "for i in range(N):\n",
    "    x = tuple(map(int, input().split()))\n",
    "    if i%2 != 0:\n",
    "        arrN.append(x)\n",
    "\n",
    "arrM = []\n",
    "M = int(input())\n",
    "for i in range(M):\n",
    "    x = tuple(map(int, input().split()))\n",
    "    if i%2 != 0:\n",
    "        arrM.append(x)\n",
    "\n",
    "arrN.reverse()\n",
    "arrM.reverse()\n",
    "print(arrN)\n",
    "print(arrM)\n",
    "i = 0\n",
    "j = 0\n",
    "arr = []\n",
    "n = len(arrN)\n",
    "m = len(arrM)\n",
    "print(arrN[i][1], arrM[j][1])\n",
    "while i < n and j < m:\n",
    "    print(arrN[i][1], arrM[j][1])\n",
    "    if arrN[i][1] <= arrM[j][1]:\n",
    "        arr.append(arrN[i])\n",
    "        i += 1\n",
    "    elif arrM[j][1] <= arrN[i][1]:\n",
    "        arr.append(arrM[j])\n",
    "        j += 1\n",
    "arr += arrN[i::] + arrM[j::]\n",
    "\n",
    "print(arr)"
   ]
  },
  {
   "cell_type": "markdown",
   "metadata": {},
   "source": [
    "### 9"
   ]
  },
  {
   "cell_type": "code",
   "execution_count": null,
   "metadata": {},
   "outputs": [
    {
     "name": "stdout",
     "output_type": "stream",
     "text": [
      "[1, 2, 2, 2, 5, 5, 5]\n"
     ]
    }
   ],
   "source": [
    "N, K = map(int, input().split())\n",
    "arr = list(map(int, input().split()))\n",
    "i = 0\n",
    "j = 0\n",
    "k = K\n",
    "arr1 = [arr[i]]\n",
    "while i < N and j < N-1:\n",
    "    j += 1\n",
    "    if arr[i] == arr[j]:\n",
    "        k -= 1\n",
    "    else:\n",
    "        i = j\n",
    "        k = K\n",
    "    if k > 0:\n",
    "        arr1.append(arr[i])\n",
    "\n",
    "print(arr1)\n",
    "#boiiii watte hell is dis-"
   ]
  }
 ],
 "metadata": {
  "kernelspec": {
   "display_name": "base",
   "language": "python",
   "name": "python3"
  },
  "language_info": {
   "codemirror_mode": {
    "name": "ipython",
    "version": 3
   },
   "file_extension": ".py",
   "mimetype": "text/x-python",
   "name": "python",
   "nbconvert_exporter": "python",
   "pygments_lexer": "ipython3",
   "version": "3.11.4"
  }
 },
 "nbformat": 4,
 "nbformat_minor": 2
}