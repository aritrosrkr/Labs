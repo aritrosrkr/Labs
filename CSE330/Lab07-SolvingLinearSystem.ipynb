{
  "nbformat": 4,
  "nbformat_minor": 0,
  "metadata": {
    "colab": {
      "provenance": []
    },
    "kernelspec": {
      "name": "python3",
      "display_name": "Python 3"
    },
    "language_info": {
      "name": "python"
    }
  },
  "cells": [
    {
      "cell_type": "markdown",
      "source": [
        "Make sure you remove `raise NotImplementedError()` and fill in any place that says `# YOUR CODE HERE`, as well as your `NAME`, `ID`, and `LAB_SECTION` below:"
      ],
      "metadata": {
        "id": "wwuJllZf2gbd"
      }
    },
    {
      "cell_type": "code",
      "metadata": {
        "id": "yRMG6NyDgxwa"
      },
      "source": [
        "NAME = \"Aritro Sarkar Kabyo\"\n",
        "ID = \"23201283\"\n",
        "SECTION = \"29\""
      ],
      "execution_count": null,
      "outputs": []
    },
    {
      "cell_type": "markdown",
      "source": [
        "# Part 1: Solving a linear system using inverse matrix - 2 Marks\n",
        "\n",
        "We have a linear system\n",
        "\n",
        "\\begin{align}\n",
        "&a_{11} x_1 + a_{12} x_2 +  \\cdots  + a_{1n} x_n = b_1\\\\\n",
        "&a_{21} x_1 + a_{22} x_2 +  \\cdots + a_{2n} x_n = b_2\\\\\n",
        "&\\cdots\\\\\n",
        "&a_{n1} x_1 + a_{n2} x_2 +  \\cdots + a_{nn} x_n = b_n\\\\\n",
        "\\end{align}\n",
        "\n",
        "It is convenient to express this system in the\n",
        "matrix form\n",
        "\n",
        "\\begin{align}\n",
        "Ax = b\n",
        "\\end{align}\n",
        "\n",
        "where $A$ is an $n \\times n$ square matrix with elements $a_{ij}$, and $x$, $b$ are $n \\times 1$ vectors.\n",
        "\n",
        "We have to keep in mind that this system will have a unique solution iff $A$ is non-singular, given by $x = A^{-1}b.$"
      ],
      "metadata": {
        "id": "cbYDwRgN3vcq"
      }
    },
    {
      "cell_type": "code",
      "source": [
        "import matplotlib.pyplot as plt\n",
        "import numpy as np\n",
        "import sys"
      ],
      "metadata": {
        "id": "aQX8PNoJ39Ak"
      },
      "execution_count": null,
      "outputs": []
    },
    {
      "cell_type": "code",
      "source": [
        "def get_result_by_inverse_matrix(A, b):\n",
        "  # A and b are numpy arrays\n",
        "\n",
        "  # first check if the A is non-singular matrix. We know that the determinant of\n",
        "  # a non-singular matrix will be non-zero\n",
        "  if np.linalg.det(A) != 0:\n",
        "    x = np.dot(np.linalg.inv(A), b)\n",
        "    print(x)\n",
        "    return x\n",
        "  else:\n",
        "    sys.exit(\"Singular matrix\")\n",
        "  # # HINT:\n",
        "  # You may find functions such as linalg.det(), linalg.inv, etc. of the numpy package useful"
      ],
      "metadata": {
        "id": "liidjMKS-DBM"
      },
      "execution_count": null,
      "outputs": []
    },
    {
      "cell_type": "code",
      "source": [
        "# Test case for the get_result_by_inverse_matrix(A, b) function.\n",
        "\n",
        "data_A = np.array([[1, 2, 1], [1, -2, 2], [2, 12, -2]])\n",
        "data_b = np.array([0,4,4])\n",
        "\n",
        "test = get_result_by_inverse_matrix(data_A, data_b)\n",
        "results = [11, -2.5, -6]\n",
        "\n",
        "np.testing.assert_array_equal(test, results)"
      ],
      "metadata": {
        "id": "Ege-eIAp-CTV",
        "colab": {
          "base_uri": "https://localhost:8080/"
        },
        "outputId": "6633ce35-9a77-4d1d-9b12-4b9856c3e695"
      },
      "execution_count": null,
      "outputs": [
        {
          "output_type": "stream",
          "name": "stdout",
          "text": [
            "[11.  -2.5 -6. ]\n"
          ]
        }
      ]
    },
    {
      "cell_type": "markdown",
      "source": [
        "# Part 2: Gaussian elimination - 2 Marks\n",
        "\n",
        "Gaussian elimination uses elementary row operations to transform the system to upper triangular form $Ux = y$.\n",
        "\n",
        "Elementary row operations include swapping rows and adding multiples of one rowto another.\n",
        "They won’t change the solution $x$, but will change the matrix $A$ and the right-hand side $b$.\n",
        "\n",
        "The upper triangular matrix, $𝑈$, is defined as\n",
        "\n",
        "\\begin{bmatrix}\n",
        "u_{11} & u_{12} & \\cdots & u_{1n}\\\\\n",
        "0 & u_{22} & \\cdots & u_{2n}\\\\\n",
        "\\vdots & \\vdots & \\ddots & \\vdots\\\\\n",
        "0 & \\cdots & 0 & u_{nn}\\\\\n",
        "\\end{bmatrix}\n"
      ],
      "metadata": {
        "id": "eyAJANDCC08f"
      }
    },
    {
      "cell_type": "markdown",
      "source": [
        "**Algorithm of Gaussian elimination**\n",
        "\n",
        "Let $A^{(1)}=A$ and $b^{(1)}=b$. Then for each k from 1 to $n-1$, compute a new matrix $A^{(k+1)}$ and right-hand side $b^{(k+1)}$ by the following procedure:\n",
        "\n",
        "\n",
        "1.   Define the row multipliers\n",
        "\n",
        "\\begin{align}\n",
        "m_{ik} = \\frac{a_{ik}^{(k)}}{a_{kk}^{(k)}}, i=k+1,\\cdot \\cdot \\cdot,n.\n",
        "\\end{align}\n",
        "2.   Use these to remove the unknown $x_k$ from equations $k + 1$ to $n$, leaving\n",
        "\n",
        "\\begin{align}\n",
        "a_{ij}^{(k+1)}=a_{ij}^{(k)}-m_{ik}a_{kj}^{(k)}, b_{i}^{(k+1)}=b_{i}^{(k)}-m_{ik}b_{k}^{(k)}, i,j=k+1,\\cdot \\cdot \\cdot, n.\n",
        "\\end{align}\n",
        "\n",
        "It is helpful to combine these matrices to form an Augmented matrix (matrix $𝑏$ is the fourth column). We will perform this row operations on the Augmented matrix. It takes care of both $𝐴$ and $𝑏$ matrixes at the same time.\n",
        "\n",
        "After generating the upper triangular matrix, we have to apply **backward substitution method**.\n",
        "For any $n \\times n$ upper triangular system, $Ux = b$, the solution is:\n",
        "\n",
        "\\begin{align}\n",
        "x_j = \\frac{b_j-\\sum_{k=j+1}^{n}u_{jk}x_k}{u_{jj}}, j = n, n-1, \\cdot\\cdot\\cdot, 1.\n",
        "\\end{align}\n",
        "\n",
        "Here we assumed that $det𝑈≠0$.\n"
      ],
      "metadata": {
        "id": "fZXuDaxsPhJm"
      }
    },
    {
      "cell_type": "code",
      "source": [
        "def get_result_gaussian_elimination(n, A):\n",
        "  # n is the number of unknowns\n",
        "  # A is the Augmented n x n+1 matrix. (numpy array)\n",
        "\n",
        "\n",
        "  # Making numpy array of n size and initializing\n",
        "  # to zero for storing solution vector\n",
        "  x = np.zeros(n)\n",
        "  A = A.astype(float)\n",
        "  # 1. Apply Gauss Elimination\n",
        "  #upper\n",
        "  for i in range(n):\n",
        "    if A[i][i] == 0:\n",
        "      sys.exit(\"Zero division\")\n",
        "\n",
        "    for j in range(i+1,n):\n",
        "      m = A[j][i]/A[i][i]\n",
        "      for k in range(n+1):\n",
        "        A[j][k] = A[j][k] - m * A[i][k]\n",
        "  print(A, end = \"\\n\\n\")\n",
        "\n",
        "  x[n-1] = A[n-1][n] / A[n-1][n-1]  # z\n",
        "  for i in range(n-2,-1,-1):\n",
        "    x[i] = A[i][n] # y=4\n",
        "    for j in range(i+1,n):\n",
        "      x[i] = x[i] - A[i][j] * x[j] # x = 4 - 1*z\n",
        "    x[i] /= A[i][i] # x = (4 - 1*z) /\n",
        "\n",
        "  return x"
      ],
      "metadata": {
        "id": "r0-WCKM1OZKC"
      },
      "execution_count": null,
      "outputs": []
    },
    {
      "cell_type": "code",
      "source": [
        "# Test case for the get_result_gaussian_elimination(n, A) function.\n",
        "\n",
        "data_n = 3\n",
        "data_A = np.array([[1, 2, 1, 0], [1, -2, 2, 4], [2, 12, -2, 4]])\n",
        "\n",
        "test = get_result_gaussian_elimination(data_n, data_A)\n",
        "results = [11, -2.5, -6]\n",
        "\n",
        "np.testing.assert_array_equal(test, results)"
      ],
      "metadata": {
        "id": "IjJuvkTBUifb",
        "colab": {
          "base_uri": "https://localhost:8080/"
        },
        "outputId": "6ed16efc-d209-4d24-ce8a-3ed802dd8fac"
      },
      "execution_count": null,
      "outputs": [
        {
          "output_type": "stream",
          "name": "stdout",
          "text": [
            "[[ 1.  2.  1.  0.]\n",
            " [ 0. -4.  1.  4.]\n",
            " [ 0.  0. -2. 12.]]\n",
            "\n"
          ]
        }
      ]
    },
    {
      "cell_type": "markdown",
      "source": [
        "# Daily Evaluation - 4 Marks"
      ],
      "metadata": {
        "id": "EDhqIUdo0InV"
      }
    },
    {
      "cell_type": "markdown",
      "source": [
        "![{D5B2889F-1638-4DE9-BF20-AF0572BB0D7E}.png](data:image/png;base64,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)"
      ],
      "metadata": {
        "id": "z46AuqnGfFXy"
      }
    },
    {
      "cell_type": "code",
      "source": [
        "data_augA = np.array([[2, 3, -1, 8], [-1, 2, 3, 1], [3, 1, 2, 9]])\n",
        "\n",
        "n = 3\n",
        "print(get_result_gaussian_elimination(n, data_augA))"
      ],
      "metadata": {
        "id": "VaxQVt7P0MMg",
        "colab": {
          "base_uri": "https://localhost:8080/"
        },
        "outputId": "5a3dde0f-2c37-4fda-f1d1-4ec2c582e220"
      },
      "execution_count": null,
      "outputs": [
        {
          "output_type": "stream",
          "name": "stdout",
          "text": [
            "[[ 2.   3.  -1.   8. ]\n",
            " [ 0.   3.5  2.5  5. ]\n",
            " [ 0.   0.   6.   2. ]]\n",
            "\n",
            "[2.38095238 1.19047619 0.33333333]\n"
          ]
        }
      ]
    }
  ]
}