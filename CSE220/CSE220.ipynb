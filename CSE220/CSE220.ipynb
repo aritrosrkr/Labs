{
  "cells": [
    {
      "cell_type": "code",
      "execution_count": null,
      "metadata": {
        "id": "whuN5r8s2-pl"
      },
      "outputs": [],
      "source": [
        "import numpy as np\n",
        "#test"
      ]
    },
    {
      "cell_type": "markdown",
      "metadata": {
        "id": "o3n4yDFIw1-V"
      },
      "source": [
        "# Array"
      ]
    },
    {
      "cell_type": "code",
      "execution_count": null,
      "metadata": {
        "colab": {
          "base_uri": "https://localhost:8080/"
        },
        "id": "kI_UV9A32VYT",
        "outputId": "e49c0caa-274d-4ec7-f02b-e613e6fbdbe2"
      },
      "outputs": [
        {
          "name": "stdout",
          "output_type": "stream",
          "text": [
            "5\n",
            "4\n",
            "3\n",
            "2\n",
            "1\n"
          ]
        }
      ],
      "source": [
        "#Reverse Iteration\n",
        "arr0 = np.array((1, 2, 3, 4, 5))\n",
        "\n",
        "def reverse_iteration(arr):\n",
        "  for i in range(len(arr)-1,-1,-1): #starting from index 4 and ending at index 0 because -1 given as stop\n",
        "    print(arr[i])\n",
        "\n",
        "reverse_iteration(arr0)"
      ]
    },
    {
      "cell_type": "code",
      "execution_count": null,
      "metadata": {
        "colab": {
          "base_uri": "https://localhost:8080/"
        },
        "id": "usrRn1VN3Ffp",
        "outputId": "e0fc3514-01e3-49b4-8dc4-87816ea0c9fa"
      },
      "outputs": [
        {
          "name": "stdout",
          "output_type": "stream",
          "text": [
            "[1 2 3 4 5]\n"
          ]
        }
      ],
      "source": [
        "#Copy Array\n",
        "arr0 = np.array((1, 2, 3, 4, 5))\n",
        "\n",
        "def copy(arr):\n",
        "  new_arr = np.array([0]*len(arr))\n",
        "  for i in range(len(arr)):\n",
        "    new_arr[i] = arr[i]\n",
        "  return new_arr\n",
        "\n",
        "arr1 = copy(arr0)\n",
        "print(arr1)"
      ]
    },
    {
      "cell_type": "code",
      "execution_count": null,
      "metadata": {
        "colab": {
          "base_uri": "https://localhost:8080/"
        },
        "id": "gwzcdmCv6OFk",
        "outputId": "aca33cc8-6c8c-4a49-a002-a67d429425c0"
      },
      "outputs": [
        {
          "name": "stdout",
          "output_type": "stream",
          "text": [
            "[1 2 3 4 5 0 0]\n"
          ]
        }
      ],
      "source": [
        "#Resize Array\n",
        "arr0 = np.array((1, 2, 3, 4, 5))\n",
        "\n",
        "def resize(arr, new_size):\n",
        "  new_arr = np.array([0]*new_size)\n",
        "  for i in range(len(arr)):\n",
        "    new_arr[i] = arr[i]\n",
        "  return new_arr\n",
        "\n",
        "arr1 = resize(arr0, 7)\n",
        "print(arr1)"
      ]
    },
    {
      "cell_type": "code",
      "execution_count": null,
      "metadata": {
        "colab": {
          "base_uri": "https://localhost:8080/"
        },
        "id": "dtbdGzUE7BA0",
        "outputId": "c11e599c-faff-4cea-a562-187841bcb0e9"
      },
      "outputs": [
        {
          "name": "stdout",
          "output_type": "stream",
          "text": [
            "[5 4 3 2 1]\n"
          ]
        }
      ],
      "source": [
        "#Reverse Out of Place\n",
        "arr0 = np.array((1, 2, 3, 4, 5))\n",
        "\n",
        "def reverse_out(arr):\n",
        "  new_arr = np.array([0]*len(arr))\n",
        "  for i in range(len(arr)):\n",
        "    new_arr[i] = arr[len(arr)-i-1]\n",
        "  return new_arr\n",
        "\n",
        "arr1 = reverse_out(arr0)\n",
        "print(arr1)"
      ]
    },
    {
      "cell_type": "code",
      "execution_count": null,
      "metadata": {
        "colab": {
          "base_uri": "https://localhost:8080/"
        },
        "id": "RKGObDJb7n9t",
        "outputId": "efeed900-f1a5-428f-8b80-da268689fb09"
      },
      "outputs": [
        {
          "name": "stdout",
          "output_type": "stream",
          "text": [
            "[6 5 4 3 2 1]\n"
          ]
        }
      ],
      "source": [
        "#Reverse In Place (Efficient)\n",
        "arr0 = np.array((1, 2, 3, 4, 5, 6))\n",
        "\n",
        "def reverse_in(arr):\n",
        "  i = 0\n",
        "  j = len(arr) - 1\n",
        "  while i < j:\n",
        "    arr[i], arr[j] = arr[j], arr[i] #Last iteration occurs with i equal to j\n",
        "    i += 1                          #Means the middle is reached.\n",
        "    j -= 1\n",
        "  return arr\n",
        "\n",
        "arr1 = reverse_in(arr0)\n",
        "print(arr1)"
      ]
    },
    {
      "cell_type": "code",
      "execution_count": null,
      "metadata": {
        "colab": {
          "base_uri": "https://localhost:8080/"
        },
        "id": "9n04bl1u_n0t",
        "outputId": "5719c9df-b657-425f-fd9d-e85b33e59a84"
      },
      "outputs": [
        {
          "name": "stdout",
          "output_type": "stream",
          "text": [
            "[2 3 4 5 6 0]\n"
          ]
        }
      ],
      "source": [
        "#Shift Left\n",
        "arr0 = np.array((1, 2, 3, 4, 5, 6))\n",
        "\n",
        "def shiftLeft(arr):\n",
        "  for i in range(1, len(arr)):\n",
        "    arr[i-1] = arr[i]\n",
        "  arr[len(arr)-1] = 0\n",
        "  print(arr)\n",
        "\n",
        "shiftLeft(arr0)"
      ]
    },
    {
      "cell_type": "code",
      "execution_count": null,
      "metadata": {
        "colab": {
          "base_uri": "https://localhost:8080/"
        },
        "id": "d3haizRVDLXC",
        "outputId": "3bc6b461-4036-485c-8da1-406754b4889f"
      },
      "outputs": [
        {
          "name": "stdout",
          "output_type": "stream",
          "text": [
            "[0 1 2 3 4 5]\n"
          ]
        }
      ],
      "source": [
        "#Shift Right\n",
        "arr0 = np.array((1, 2, 3, 4, 5, 6))\n",
        "\n",
        "def shiftRight(arr):\n",
        "  for i in range(1, len(arr)):\n",
        "    arr[-i] = arr[-(i+1)]\n",
        "  arr[0] = 0\n",
        "  print(arr)\n",
        "\n",
        "shiftRight(arr0)"
      ]
    },
    {
      "cell_type": "code",
      "execution_count": null,
      "metadata": {
        "colab": {
          "base_uri": "https://localhost:8080/"
        },
        "id": "k7_wHCYsD8Tp",
        "outputId": "65499086-d8ec-4b21-b5b3-f29db5bc74ed"
      },
      "outputs": [
        {
          "name": "stdout",
          "output_type": "stream",
          "text": [
            "[2 3 4 5 6 1]\n"
          ]
        }
      ],
      "source": [
        "#Rotate Left\n",
        "arr0 = np.array((1, 2, 3, 4, 5, 6))\n",
        "\n",
        "def rotateLeft(arr):\n",
        "  tmp = arr[0]\n",
        "  for i in range(1, len(arr)):\n",
        "    arr[i-1] = arr[i]\n",
        "  arr[len(arr)-1] = tmp\n",
        "  print(arr)\n",
        "\n",
        "rotateLeft(arr0)"
      ]
    },
    {
      "cell_type": "code",
      "execution_count": null,
      "metadata": {
        "colab": {
          "base_uri": "https://localhost:8080/"
        },
        "id": "lFiSqjN3EnP5",
        "outputId": "80aa90cb-a437-4699-b7a7-68dda20fb8b4"
      },
      "outputs": [
        {
          "name": "stdout",
          "output_type": "stream",
          "text": [
            "[6 1 2 3 4 5]\n"
          ]
        }
      ],
      "source": [
        "#Rotate Right\n",
        "arr0 = np.array((1, 2, 3, 4, 5, 6))\n",
        "\n",
        "def rotateRight(arr):\n",
        "  tmp = arr[len(arr)-1]\n",
        "  for i in range(1, len(arr)):\n",
        "    arr[-i] = arr[-(i+1)]\n",
        "  arr[0] = tmp\n",
        "  print(arr)\n",
        "\n",
        "rotateRight(arr0)"
      ]
    },
    {
      "cell_type": "code",
      "execution_count": null,
      "metadata": {
        "colab": {
          "base_uri": "https://localhost:8080/"
        },
        "id": "-Cri79GOFEwh",
        "outputId": "82656ac7-c3b8-44b2-d509-7e49278acf9f"
      },
      "outputs": [
        {
          "name": "stdout",
          "output_type": "stream",
          "text": [
            "[1 2 3 4 5 5 6]\n"
          ]
        }
      ],
      "source": [
        "#Insert\n",
        "arr0 = np.array((1, 2, 3, 4, 5, 6))\n",
        "\n",
        "def insert(arr, value, ind):\n",
        "  new_arr = np.array([0]*(len(arr)+1))\n",
        "  for i in range(0, len(arr)):\n",
        "    # if i == ind:\n",
        "    #   # new_arr[ind] = value\n",
        "    #   # new_arr[i+1] = arr[i]\n",
        "    #   new_arr[i] = 0\n",
        "    #   continue\n",
        "    # else:\n",
        "      new_arr[i] = arr[i]\n",
        "  for i in range(1, ind+1):\n",
        "      new_arr[-i] = new_arr[-(i+1)]\n",
        "  #arr[len(arr)-1] = 0\n",
        "  # for i in range(ind+1, len(new_arr)):\n",
        "  #   new_arr[i] = arr[i]\n",
        "  print(new_arr)\n",
        "\n",
        "insert(arr0, 5, 2)"
      ]
    },
    {
      "cell_type": "code",
      "execution_count": null,
      "metadata": {
        "id": "4hm8jvPUMbx9"
      },
      "outputs": [],
      "source": [
        "def summation(arr):\n",
        "   sums = np.zeros(1,3)\n",
        "   for i in arr:"
      ]
    },
    {
      "cell_type": "code",
      "execution_count": null,
      "metadata": {
        "colab": {
          "base_uri": "https://localhost:8080/"
        },
        "id": "Cqln0Frq80-C",
        "outputId": "ff385949-d9b9-484b-8d11-d7c3d9f3e171"
      },
      "outputs": [
        {
          "name": "stdout",
          "output_type": "stream",
          "text": [
            "[['B' 'C' 'D' 'E' 'A']\n",
            " ['G' 'H' 'I' 'J' 'F']\n",
            " ['L' 'M' 'N' 'O' 'K']\n",
            " ['Q' 'R' 'S' 'T' 'P']\n",
            " ['V' 'W' 'X' 'Y' 'U']\n",
            " ['AA' 'BB' 'CC' 'DD' 'Z']]\n"
          ]
        }
      ],
      "source": [
        "# Rotate Matrix\n",
        "seats = np.array([['A', 'B', 'C', 'D', 'E'],\n",
        "                  ['F', 'G', 'H', 'I', 'J'],\n",
        "                  ['K', 'L', 'M', 'N', 'O'],\n",
        "                  ['P', 'Q', 'R', 'S', 'T'],\n",
        "                  ['U', 'V', 'W', 'X', 'Y'],\n",
        "                  ['Z', 'AA', 'BB', 'CC', 'DD']], dtype=str)\n",
        "\n",
        "def rotateLeft(arr):\n",
        "  M, N = arr.shape\n",
        "  for m in range(M):\n",
        "    temp = arr[m][0]\n",
        "    for n in range(1,N):\n",
        "      arr[m][n-1] = arr[m][n]\n",
        "    arr[m][n] = temp\n",
        "  print(arr)\n",
        "\n",
        "rotateLeft(seats)"
      ]
    },
    {
      "cell_type": "markdown",
      "metadata": {
        "id": "RoA0aMFgvUQF"
      },
      "source": [
        "# Linked List"
      ]
    },
    {
      "cell_type": "markdown",
      "metadata": {
        "id": "BCFxCLZWvcOl"
      },
      "source": [
        "## Singly Linked"
      ]
    },
    {
      "cell_type": "code",
      "execution_count": null,
      "metadata": {
        "id": "z4OLSxrPvZrZ"
      },
      "outputs": [],
      "source": [
        "# Initialization\n",
        "class Node:\n",
        "  def __init__(self, elem, next = None):\n",
        "    self.elem = elem\n",
        "    self.next = next"
      ]
    },
    {
      "cell_type": "code",
      "execution_count": null,
      "metadata": {
        "id": "fLpI5017_MlK"
      },
      "outputs": [],
      "source": [
        "# Creation from Array\n",
        "def createList(arr):\n",
        "    head = Node(arr[0])\n",
        "    tail = head                     #We use this to create a 'copy' to the LL which we'll be working on\n",
        "    for i in range(1, len(arr)):    #If we use head instead, then the actual\n",
        "      tail.next = Node(arr[i])      #starting point or 'head' of the LL\n",
        "      tail = tail.next              #moves along with it.\n",
        "    return head\n",
        "\n",
        "building_1 = createList(np.array(['Red', 'Green', 'Yellow', 'Blue']))"
      ]
    },
    {
      "cell_type": "code",
      "execution_count": null,
      "metadata": {
        "colab": {
          "base_uri": "https://localhost:8080/"
        },
        "id": "9AVu2jTEGopf",
        "outputId": "7e6d3e38-2058-476c-fac2-97084958dd51"
      },
      "outputs": [
        {
          "name": "stdout",
          "output_type": "stream",
          "text": [
            "Red\n",
            "Green\n",
            "Yellow\n",
            "Blue\n"
          ]
        }
      ],
      "source": [
        "# Iteration\n",
        "def iteration(head):\n",
        "  temp = head\n",
        "  while temp != None:\n",
        "    print(temp.elem)\n",
        "    temp = temp.next\n",
        "iteration(building_1)"
      ]
    },
    {
      "cell_type": "code",
      "execution_count": null,
      "metadata": {
        "colab": {
          "base_uri": "https://localhost:8080/"
        },
        "id": "D1nJun7VKW0F",
        "outputId": "83e0d8b7-9a98-4a76-c259-2a3bc77134fe"
      },
      "outputs": [
        {
          "data": {
            "text/plain": [
              "<__main__.Node at 0x7a25f13a2050>"
            ]
          },
          "execution_count": 5,
          "metadata": {},
          "output_type": "execute_result"
        }
      ],
      "source": [
        "# Get Node\n",
        "def nodeAt(head, ind):\n",
        "  temp = head\n",
        "  count = 0\n",
        "  while ind > count and temp!=None:\n",
        "    temp = temp.next\n",
        "    count += 1\n",
        "  if temp == None:\n",
        "    print(\"Invalid Index\")\n",
        "  else:\n",
        "    return temp\n",
        "\n",
        "nodeAt(building_1, 1)"
      ]
    },
    {
      "cell_type": "code",
      "execution_count": null,
      "metadata": {
        "colab": {
          "base_uri": "https://localhost:8080/"
        },
        "id": "ib0x7QzWNIeg",
        "outputId": "cc5e0c34-efb8-45fb-c592-da3018ed424f"
      },
      "outputs": [
        {
          "name": "stdout",
          "output_type": "stream",
          "text": [
            "Red\n",
            "Green\n",
            "Yellow\n",
            "Blue\n",
            "Gu\n"
          ]
        }
      ],
      "source": [
        "# Insert Element (Iterative)\n",
        "building_1 = createList(np.array(['Red', 'Green', 'Yellow', 'Blue']))\n",
        "def insert(head, elem, ind):\n",
        "  cur = head\n",
        "  prev = None\n",
        "  count = 0\n",
        "  while cur != None:\n",
        "    if ind == count:\n",
        "      if count == 0:\n",
        "        head = Node(elem, head)\n",
        "      else:\n",
        "        prev.next = Node(elem, cur)\n",
        "    if ind == count + 1 and cur.next == None:\n",
        "      cur.next = Node(elem, None)\n",
        "      break\n",
        "    prev = cur\n",
        "    cur = cur.next\n",
        "    count += 1\n",
        "  return head\n",
        "\n",
        "A = insert(building_1, 'Gu', 4)\n",
        "iteration(A)"
      ]
    },
    {
      "cell_type": "code",
      "execution_count": null,
      "metadata": {
        "colab": {
          "base_uri": "https://localhost:8080/"
        },
        "id": "MP6tWPkjesQJ",
        "outputId": "7c0f6490-7fdb-4f99-a77a-b1cc5860ecd8"
      },
      "outputs": [
        {
          "name": "stdout",
          "output_type": "stream",
          "text": [
            "Gu\n",
            "Red\n",
            "Green\n",
            "Yellow\n",
            "Blue\n",
            "\n",
            "Red\n",
            "Green\n",
            "Yellow\n",
            "Blue\n"
          ]
        }
      ],
      "source": [
        "# Insert Element (In place)\n",
        "building_1 = createList(np.array(['Red', 'Green', 'Yellow', 'Blue']))\n",
        "def counter(head):\n",
        "  count = 0\n",
        "  temp = head\n",
        "  while temp != None:\n",
        "    temp = temp.next\n",
        "    count += 1\n",
        "  return count\n",
        "\n",
        "def insertAt(head, elem, ind):\n",
        "  temp = head\n",
        "  length = counter(temp)\n",
        "  if ind == 0:\n",
        "    head = Node(elem, head)\n",
        "  elif ind == length:\n",
        "    cur = nodeAt(head, length - 1)\n",
        "    cur.next = Node(elem, None)\n",
        "  else:\n",
        "    prev = nodeAt(head, ind - 1)\n",
        "    cur = nodeAt(head, ind)\n",
        "    prev.next = Node(elem, cur)\n",
        "  iteration(head)\n",
        "  print()\n",
        "  return head\n",
        "\n",
        "insertAt(building_1, \"Gu\", 0)\n",
        "iteration(building_1)"
      ]
    },
    {
      "cell_type": "code",
      "execution_count": null,
      "metadata": {
        "colab": {
          "base_uri": "https://localhost:8080/"
        },
        "id": "bEjtFeOuFjLM",
        "outputId": "da61b26e-ce54-48a8-b8a7-08c5ab0c5e5e"
      },
      "outputs": [
        {
          "name": "stdout",
          "output_type": "stream",
          "text": [
            "Blue\n",
            "Yellow\n",
            "Green\n",
            "Red\n"
          ]
        }
      ],
      "source": [
        "# Reversing Linked List\n",
        "building_1 = createList(np.array(['Red', 'Green', 'Yellow', 'Blue']))\n",
        "def reverse(head):\n",
        "  newHead = None\n",
        "  temp = head\n",
        "  while temp != None:\n",
        "    after = temp.next     # Saves ref of temp.next before | n = temp = [Red], temp.next = [Green]\n",
        "    temp.next = newHead   # we assign the next value to new head | temp.next = [Green] -> [None]\n",
        "    newHead = temp        # and then change the ref of new head to temp | newHead = [Red], so temp.next = [None] -> [Red]\n",
        "    temp = after          # temp = [Red] -> [Green]\n",
        "  return newHead\n",
        "B = reverse(building_1)\n",
        "iteration(B)"
      ]
    },
    {
      "cell_type": "code",
      "execution_count": null,
      "metadata": {
        "colab": {
          "base_uri": "https://localhost:8080/"
        },
        "id": "OfXayNOvdk8Z",
        "outputId": "e7123103-bd07-429a-941d-87af99c6c0cb"
      },
      "outputs": [
        {
          "name": "stdout",
          "output_type": "stream",
          "text": [
            "Green\n",
            "Yellow\n",
            "Blue\n",
            "Red\n"
          ]
        }
      ],
      "source": [
        "# Rotate Left\n",
        "building_1 = createList(np.array(['Red', 'Green', 'Yellow', 'Blue']))\n",
        "def rotateLeft(head):\n",
        "  temp = head\n",
        "  newHead = head.next\n",
        "  while temp.next != None:\n",
        "    temp = temp.next\n",
        "  temp.next = head\n",
        "  head.next = None\n",
        "  return newHead\n",
        "\n",
        "B = rotateLeft(building_1)\n",
        "iteration(B)"
      ]
    },
    {
      "cell_type": "code",
      "execution_count": null,
      "metadata": {
        "colab": {
          "base_uri": "https://localhost:8080/"
        },
        "id": "orrSsBzVFMXC",
        "outputId": "2bebbe2c-053e-42a9-82e1-e04e1efbf178"
      },
      "outputs": [
        {
          "name": "stdout",
          "output_type": "stream",
          "text": [
            "None\n",
            "Red\n",
            "Green\n",
            "Yellow\n",
            "Blue\n"
          ]
        }
      ],
      "source": [
        "# Dummy Headed Linear\n",
        "building_1 = createList(np.array(['Red', 'Green', 'Yellow', 'Blue']))\n",
        "def createDHList(arr):\n",
        "  dh = Node(None)\n",
        "  temp = dh\n",
        "  for i in range(len(arr)):\n",
        "    temp.next = Node(arr[i])\n",
        "    temp = temp.next\n",
        "  return dh\n",
        "\n",
        "A = createDHList(np.array(['Red', 'Green', 'Yellow', 'Blue']))\n",
        "iteration(A)"
      ]
    },
    {
      "cell_type": "code",
      "execution_count": null,
      "metadata": {
        "colab": {
          "base_uri": "https://localhost:8080/"
        },
        "id": "hVNm3dRHFGWp",
        "outputId": "287ce661-a8c4-408a-ec97-1e4dcf3a4ed7"
      },
      "outputs": [
        {
          "name": "stdout",
          "output_type": "stream",
          "text": [
            "\n",
            "1\n",
            "3\n",
            "5\n",
            "7\n",
            "8\n",
            "11\n",
            "33\n"
          ]
        }
      ],
      "source": [
        "# Insert Element in a Sorted Linked List\n",
        "\n",
        "def sorted_insert(head, elem):\n",
        "  temp = head\n",
        "  prev = None\n",
        "  nod = Node(elem)\n",
        "  while temp is not None:\n",
        "    if head.elem >= elem:\n",
        "      n = head\n",
        "      head = nod\n",
        "      nod.next = n\n",
        "      break\n",
        "    if temp.next is not None:\n",
        "      if temp.next.elem >= elem:\n",
        "        n = temp.next\n",
        "        temp.next = nod\n",
        "        nod.next = n\n",
        "        break\n",
        "    else:\n",
        "      temp.next = nod\n",
        "      break\n",
        "    prev = temp\n",
        "    temp = temp.next\n",
        "  print()\n",
        "  return head\n",
        "A = createList(np.array([1, 3, 5, 7, 8, 11]))\n",
        "B = sorted_insert(A, 33)\n",
        "iteration(B)"
      ]
    },
    {
      "cell_type": "code",
      "execution_count": null,
      "metadata": {
        "colab": {
          "base_uri": "https://localhost:8080/"
        },
        "id": "hUgtFKPgKnSb",
        "outputId": "489a73b3-f290-4a23-c3ab-3880c871b3aa"
      },
      "outputs": [
        {
          "name": "stdout",
          "output_type": "stream",
          "text": [
            "\n",
            "7\n",
            "2\n",
            "15\n",
            "5\n",
            "8\n",
            "11\n",
            "33\n"
          ]
        }
      ],
      "source": [
        "# Sort a Linked List that is already Sorted on Absolute Values\n",
        "def sort(head):\n",
        "  temp = head\n",
        "\n",
        "A = createList(np.array([7, 2, 15, 5, 8, 11]))\n",
        "B = sorted_insert(A, 33)\n",
        "iteration(B)"
      ]
    },
    {
      "cell_type": "code",
      "execution_count": null,
      "metadata": {
        "colab": {
          "base_uri": "https://localhost:8080/"
        },
        "id": "ijvdosKBNfj5",
        "outputId": "39b2ea05-5d52-494d-e255-19d742f91ecf"
      },
      "outputs": [
        {
          "name": "stdout",
          "output_type": "stream",
          "text": [
            "6.5\n"
          ]
        }
      ],
      "source": [
        "# Finding the Middle Element of a Linked List (By Traversal)\n",
        "def leng(head):\n",
        "  temp = head\n",
        "  length = 0\n",
        "  while temp is not None:\n",
        "    temp = temp.next\n",
        "    length += 1\n",
        "  return length\n",
        "\n",
        "def midElem(head):\n",
        "  length = leng(head)\n",
        "  temp = head\n",
        "  count = 0\n",
        "  while count < length//2:\n",
        "    if length%2 == 0:\n",
        "      if count == length//2 - 1:\n",
        "        return (temp.elem + temp.next.elem)/2\n",
        "    temp = temp.next\n",
        "    count += 1\n",
        "  return temp.elem\n",
        "\n",
        "A = createList(np.array([7, 2, 15, 5, 8, 11, 13, 2]))\n",
        "B = midElem(A)\n",
        "print(B)"
      ]
    },
    {
      "cell_type": "code",
      "execution_count": null,
      "metadata": {
        "colab": {
          "base_uri": "https://localhost:8080/"
        },
        "id": "Wio-s2DOQCNx",
        "outputId": "c3f0ef64-a2ef-49bb-b83e-e51e9346cc1d"
      },
      "outputs": [
        {
          "name": "stdout",
          "output_type": "stream",
          "text": [
            "6.5\n"
          ]
        }
      ],
      "source": [
        "# Finding the Middle Element of a Linked List (By Pointers)\n",
        "def midElemPointer(head):\n",
        "  temp = head\n",
        "\n",
        "\n",
        "A = createList(np.array([7, 2, 15, 5, 8, 11, 13, 2]))\n",
        "B = midElem(A)\n",
        "print(B)"
      ]
    },
    {
      "cell_type": "code",
      "execution_count": null,
      "metadata": {
        "id": "muzPcra-Oh4y"
      },
      "outputs": [],
      "source": [
        "# Detecting Loops or Cycle in a Linked List (Marking Nodes) [Using Array]\n",
        "def detectLoop(head):\n",
        "  length = leng(head)\n",
        "  arr0 = np.array([0]*length)\n",
        "  temp = head\n",
        "  count = 0\n",
        "  while head is not None:\n",
        "    if head in arr0:\n",
        "      return True\n",
        "    arr0[count] = head\n",
        "    head = head.next\n",
        "  return False"
      ]
    },
    {
      "cell_type": "code",
      "execution_count": null,
      "metadata": {
        "id": "mltEO1HMY2r3"
      },
      "outputs": [],
      "source": [
        "# Detecting Loops or Cycle in a Linked List (Marking Nodes) [Using Member of Node]\n",
        "def detectLoop(head):\n"
      ]
    },
    {
      "cell_type": "code",
      "execution_count": null,
      "metadata": {
        "colab": {
          "base_uri": "https://localhost:8080/",
          "height": 315
        },
        "id": "6gqfEvSmk1hv",
        "outputId": "cd203d27-a094-4ada-f2cb-d9fba42e08b0"
      },
      "outputs": [
        {
          "ename": "AttributeError",
          "evalue": "'NoneType' object has no attribute 'next'",
          "output_type": "error",
          "traceback": [
            "\u001b[0;31m---------------------------------------------------------------------------\u001b[0m",
            "\u001b[0;31mAttributeError\u001b[0m                            Traceback (most recent call last)",
            "\u001b[0;32m<ipython-input-32-1d8b142aca02>\u001b[0m in \u001b[0;36m<cell line: 16>\u001b[0;34m()\u001b[0m\n\u001b[1;32m     14\u001b[0m \u001b[0;34m\u001b[0m\u001b[0m\n\u001b[1;32m     15\u001b[0m \u001b[0mA\u001b[0m \u001b[0;34m=\u001b[0m \u001b[0mcreateList\u001b[0m\u001b[0;34m(\u001b[0m\u001b[0mnp\u001b[0m\u001b[0;34m.\u001b[0m\u001b[0marray\u001b[0m\u001b[0;34m(\u001b[0m\u001b[0;34m[\u001b[0m\u001b[0;36m3\u001b[0m\u001b[0;34m,\u001b[0m \u001b[0;36m15\u001b[0m\u001b[0;34m,\u001b[0m \u001b[0;36m5\u001b[0m\u001b[0;34m,\u001b[0m \u001b[0;36m8\u001b[0m\u001b[0;34m,\u001b[0m \u001b[0;36m11\u001b[0m\u001b[0;34m,\u001b[0m \u001b[0;36m13\u001b[0m\u001b[0;34m,\u001b[0m \u001b[0;36m2\u001b[0m\u001b[0;34m,\u001b[0m \u001b[0;36m5\u001b[0m\u001b[0;34m]\u001b[0m\u001b[0;34m)\u001b[0m\u001b[0;34m)\u001b[0m\u001b[0;34m\u001b[0m\u001b[0;34m\u001b[0m\u001b[0m\n\u001b[0;32m---> 16\u001b[0;31m \u001b[0mB\u001b[0m \u001b[0;34m=\u001b[0m \u001b[0mremoveOdd\u001b[0m\u001b[0;34m(\u001b[0m\u001b[0mA\u001b[0m\u001b[0;34m)\u001b[0m\u001b[0;34m\u001b[0m\u001b[0;34m\u001b[0m\u001b[0m\n\u001b[0m\u001b[1;32m     17\u001b[0m \u001b[0miteration\u001b[0m\u001b[0;34m(\u001b[0m\u001b[0mB\u001b[0m\u001b[0;34m)\u001b[0m\u001b[0;34m\u001b[0m\u001b[0;34m\u001b[0m\u001b[0m\n",
            "\u001b[0;32m<ipython-input-32-1d8b142aca02>\u001b[0m in \u001b[0;36mremoveOdd\u001b[0;34m(head)\u001b[0m\n\u001b[1;32m      7\u001b[0m       \u001b[0;32mif\u001b[0m \u001b[0mtemp\u001b[0m \u001b[0;32mis\u001b[0m \u001b[0mhead\u001b[0m\u001b[0;34m:\u001b[0m\u001b[0;34m\u001b[0m\u001b[0;34m\u001b[0m\u001b[0m\n\u001b[1;32m      8\u001b[0m         \u001b[0mhead\u001b[0m \u001b[0;34m=\u001b[0m \u001b[0mhead\u001b[0m\u001b[0;34m.\u001b[0m\u001b[0mnext\u001b[0m\u001b[0;34m\u001b[0m\u001b[0;34m\u001b[0m\u001b[0m\n\u001b[0;32m----> 9\u001b[0;31m       \u001b[0mprev\u001b[0m\u001b[0;34m.\u001b[0m\u001b[0mnext\u001b[0m \u001b[0;34m=\u001b[0m \u001b[0mtemp\u001b[0m\u001b[0;34m.\u001b[0m\u001b[0mnext\u001b[0m\u001b[0;34m\u001b[0m\u001b[0;34m\u001b[0m\u001b[0m\n\u001b[0m\u001b[1;32m     10\u001b[0m     \u001b[0;32melse\u001b[0m\u001b[0;34m:\u001b[0m\u001b[0;34m\u001b[0m\u001b[0;34m\u001b[0m\u001b[0m\n\u001b[1;32m     11\u001b[0m       \u001b[0mprev\u001b[0m \u001b[0;34m=\u001b[0m \u001b[0mtemp\u001b[0m\u001b[0;34m\u001b[0m\u001b[0;34m\u001b[0m\u001b[0m\n",
            "\u001b[0;31mAttributeError\u001b[0m: 'NoneType' object has no attribute 'next'"
          ]
        }
      ],
      "source": [
        "# Remove Odd Numbers from Linked List\n",
        "def removeOdd(head):\n",
        "  temp = head\n",
        "  prev = None\n",
        "  while temp != None:\n",
        "    if not temp.elem%2 == 0:\n",
        "      if temp is head:\n",
        "        head = head.next\n",
        "\n",
        "      prev.next = temp.next\n",
        "    else:\n",
        "      prev = temp\n",
        "    temp = temp.next\n",
        "  return head\n",
        "\n",
        "A = createList(np.array([3, 15, 5, 8, 11, 13, 2, 5]))\n",
        "B = removeOdd(A)\n",
        "iteration(B)"
      ]
    },
    {
      "cell_type": "code",
      "execution_count": null,
      "metadata": {
        "colab": {
          "base_uri": "https://localhost:8080/"
        },
        "id": "WKL-uLuPpYGO",
        "outputId": "0f37c7aa-f77b-48e8-b199-7dbde5e171ad"
      },
      "outputs": [
        {
          "data": {
            "text/plain": [
              "True"
            ]
          },
          "execution_count": 6,
          "metadata": {},
          "output_type": "execute_result"
        }
      ],
      "source": [
        "def IsSumPossible(head, n):\n",
        "  temp = head\n",
        "  while temp is not None:\n",
        "    cur = temp.next\n",
        "    while cur is not None:\n",
        "      if (cur.elem+temp.elem) == n:\n",
        "        return True\n",
        "      cur = cur.next\n",
        "    temp = temp.next\n",
        "\n",
        "A = createList([1, 2, 3, 4, 5])\n",
        "IsSumPossible(A, 5)"
      ]
    },
    {
      "cell_type": "code",
      "execution_count": null,
      "metadata": {
        "colab": {
          "base_uri": "https://localhost:8080/"
        },
        "id": "tkMC_ZYyrK23",
        "outputId": "b291c612-01b5-4233-f23c-32f36733d591"
      },
      "outputs": [
        {
          "name": "stdout",
          "output_type": "stream",
          "text": [
            "101\n",
            "103\n",
            "102\n",
            "104\n",
            "105\n"
          ]
        }
      ],
      "source": [
        "def remove_Duplicates(head):\n",
        "  temp = head\n",
        "  while temp is not None:\n",
        "    cur = temp.next\n",
        "    prev = temp\n",
        "    while cur is not None:\n",
        "      if cur.elem != temp.elem:\n",
        "        prev = cur\n",
        "      else:\n",
        "        prev.next = cur.next\n",
        "      cur = cur.next\n",
        "    temp = temp.next\n",
        "  return head\n",
        "A = createList([101, 101, 103, 101, 102, 103, 104, 105, 105])\n",
        "B = remove_Duplicates(A)\n",
        "iteration(B)"
      ]
    },
    {
      "cell_type": "code",
      "execution_count": null,
      "metadata": {
        "colab": {
          "base_uri": "https://localhost:8080/"
        },
        "id": "pup9Tx221JhV",
        "outputId": "a9971eb7-c271-46a7-dac0-c181e6b94472"
      },
      "outputs": [
        {
          "name": "stdout",
          "output_type": "stream",
          "text": [
            "105\n",
            "104\n",
            "103\n",
            "102\n",
            "101\n"
          ]
        }
      ],
      "source": [
        "def reverse(head):\n",
        "  newHead = None\n",
        "  temp = head\n",
        "  before = None\n",
        "  after = temp.next\n",
        "  while temp is not None:\n",
        "    after = temp.next\n",
        "    temp.next = before\n",
        "    before = temp\n",
        "    temp = after\n",
        "  newHead = before\n",
        "  return newHead"
      ]
    },
    {
      "cell_type": "code",
      "execution_count": null,
      "metadata": {
        "id": "Zh--kBv2BTOz"
      },
      "outputs": [],
      "source": [
        "def reverse(head):\n",
        "  temp = head\n",
        "  while temp is not None:\n",
        "    n = temp.next\n",
        "    prev = temp\n",
        "    prev.next = temp.next\n",
        "    temp = n\n",
        "A = createList([101, 102, 103, 104, 105])\n",
        "B = reverse(A)\n",
        "iteration(B)"
      ]
    },
    {
      "cell_type": "markdown",
      "metadata": {
        "id": "JVuUEdkdFBg7"
      },
      "source": [
        "### Doubly Linked"
      ]
    },
    {
      "cell_type": "code",
      "execution_count": null,
      "metadata": {
        "id": "m06Wfr7FNOdh"
      },
      "outputs": [],
      "source": [
        "#Initialization\n",
        "class DoublyNode:\n",
        "  def __init__(self, elem, next = None, prev = None):\n",
        "    self.elem = elem\n",
        "    self.next = next\n",
        "    self.prev = prev"
      ]
    },
    {
      "cell_type": "code",
      "execution_count": null,
      "metadata": {
        "colab": {
          "base_uri": "https://localhost:8080/"
        },
        "id": "Bz2oS1qLNlQ7",
        "outputId": "294e975b-8e6e-4f70-fa51-8dbc35b16d0c"
      },
      "outputs": [
        {
          "name": "stdout",
          "output_type": "stream",
          "text": [
            "Red\n",
            "Green\n"
          ]
        }
      ],
      "source": [
        "#Creation\n",
        "def createList(arr):\n",
        "  dh = DoublyNode(None, None, None)\n",
        "  dh.next = dh\n",
        "  dh.prev = dh\n",
        "  temp = dh\n",
        "  for i in range(len(arr)):\n",
        "    nod = DoublyNode(arr[i], dh, temp)\n",
        "    temp.next = nod\n",
        "    temp = temp.next\n",
        "    dh.prev = temp\n",
        "  return dh\n",
        "\n",
        "A = createList(np.array(['Red', 'Green']))\n",
        "iteration(A)"
      ]
    },
    {
      "cell_type": "code",
      "execution_count": null,
      "metadata": {
        "colab": {
          "base_uri": "https://localhost:8080/"
        },
        "id": "LSWBvkv2P9cn",
        "outputId": "948607d1-6c10-4baf-b87e-a3fbda543884"
      },
      "outputs": [
        {
          "name": "stdout",
          "output_type": "stream",
          "text": [
            "Red\n",
            "Green\n",
            "Yellow\n",
            "Blue\n"
          ]
        }
      ],
      "source": [
        "# Iteration\n",
        "def iteration(dh):\n",
        "  temp = dh.next\n",
        "  while temp != dh:\n",
        "    print(temp.elem)\n",
        "    temp = temp.next\n",
        "\n",
        "A = createList(np.array(['Red', 'Green', 'Yellow', 'Blue']))\n",
        "iteration(A)"
      ]
    },
    {
      "cell_type": "code",
      "execution_count": null,
      "metadata": {
        "colab": {
          "base_uri": "https://localhost:8080/"
        },
        "id": "Eqfq0UM1nU4r",
        "outputId": "faf443bc-e079-4c8b-a4df-315d0e1993f0"
      },
      "outputs": [
        {
          "data": {
            "text/plain": [
              "<__main__.DoublyNode at 0x7933bb2b7fd0>"
            ]
          },
          "execution_count": 7,
          "metadata": {},
          "output_type": "execute_result"
        }
      ],
      "source": [
        "# Get Node\n",
        "A = createList(np.array(['Red', 'Green', 'Yellow', 'Blue']))\n",
        "def nodeAt(dh, ind):\n",
        "  temp = dh.next\n",
        "  count = 0\n",
        "  while count < ind and temp != dh:\n",
        "    if ind == count + 1 and temp.next is dh:\n",
        "\n",
        "      temp = temp.next\n",
        "    count += 1\n",
        "  if ind != count or temp == dh:\n",
        "    return None\n",
        "  else:\n",
        "    return temp\n",
        "\n",
        "nodeAt(A, 0)"
      ]
    },
    {
      "cell_type": "code",
      "execution_count": null,
      "metadata": {
        "id": "fw27YPSx0HZl"
      },
      "outputs": [],
      "source": [
        "# A = createList(np.array(['Red', 'Green', 'Yellow', 'Blue']))\n",
        "# def nodeAt(dh, ind):\n",
        "#   temp = dh.next\n",
        "#   count = 0\n",
        "#   while temp != dh:\n",
        "#     if ind == count:\n",
        "#       return temp\n",
        "#     temp = temp.next\n",
        "#     count += 1\n",
        "#   return 1\n",
        "\n",
        "# nodeAt(A, 0)"
      ]
    },
    {
      "cell_type": "code",
      "execution_count": null,
      "metadata": {
        "colab": {
          "base_uri": "https://localhost:8080/"
        },
        "id": "glwX92C0oC7D",
        "outputId": "6b80650e-7be7-4d66-a749-56d5be8cc673"
      },
      "outputs": [
        {
          "name": "stdout",
          "output_type": "stream",
          "text": [
            "Red\n",
            "Green\n",
            "Yellow\n",
            "Blue\n",
            "Red\n",
            "Green\n",
            "Yellow\n",
            "Blue\n"
          ]
        }
      ],
      "source": [
        "# Insertion\n",
        "def insert(dh, elem, ind):\n",
        "  temp = dh.next\n",
        "  count = 0\n",
        "  while temp != dh:\n",
        "    # print(temp.elem)\n",
        "    if ind == count:\n",
        "      # print(temp.prev, temp, temp.next)\n",
        "      nod = DoublyNode(elem, temp, temp.prev)\n",
        "      # print(nod.prev, nod.next)\n",
        "    print(temp.elem)\n",
        "    temp = temp.next\n",
        "    count += 1\n",
        "  return dh\n",
        "\n",
        "A = createList(np.array(['Red', 'Green', 'Yellow', 'Blue']))\n",
        "B = insert(A, 'Gu', 1)\n",
        "iteration(B)"
      ]
    },
    {
      "cell_type": "code",
      "execution_count": null,
      "metadata": {
        "colab": {
          "base_uri": "https://localhost:8080/"
        },
        "id": "2q1XRDSpvX8R",
        "outputId": "eac8d856-9d27-43fb-8993-02661dd3dfdb"
      },
      "outputs": [
        {
          "name": "stdout",
          "output_type": "stream",
          "text": [
            "Gu\n",
            "Red\n",
            "Green\n",
            "Yellow\n",
            "Blue\n"
          ]
        }
      ],
      "source": [
        "# Insertion\n",
        "def insertAt(dh, elem, ind):\n",
        "  cur = nodeAt(dh, ind)\n",
        "  prev = cur.prev\n",
        "  nod = DoublyNode(elem, None, None)\n",
        "  prev.next = nod\n",
        "  nod.next = cur\n",
        "  return dh\n",
        "\n",
        "A = createList(np.array(['Red', 'Green', 'Yellow', 'Blue']))\n",
        "B = insertAt(A, 'Gu', 0)\n",
        "iteration(B)"
      ]
    },
    {
      "cell_type": "code",
      "execution_count": null,
      "metadata": {
        "colab": {
          "base_uri": "https://localhost:8080/"
        },
        "id": "hBpZOR3Yb96G",
        "outputId": "56d88271-e8e4-4273-f0c9-44fa567d4887"
      },
      "outputs": [
        {
          "name": "stdout",
          "output_type": "stream",
          "text": [
            "Red\n",
            "Green\n",
            "Yellow\n",
            "Blue\n"
          ]
        }
      ],
      "source": [
        "# Doubly Linked Circular\n",
        "def dh_circular(arr):\n",
        "  dh = DoublyNode(None, None, None)\n",
        "  dh.next = dh\n",
        "  dh.prev = dh\n",
        "  temp = dh\n",
        "  for i in range(len(arr)):\n",
        "    nod = DoublyNode(arr[i], dh, temp)\n",
        "    temp.next = nod\n",
        "    temp = temp.next\n",
        "    dh.prev = temp\n",
        "  return dh\n",
        "\n",
        "def iteration(dh):\n",
        "  temp = dh.next\n",
        "  while temp != dh:\n",
        "    print(temp.elem)\n",
        "    temp = temp.next\n",
        "\n",
        "A = dh_circular(np.array(['Red', 'Green', 'Yellow', 'Blue']))\n",
        "iteration(A)"
      ]
    },
    {
      "cell_type": "code",
      "execution_count": null,
      "metadata": {
        "colab": {
          "base_uri": "https://localhost:8080/"
        },
        "id": "Ko7bK4ykeSEd",
        "outputId": "5a376bd9-72fd-45c0-a6f5-0278fa5b4a57"
      },
      "outputs": [
        {
          "name": "stdout",
          "output_type": "stream",
          "text": [
            "Blue\n",
            "Yellow\n",
            "Green\n",
            "Red\n"
          ]
        }
      ],
      "source": [
        "def reverse_circular(dh):\n",
        "  # temp = dh.next\n",
        "  # while temp is not dh:\n",
        "  #   node = temp\n",
        "  #   temp = temp.next\n",
        "  #   prev = node.prev\n",
        "  #   node.prev = node.next\n",
        "  #   node.next = prev\n",
        "\n",
        "  # head_next = dh.next\n",
        "  # dh.next = dh.prev\n",
        "  # dh.prev = head_next\n",
        "\n",
        "  # return dh\n",
        "  temp = dh.next\n",
        "  while temp is not dh:\n",
        "    nod = temp\n",
        "    temp = temp.next\n",
        "    prev = nod.prev\n",
        "    nod.prev = nod.next\n",
        "    nod.next = prev\n",
        "  head_next = dh.next\n",
        "  dh.next = dh.prev\n",
        "  dh.prev = head_next\n",
        "  return dh\n",
        "A = dh_circular(np.array(['Red', 'Green', 'Yellow', 'Blue']))\n",
        "B = reverse_circular(A)\n",
        "iteration(B)"
      ]
    },
    {
      "cell_type": "markdown",
      "metadata": {
        "id": "4roKokrSCtT5"
      },
      "source": [
        "# Stack"
      ]
    },
    {
      "cell_type": "code",
      "execution_count": null,
      "metadata": {
        "colab": {
          "base_uri": "https://localhost:8080/"
        },
        "id": "vpMOYzXgCw6j",
        "outputId": "95a38af9-a8b2-4127-982b-05ca4f79a744"
      },
      "outputs": [
        {
          "name": "stdout",
          "output_type": "stream",
          "text": [
            "| 9 |\n",
            "| 1 |\n",
            "| 5 |\n",
            "| 3 |\n",
            "| 4 |\n",
            "Peeked Element:  9\n",
            "Popped Element:  9\n",
            "Popped Element:  1\n",
            "Popped Element:  5\n",
            "Peeked Element:  3\n",
            "| 3 |\n",
            "| 4 |\n",
            "Popped Element:  3\n",
            "Popped Element:  4\n",
            "Peeked Element:  None\n",
            "Popped Element:  None\n",
            "True\n"
          ]
        }
      ],
      "source": [
        "# Initialization\n",
        "class Node:\n",
        "  def __init__(self, elem, next = None):\n",
        "    self.elem = elem\n",
        "    self.next = next\n",
        "\n",
        "class Stack:\n",
        "  def __init__(self):\n",
        "    self.top = None\n",
        "\n",
        "  def push(self, elem):\n",
        "    prev = self.top\n",
        "    self.top = Node(elem, prev)\n",
        "\n",
        "  def pop(self):\n",
        "    e = self.top\n",
        "    if self.top is None:\n",
        "      return None\n",
        "    self.top = self.top.next\n",
        "    return e.elem\n",
        "\n",
        "  def peek(self):\n",
        "    if self.top is None:\n",
        "      return None\n",
        "    else:\n",
        "      return (self.top.elem)\n",
        "\n",
        "  def isEmpty(self):\n",
        "    temp = self.top\n",
        "    c = 0\n",
        "    while temp != None:\n",
        "      temp = temp.next\n",
        "      c += 1\n",
        "    if c > 0:\n",
        "      return False\n",
        "    else:\n",
        "      return True\n",
        "\n",
        "def print_stack(st):\n",
        "  if st.isEmpty():\n",
        "    return\n",
        "  p = st.pop()\n",
        "  print('|',p,end=' ')\n",
        "  print('|')\n",
        "  # if p<10:\n",
        "  #   print(' |')\n",
        "  # else:\n",
        "  #   print('|')\n",
        "  #print('------')\n",
        "  print_stack(st)\n",
        "  st.push(p)\n",
        "\n",
        "st = Stack()\n",
        "st.push(4)\n",
        "st.push(3)\n",
        "st.push(5)\n",
        "st.push(1)\n",
        "st.push(9)\n",
        "print_stack(st)\n",
        "print('Peeked Element: ',st.peek())\n",
        "print('Popped Element: ',st.pop())\n",
        "print('Popped Element: ',st.pop())\n",
        "print('Popped Element: ',st.pop())\n",
        "print('Peeked Element: ',st.peek())\n",
        "print_stack(st)\n",
        "print('Popped Element: ',st.pop())\n",
        "print('Popped Element: ',st.pop())\n",
        "print_stack(st)\n",
        "print('Peeked Element: ',st.peek())\n",
        "print('Popped Element: ',st.pop())\n",
        "print(st.isEmpty())"
      ]
    },
    {
      "cell_type": "code",
      "execution_count": null,
      "metadata": {
        "colab": {
          "base_uri": "https://localhost:8080/"
        },
        "id": "w4hU-ihQ_M2q",
        "outputId": "518505c4-fbd0-47f0-f738-07b5a05559eb"
      },
      "outputs": [
        {
          "name": "stdout",
          "output_type": "stream",
          "text": [
            "[0, 1, 1, 4, 2, 1, 1, 0, 0]\n"
          ]
        }
      ],
      "source": [
        "import numpy as np\n",
        "temperatures = [99,73,74,75,71,69,72,76,71]\n",
        "def dailyTemperatures(temps):\n",
        "  stack = []\n",
        "  output = temps\n",
        "  for i in range(len(temps)-1):\n",
        "    while len(stack) != 0:\n",
        "      if output[stack[-1]] < temps[i+1]:\n",
        "        x = stack.pop()\n",
        "        output[x] = (i+1) - x\n",
        "      else:\n",
        "        break\n",
        "\n",
        "    if temps[i] < temps[i+1]:\n",
        "      output[i] = 1\n",
        "    else:\n",
        "      stack += [i]\n",
        "  temps[len(temps)-1] = 0\n",
        "\n",
        "  while len(stack) != 0:\n",
        "    output[stack.pop()] = 0\n",
        "\n",
        "  return output\n",
        "\n",
        "print(dailyTemperatures(temperatures))"
      ]
    },
    {
      "cell_type": "code",
      "execution_count": null,
      "metadata": {
        "colab": {
          "base_uri": "https://localhost:8080/"
        },
        "id": "i-8LQsVWLZnK",
        "outputId": "f5463201-cf2b-42d6-81a1-926832685f5f"
      },
      "outputs": [
        {
          "name": "stdout",
          "output_type": "stream",
          "text": [
            "99 0\n",
            "1 0\n",
            "1 0\n",
            "75 3\n",
            "71 4\n",
            "69 5\n",
            "1 0\n",
            "76 7\n",
            "7\n"
          ]
        },
        {
          "data": {
            "text/plain": [
              "[0, 1, 1, 4, 3, 2, 1, 0, 0]"
            ]
          },
          "execution_count": 18,
          "metadata": {},
          "output_type": "execute_result"
        }
      ],
      "source": [
        "def dailyTemperatures(arr):\n",
        "  countStack = Stack()\n",
        "  for x in range (len(arr)-1):\n",
        "    while not countStack.isEmpty():\n",
        "      if arr[countStack.peek()] < arr[x+1]:\n",
        "        temp = countStack.pop()\n",
        "        arr[temp] = x - temp + 1\n",
        "      else:\n",
        "        break\n",
        "    if arr[x] < arr[x+1]:\n",
        "      arr[x] = 1\n",
        "    else:\n",
        "      countStack.push(x)\n",
        "    arr[len(arr)-1] = 0\n",
        "    print(arr[x], countStack.peek())\n",
        "\n",
        "  print(countStack.peek())\n",
        "  while not countStack.isEmpty():\n",
        "    arr[countStack.pop()] = 0\n",
        "  return arr\n",
        "\n",
        "temperatures = [99, 73,74,75,71,69,68,76,73]\n",
        "dailyTemperatures(temperatures)"
      ]
    },
    {
      "cell_type": "code",
      "execution_count": null,
      "metadata": {
        "colab": {
          "base_uri": "https://localhost:8080/"
        },
        "id": "_4LFPSZdSryb",
        "outputId": "01a23637-1d79-40aa-9af5-cfdbe6f84998"
      },
      "outputs": [
        {
          "data": {
            "text/plain": [
              "22"
            ]
          },
          "execution_count": 40,
          "metadata": {},
          "output_type": "execute_result"
        }
      ],
      "source": [
        "def evalRPN(tokens):\n",
        "  stack = []\n",
        "  for i in tokens:\n",
        "    stack += [i]\n",
        "    if i == '/':\n",
        "      stack.pop()\n",
        "      b = stack.pop()\n",
        "      a = stack.pop()\n",
        "      stack += [int(a)/int(b)]\n",
        "    elif i == '*':\n",
        "      stack.pop()\n",
        "      stack += [int(stack.pop())*int(stack.pop())]\n",
        "    elif i == '+':\n",
        "      stack.pop()\n",
        "      stack += [int(stack.pop())+int(stack.pop())]\n",
        "    elif i == '-':\n",
        "      stack.pop()\n",
        "      b = stack.pop()\n",
        "      a = stack.pop()\n",
        "      stack += [int(a)-int(b)]\n",
        "    return stack.pop()\n",
        "tokens = [\"2\",\"1\",\"+\",\"3\",\"*\"]\n",
        "tokens = [\"4\",\"13\",\"5\",\"/\",\"+\"]\n",
        "tokens = [\"10\",\"6\",\"9\",\"3\",\"+\",\"-11\",\"*\",\"/\",\"*\",\"17\",\"+\",\"5\",\"+\"]\n",
        "evalRPN(tokens)"
      ]
    },
    {
      "cell_type": "code",
      "execution_count": null,
      "metadata": {
        "id": "DVCZ9p5pkHCg"
      },
      "outputs": [],
      "source": [
        "def rotate_stack(stack, k):\n",
        "  stack0 = Stack()\n",
        "  stack1 = Stack()\n",
        "  stack2 = Stack()\n",
        "  c = 0\n",
        "  temp = stack\n",
        "  while not temp.isEmpty():\n",
        "    temp.pop()\n",
        "    c += 1\n",
        "  k = k%c\n",
        "  for i in range(k):\n",
        "    stack2.push(stack.pop())\n",
        "  stack0.push(stack.pop())\n",
        "  while not stack2.isEmpty():\n",
        "    stack0.push(stack2.pop())\n",
        "  while not stack1.isEmpty():\n",
        "    stack0.push(stack1.pop())\n",
        "\n",
        "  return stack0"
      ]
    },
    {
      "cell_type": "markdown",
      "metadata": {
        "id": "qkB9mZ_Mw1-f"
      },
      "source": [
        "# Hashing"
      ]
    },
    {
      "cell_type": "markdown",
      "metadata": {
        "id": "8310N1VLw1-f"
      },
      "source": [
        "Implement a function remove(hashTable, key) that takes a key and a hash-table as\n",
        "parameters. The function removes the key-value pair from the aforementioned hashtable if such a\n",
        "key-value pair (whose key matches the key passed as argument) exists in the hashtable and return\n",
        "the table. If the key does not exist, the function returns the same hash table.\n",
        "Consider, Node class, hash_function and hashTable are given to you. You just need to complete\n",
        "the remove(hashTable, key) function.\n",
        "class Node:\n",
        "def __init__(self, key, value, next=None):\n",
        "self.key, self.value, self.next = key, value, next\n",
        "\n",
        "Python Notation:\n",
        "def remove(hashTable, key):"
      ]
    },
    {
      "cell_type": "code",
      "execution_count": null,
      "metadata": {
        "id": "b45vDCTtw1-f"
      },
      "outputs": [],
      "source": [
        "def check(key):\n",
        "    v = 0\n",
        "    for i in key:\n",
        "        if i.isnumeric():\n",
        "            v += int(i)\n",
        "        else:\n",
        "            v += ord(i)\n",
        "    return v % 3\n",
        "\n",
        "def remove(hashTable, key):\n",
        "    index = check(key)\n",
        "    if hashTable[index] is not None:\n",
        "        cur = hashTable[index]\n",
        "        while cur is not None:\n",
        "            prev = cur\n",
        "            if cur.key == key:\n",
        "                cur = cur.next\n",
        "                prev.next = cur\n",
        "                break\n",
        "            cur = cur.next\n",
        "    else:\n",
        "        return hashTable\n",
        "    return hashTable"
      ]
    },
    {
      "cell_type": "markdown",
      "metadata": {
        "id": "raw-uM5eh_Lu"
      },
      "source": [
        "# Binary Tree"
      ]
    },
    {
      "cell_type": "code",
      "execution_count": null,
      "metadata": {
        "id": "pbl9jrQ8iEBm"
      },
      "outputs": [],
      "source": [
        "# Tree Node\n",
        "class BTNode:\n",
        "  def __init__(self, elem, left = None, right = None):\n",
        "    self.elem = elem\n",
        "    self.left = left\n",
        "    self.right = right"
      ]
    },
    {
      "cell_type": "code",
      "execution_count": null,
      "metadata": {
        "id": "9Ys3s-a9pJK0"
      },
      "outputs": [],
      "source": [
        "# Traverse Pre Order\n",
        "def pre_order(root):\n",
        "  if root is None:\n",
        "    return\n",
        "  print(root.elem, end = ' ')\n",
        "  pre_order(root.left)\n",
        "  pre_order(root.right)"
      ]
    },
    {
      "cell_type": "code",
      "execution_count": null,
      "metadata": {
        "id": "F08aCbJ8lFlc"
      },
      "outputs": [],
      "source": [
        "# Traverse Inorder\n",
        "def inorder(root):\n",
        "  if root is None:\n",
        "    return\n",
        "  inorder(root.left)\n",
        "  print(root.elem, end=' ')\n",
        "  return inorder(root.right)"
      ]
    },
    {
      "cell_type": "code",
      "execution_count": null,
      "metadata": {
        "id": "coAtlANCpv51"
      },
      "outputs": [],
      "source": [
        "# Traverse Post Order\n",
        "def post_order(root):\n",
        "  if root is None:\n",
        "    return\n",
        "  post_order(root.left)\n",
        "  post_order(root.right)\n",
        "  print(root.elem, end = ' ')"
      ]
    },
    {
      "cell_type": "code",
      "execution_count": null,
      "metadata": {
        "colab": {
          "base_uri": "https://localhost:8080/"
        },
        "id": "bNUDfAjii9qu",
        "outputId": "eee08e4f-3054-42d1-b7e6-d8cd34e8a466"
      },
      "outputs": [
        {
          "name": "stdout",
          "output_type": "stream",
          "text": [
            "H D B E A I F J C G K "
          ]
        }
      ],
      "source": [
        "# Construction from Array\n",
        "def tree_construction(arr, i = 1):\n",
        "  if i >= len(arr) or arr[i] is None:\n",
        "    return\n",
        "  root = BTNode(arr[i])\n",
        "  root.left = (tree_construction(arr, 2*i))\n",
        "  root.right = (tree_construction(arr, 2*i + 1))\n",
        "  return root\n",
        "\n",
        "root2 = tree_construction([None, 'A', 'B', 'C', 'D', 'E', 'F', 'G', 'H', None, None, None, 'I', 'J', None, 'K'])\n",
        "inorder(root2)"
      ]
    },
    {
      "cell_type": "code",
      "execution_count": null,
      "metadata": {
        "id": "LGEw32Nzw1-g"
      },
      "outputs": [],
      "source": [
        "def count(root):\n",
        "    if root is None:\n",
        "        return 0\n",
        "    return 1 + count(root.left) + count(root.right)"
      ]
    },
    {
      "cell_type": "code",
      "execution_count": null,
      "metadata": {
        "id": "V3h2a30Pw1-g"
      },
      "outputs": [],
      "source": [
        "def get_level(root, lvl, elem):\n",
        "    if root is None:\n",
        "        return 0\n",
        "    if root.elem == elem:\n",
        "        return lvl\n",
        "    L = get_level(root.left, lvl+1, elem)\n",
        "    if L != 0:\n",
        "        return L\n",
        "    L = get_level(root.right, lvl+1, elem)\n",
        "    return L"
      ]
    },
    {
      "cell_type": "code",
      "execution_count": null,
      "metadata": {
        "id": "QpTpGYlOw1-g"
      },
      "outputs": [],
      "source": [
        "def height(root, i = 0):\n",
        "    if root is None:\n",
        "        return i\n",
        "    L = height(root.left, i+1)\n",
        "    R = height(root.right, i+1)\n",
        "    if L > R:\n",
        "        return L\n",
        "    return R"
      ]
    },
    {
      "cell_type": "code",
      "execution_count": null,
      "metadata": {
        "id": "pizlTR-Kw1-g"
      },
      "outputs": [],
      "source": [
        "def is_full(root):\n",
        "    if root is None:\n",
        "        return True\n",
        "    if root.left is None and root.right is None:\n",
        "        return True\n",
        "    if (root.left is not None and root.right is not None):\n",
        "        return (is_full(root.left) and is_full(root.right))\n",
        "    return False"
      ]
    },
    {
      "cell_type": "code",
      "execution_count": null,
      "metadata": {
        "id": "W-4Q7CAOw1-g"
      },
      "outputs": [],
      "source": [
        "def is_perfect(root):\n",
        "    if root is None:\n",
        "        return True\n",
        "    if root.left is not None and root.right is not None:\n",
        "        return True\n",
        "    if root.left is None and root.right is None:"
      ]
    },
    {
      "cell_type": "code",
      "execution_count": null,
      "metadata": {
        "id": "sATsVlWMw1-h"
      },
      "outputs": [],
      "source": [
        "def is_degen(root):\n",
        "    if root is None:\n",
        "        return True\n",
        "    # if root.left is not None and root.right is not None:\n",
        "    #     return False\n",
        "    if root.left is None and root.right is not None:\n",
        "        return is_degen(root.left) and is_degen(root.right)\n",
        "    if root.left is not None and root.right is None:\n",
        "        return is_degen(root.left) and is_degen(root.right)\n",
        "    return False\n",
        ""
      ]
    },
    {
      "cell_type": "code",
      "execution_count": null,
      "metadata": {
        "colab": {
          "base_uri": "https://localhost:8080/"
        },
        "id": "0rECHfdUnFWb",
        "outputId": "c31970cf-6f5c-4486-e92a-97861b7f6b55"
      },
      "outputs": [
        {
          "name": "stdout",
          "output_type": "stream",
          "text": [
            "71 27 80 87 56 75 62 41 3 19 89 \n",
            "87 80 56 27 75 71 41 62 19 3 89 \n",
            "87 56 80 75 27 41 19 89 3 62 71 \n",
            "11\n",
            "\n",
            "0\n",
            "4\n",
            "True\n"
          ]
        }
      ],
      "source": [
        "root=BTNode(71)\n",
        "n2 = BTNode(27)\n",
        "n3 = BTNode(62)\n",
        "n4 = BTNode(80)\n",
        "n5 = BTNode(75)\n",
        "n6 = BTNode(41)\n",
        "n7 = BTNode(3)\n",
        "n8 = BTNode(87)\n",
        "n9 = BTNode(56)\n",
        "n10 = BTNode(19)\n",
        "n11 = BTNode(89)\n",
        "\n",
        "root.left = n2\n",
        "root.right = n3\n",
        "\n",
        "n2.left = n4\n",
        "n2.right = n5\n",
        "\n",
        "n3.left = n6\n",
        "n3.right = n7\n",
        "\n",
        "n4.left = n8\n",
        "n4.right = n9\n",
        "\n",
        "n7.left = n10\n",
        "n7.right = n11\n",
        "\n",
        "pre_order(root)\n",
        "print()\n",
        "inorder(root)\n",
        "print()\n",
        "post_order(root)\n",
        "print()\n",
        "print(count(root))\n",
        "print()\n",
        "print(get_level(root, 0, 20))\n",
        "print(height(root))\n",
        "print(is_full(root))"
      ]
    },
    {
      "cell_type": "code",
      "execution_count": null,
      "metadata": {
        "id": "0pWoOVD_qgnZ"
      },
      "outputs": [],
      "source": [
        "# Print BT in Ascending Order\n",
        "def ascending(root):\n",
        "  if root is None:\n",
        "    return\n",
        "  x = root.elem\n",
        "  cur = root\n",
        "  while cur is not None:\n",
        "    if cur.elem < x:\n",
        "      x = cur.elem\n",
        "      cur = cur.left\n",
        "    if cur.elem > x:\n",
        "      cur = cur.right\n",
        "    print(x)\n",
        "  # return root"
      ]
    },
    {
      "cell_type": "code",
      "execution_count": null,
      "metadata": {
        "id": "Ep-NM2uWqp3b"
      },
      "outputs": [],
      "source": [
        "#Driver Code\n",
        "root=BTNode(71)\n",
        "n2 = BTNode(27)\n",
        "n3 = BTNode(62)\n",
        "n4 = BTNode(80)\n",
        "n5 = BTNode(75)\n",
        "n6 = BTNode(41)\n",
        "n7 = BTNode(3)\n",
        "n8 = BTNode(87)\n",
        "n9 = BTNode(56)\n",
        "n10 = BTNode(19)\n",
        "n11 = BTNode(89)\n",
        "\n",
        "root.left = n2\n",
        "root.right = n3\n",
        "\n",
        "n2.left = n4\n",
        "n2.right = n5\n",
        "\n",
        "n3.left = n6\n",
        "n3.right = n7\n",
        "\n",
        "n4.left = n8\n",
        "n4.right = n9\n",
        "\n",
        "n7.left = n10\n",
        "n7.right = n11\n",
        "\n",
        "ascending(root)"
      ]
    },
    {
      "cell_type": "code",
      "execution_count": null,
      "metadata": {
        "id": "engj5rONw1-h",
        "outputId": "9287bf54-de14-4582-9952-e0b3e1519a08"
      },
      "outputs": [
        {
          "name": "stdout",
          "output_type": "stream",
          "text": [
            "19 22 32 5 20 7 10 30 2 -2 "
          ]
        }
      ],
      "source": [
        "root = tree_construction([None, 19, 22, 10, 32, 20, None, 30, None, 5, None, 7, None, None, 2, -2])\n",
        "# post_order(root)\n",
        "pre_order(root)"
      ]
    },
    {
      "cell_type": "markdown",
      "metadata": {
        "id": "W5JZmJD0w1-h"
      },
      "source": [
        "Given a Binary Tree, complete a function that finds if the given Binary Tree is a SumTree or not.\n",
        "A SumTree is a Binary Tree where the value of a node is equal to the sum of the nodes present\n",
        "in its left subtree and right subtree. An empty tree is SumTree and the sum of an empty tree can\n",
        "be considered as 0. A leaf node is also considered as SumTree. The function should return True\n",
        "if it is a SumTree and otherwise False.\n",
        "Consider the Node class for Binary Tree already defined with elem, left and right variables. You\n",
        "can use helper functions.\n",
        "YOU CANNOT USE LIST OR DICTIONARY, any built-in function, or global variables.\n",
        "Python Notation:\n",
        "def sumTree(root):"
      ]
    },
    {
      "cell_type": "code",
      "execution_count": null,
      "metadata": {
        "id": "LPYC9dB8w1-h",
        "outputId": "72d2d528-8176-425c-8848-29c3bfec93b2"
      },
      "outputs": [
        {
          "name": "stdout",
          "output_type": "stream",
          "text": [
            "26\n",
            "10\n",
            "3\n"
          ]
        },
        {
          "data": {
            "text/plain": [
              "True"
            ]
          },
          "execution_count": 27,
          "metadata": {},
          "output_type": "execute_result"
        }
      ],
      "source": [
        "def summation(root):\n",
        "    if root is None:\n",
        "        return 0\n",
        "    sum = summation(root.left) + summation(root.right)\n",
        "    sum += root.elem\n",
        "    return sum\n",
        "\n",
        "def sumTree(root):\n",
        "    if root is None:\n",
        "        return\n",
        "    print(root.elem)\n",
        "    x = summation(root.left) + summation(root.right)\n",
        "    if x != root.elem:\n",
        "        return False\n",
        "    sumTree(root.left)\n",
        "    sumTree(root.right)\n",
        "    return True\n",
        "\n",
        "root = BTNode(26)\n",
        "n2 = BTNode(10)\n",
        "n3 = BTNode(3)\n",
        "n4 = BTNode(6)\n",
        "n5 = BTNode(4)\n",
        "n6 = BTNode(3)\n",
        "\n",
        "root.left = n2\n",
        "root.right = n3\n",
        "\n",
        "n2.left = n4\n",
        "n3.left = n5\n",
        "\n",
        "n3.right = n6\n",
        "\n",
        "sumTree(root)"
      ]
    },
    {
      "cell_type": "markdown",
      "metadata": {
        "id": "HNP2ztS4w1-h"
      },
      "source": [
        "You are given a binary tree where each node stores a character. You are given the root of a\n",
        "binary tree and a key as inputs. The key is valid if there is a path from the root to a leaf node in\n",
        "the given tree. Now, your Task is to implement a recursive function named is_Valid(root, key)\n",
        "that determines if the key is valid or not. The function should return True if the key is valid and\n",
        "False otherwise.\n",
        "Consider the Node class for Binary Tree already defined with elem, left and right variables. You\n",
        "can use helper functions and extra parameters if required. You can not use any other data\n",
        "structure than the binary tree."
      ]
    },
    {
      "cell_type": "code",
      "execution_count": null,
      "metadata": {
        "id": "5kHBLnXIw1-i",
        "outputId": "12270da6-5c56-4b00-acd2-3ea76eacf2f2"
      },
      "outputs": [
        {
          "name": "stdout",
          "output_type": "stream",
          "text": [
            "T S E C M R D P "
          ]
        },
        {
          "data": {
            "text/plain": [
              "False"
            ]
          },
          "execution_count": 110,
          "metadata": {},
          "output_type": "execute_result"
        }
      ],
      "source": [
        "def is_Valid(root, key):\n",
        "    if root is None:\n",
        "        return\n",
        "    str0 = key[0]\n",
        "    paths = add(root.left) + ' ' + add(root.right) + ' '\n",
        "    for i in range(len(paths)):\n",
        "        if paths[i] != ' ':\n",
        "            str0 += paths[i]\n",
        "        else:\n",
        "            if str0 == key:\n",
        "                return True\n",
        "            str0 = key[0]\n",
        "    return False\n",
        "\n",
        "def add(root):\n",
        "    if root is None:\n",
        "        return ''\n",
        "    str0 = add(root.left)\n",
        "    str0 = root.elem + str0\n",
        "    if root.right is not None:\n",
        "        str1 = \" \" + root.elem + add(root.right)\n",
        "        str0 += str1\n",
        "    return str0\n",
        "\n",
        "root = tree_construction([None, 'C', 'S', 'R', 'T', 'E', 'M', 'P', None, None, None, None, None, None, 'D'])\n",
        "inorder(root)\n",
        "is_Valid(root, 'CRA')\n"
      ]
    }
  ],
  "metadata": {
    "colab": {
      "collapsed_sections": [
        "QCkWMAvp2iw9",
        "BCFxCLZWvcOl",
        "d7Vk6QYeMqtA",
        "ACpkyNU9ROoV"
      ],
      "provenance": []
    },
    "kernelspec": {
      "display_name": "base",
      "language": "python",
      "name": "python3"
    },
    "language_info": {
      "codemirror_mode": {
        "name": "ipython",
        "version": 3
      },
      "file_extension": ".py",
      "mimetype": "text/x-python",
      "name": "python",
      "nbconvert_exporter": "python",
      "pygments_lexer": "ipython3",
      "version": "3.11.4"
    }
  },
  "nbformat": 4,
  "nbformat_minor": 0
}