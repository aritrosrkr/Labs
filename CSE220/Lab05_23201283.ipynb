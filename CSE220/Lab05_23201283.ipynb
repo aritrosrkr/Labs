{
  "cells": [
    {
      "cell_type": "code",
      "execution_count": 1,
      "metadata": {
        "id": "D6vC520OPeTa"
      },
      "outputs": [],
      "source": [
        "class BTNode:\n",
        "  def __init__(self, elem):\n",
        "    self.elem = elem\n",
        "    self.right = None\n",
        "    self.left = None"
      ]
    },
    {
      "cell_type": "code",
      "execution_count": 2,
      "metadata": {
        "id": "UDTKlm4-PfNM"
      },
      "outputs": [],
      "source": [
        "def inorder(root):\n",
        "  if root == None:\n",
        "    return\n",
        "\n",
        "  inorder(root.left)\n",
        "  print(root.elem, end = ' ')\n",
        "  inorder(root.right)"
      ]
    },
    {
      "cell_type": "code",
      "execution_count": 3,
      "metadata": {
        "colab": {
          "base_uri": "https://localhost:8080/"
        },
        "id": "Rtc22SPzPgzM",
        "outputId": "53195f7a-5bb4-4d8c-dac8-c6e10a632f34"
      },
      "outputs": [
        {
          "name": "stdout",
          "output_type": "stream",
          "text": [
            "H D B E A I F J C G k "
          ]
        }
      ],
      "source": [
        "def tree_construction(arr, i = 1):\n",
        "  if i>=len(arr) or arr[i] == None:\n",
        "    return None\n",
        "  p = BTNode(arr[i])\n",
        "  p.left = tree_construction(arr, 2*i)\n",
        "  p.right = tree_construction(arr, 2*i+1)\n",
        "  return p\n",
        "\n",
        "\n",
        "root2 = tree_construction([None, 'A', 'B', 'C', 'D', 'E', 'F', 'G', 'H', None, None, None, 'I', 'J', None, 'k'])\n",
        "inorder(root2)"
      ]
    },
    {
      "cell_type": "markdown",
      "metadata": {
        "id": "S2nNCJNhPqGq"
      },
      "source": [
        "Task 1"
      ]
    },
    {
      "cell_type": "code",
      "execution_count": 4,
      "metadata": {
        "colab": {
          "base_uri": "https://localhost:8080/"
        },
        "id": "zbBHU3FoPieb",
        "outputId": "0ebb834e-1acd-4ea3-97ec-d434aa72d2e0"
      },
      "outputs": [
        {
          "name": "stdout",
          "output_type": "stream",
          "text": [
            "Given Tree Inorder Traversal:  40 20 60 10 30 \n",
            "Mirrored Tree Inorder Traversal:  30 10 60 20 40 "
          ]
        }
      ],
      "source": [
        "def convert_mirror(root):\n",
        "  if root is None:\n",
        "    return\n",
        "  root.left, root.right = root.right, root.left\n",
        "  convert_mirror(root.left)\n",
        "  convert_mirror(root.right)\n",
        "  return root\n",
        "\n",
        "#DRIVER CODE\n",
        "root = BTNode(10)\n",
        "n1 = BTNode(20)\n",
        "n2 = BTNode(30)\n",
        "n3 = BTNode(40)\n",
        "n4 = BTNode(60)\n",
        "\n",
        "root.left = n1\n",
        "root.right = n2\n",
        "\n",
        "n1.left = n3\n",
        "n1.right = n4\n",
        "\n",
        "print('Given Tree Inorder Traversal: ', end = ' ')\n",
        "inorder(root) #Given Tree Inorder Traversal:  40 20 60 10 30\n",
        "print()\n",
        "\n",
        "root2 = convert_mirror(root)\n",
        "print('Mirrored Tree Inorder Traversal: ', end = ' ')\n",
        "inorder(root2) #Mirrored Tree Inorder Traversal:  30 10 60 20 40"
      ]
    },
    {
      "cell_type": "markdown",
      "metadata": {
        "id": "c-TBf3m0PrtK"
      },
      "source": [
        "Task 2"
      ]
    },
    {
      "cell_type": "code",
      "execution_count": 5,
      "metadata": {
        "colab": {
          "base_uri": "https://localhost:8080/"
        },
        "id": "lsuxinlBPmji",
        "outputId": "3e10eb28-e86c-4dad-e143-efea9650261c"
      },
      "outputs": [
        {
          "name": "stdout",
          "output_type": "stream",
          "text": [
            "Given Tree Inorder Traversal:  3 9 -5 4 2 7 \n",
            "Level Wise Smallest Value:  {0: 4, 1: 2, 2: -5}\n"
          ]
        }
      ],
      "source": [
        "def smallest_level(root, level = {}, i = 0):\n",
        "  if root.left is None or root.right is None:\n",
        "    return\n",
        "  if i == 0:\n",
        "    level[0] = root.elem\n",
        "  if root.left.elem < root.right.elem:\n",
        "    level[i+1] = root.left.elem\n",
        "  else:\n",
        "    level[i+1] = root.right.elem\n",
        "  smallest_level(root.left, level, i = i+1)\n",
        "  smallest_level(root.right, level, i = i+1)\n",
        "  return level\n",
        "\n",
        "#DRIVER CODE\n",
        "root = tree_construction([None, 4,9,2,3,-5,None,7])\n",
        "print('Given Tree Inorder Traversal: ', end = ' ')\n",
        "inorder(root) #Given Tree Inorder Traversal:  3 9 5 4 2 7\n",
        "print()\n",
        "print('Level Wise Smallest Value: ', end = ' ')\n",
        "print(smallest_level(root)) #Level Wise Smallest Value:  {0: 4, 1: 2, 2: -5}"
      ]
    },
    {
      "cell_type": "markdown",
      "metadata": {
        "id": "t3IGW4OaP8Vy"
      },
      "source": [
        "Task 3"
      ]
    },
    {
      "cell_type": "code",
      "execution_count": 6,
      "metadata": {
        "id": "m4E9_E8PThk6"
      },
      "outputs": [],
      "source": [
        "def sumTree(root):\n",
        "  if root == None:\n",
        "    return 0\n",
        "  i = level(root1, root.elem)\n",
        "  sum = sumTree(root.left) + sumTree(root.right)\n",
        "  if i == 0:\n",
        "    sum += root.elem\n",
        "  else:\n",
        "    sum += root.elem % i\n",
        "  return sum\n",
        "\n",
        "def level(root, val, i = 0):\n",
        "  if root is None:\n",
        "    return\n",
        "  L = level(root.left, val, i+1)\n",
        "  R = level(root.right, val, i+1)\n",
        "  if type(L) is tuple:\n",
        "    if i == 0:\n",
        "      return L[1]\n",
        "    return L\n",
        "  elif type(R) is tuple:\n",
        "    if i == 0:\n",
        "      return R[1]\n",
        "    return R\n",
        "  if root.elem == val:\n",
        "    if i == 0:\n",
        "      return i\n",
        "    return (True, i)\n",
        "\n",
        "def height(root, i = 0):\n",
        "  if root == None:\n",
        "    return i\n",
        "  L = height(root.left, i+1)\n",
        "  R = height(root.right, i+1)\n",
        "  if L > R:\n",
        "    return L\n",
        "  return R\n",
        "\n",
        "  #you can declare as many helper function with extra parameters as you need .\n",
        "  #You can not modify the parameters of sumTree or modify any part of the given code."
      ]
    },
    {
      "cell_type": "code",
      "execution_count": 7,
      "metadata": {
        "colab": {
          "base_uri": "https://localhost:8080/"
        },
        "id": "wV3ezsf_Kwli",
        "outputId": "f15e61c2-281e-45b2-cae0-025d5f1cba14"
      },
      "outputs": [
        {
          "name": "stdout",
          "output_type": "stream",
          "text": [
            "15\n"
          ]
        }
      ],
      "source": [
        "#Driver Code\n",
        "#Input 1\n",
        "root1 = BTNode(9)\n",
        "node2 = BTNode(4)\n",
        "node3 = BTNode(5)\n",
        "node4 = BTNode(18)\n",
        "node5 = BTNode(14)\n",
        "node6 = BTNode(3)\n",
        "node7 = BTNode(54)\n",
        "node8 = BTNode(12)\n",
        "node9 = BTNode(8)\n",
        "node10 = BTNode(91)\n",
        "node11 = BTNode(56)\n",
        "\n",
        "root1.left = node2\n",
        "root1.right = node3\n",
        "\n",
        "node2.left = node4\n",
        "\n",
        "node3.left = node5\n",
        "node3.right = node6\n",
        "\n",
        "node4.left = node7\n",
        "node4.right = node8\n",
        "\n",
        "node5.left = node9\n",
        "\n",
        "node8.left = node10\n",
        "node8.right = node11\n",
        "\n",
        "print(sumTree(root1)) #This should print 15"
      ]
    },
    {
      "cell_type": "markdown",
      "metadata": {
        "id": "8GJeWub8Ki1X"
      },
      "source": [
        "Task 4\n"
      ]
    },
    {
      "cell_type": "code",
      "execution_count": 8,
      "metadata": {
        "colab": {
          "base_uri": "https://localhost:8080/"
        },
        "id": "0Rb_m6FRKktN",
        "outputId": "021201a6-17b3-4fa8-d686-01c64aaae0c8"
      },
      "outputs": [
        {
          "name": "stdout",
          "output_type": "stream",
          "text": [
            "Given Tree Inorder Traversal:  G D H B I E A C J F \n",
            "Swapped Tree Inorder Traversal:  J F C A I E B G D H "
          ]
        }
      ],
      "source": [
        "def swap_child(root, level, M):\n",
        "  if root is None:\n",
        "    return\n",
        "  if level == M:\n",
        "    return\n",
        "  root.left, root.right = root.right, root.left\n",
        "  swap_child(root.left, level+1, M)\n",
        "  swap_child(root.right, level+1, M)\n",
        "  return root\n",
        "\n",
        "#Driver Code\n",
        "root = BTNode('A')\n",
        "n2 = BTNode('B')\n",
        "n3 = BTNode('C')\n",
        "n4 = BTNode('D')\n",
        "n5 = BTNode('E')\n",
        "n6 = BTNode('F')\n",
        "n7 = BTNode('G')\n",
        "n8 = BTNode('H')\n",
        "n9 = BTNode('I')\n",
        "n10 = BTNode('J')\n",
        "\n",
        "root.left = n2  # = B\n",
        "root.right = n3 # = C\n",
        "\n",
        "n2.left = n4    # = D\n",
        "n2.right = n5   # = E\n",
        "\n",
        "n3.right = n6   # = F\n",
        "\n",
        "n4.left = n7    # = G\n",
        "n4.right = n8   # = H\n",
        "\n",
        "n5.left = n9    # = I\n",
        "\n",
        "n6.left = n10   # = J\n",
        "#Write other nodes by yourself from the given tree of Doc File\n",
        "\n",
        "\n",
        "print('Given Tree Inorder Traversal: ', end = ' ')\n",
        "inorder(root)   #Given Tree Inorder Traversal: G D H B I E A C J F\n",
        "print()\n",
        "\n",
        "root2 = swap_child(root, 0, 2)\n",
        "print('Swapped Tree Inorder Traversal: ', end = ' ')\n",
        "inorder(root2)  #Swapped Tree Inorder Traversal: J F C A I E B G D H"
      ]
    },
    {
      "cell_type": "markdown",
      "metadata": {
        "id": "VrHklDOEKlHf"
      },
      "source": [
        "Task 5"
      ]
    },
    {
      "cell_type": "code",
      "execution_count": 9,
      "metadata": {
        "colab": {
          "base_uri": "https://localhost:8080/"
        },
        "id": "dMXJ2qxkNn_F",
        "outputId": "d2e1b193-fb76-49a2-c047-d08fe1acaf20"
      },
      "outputs": [
        {
          "name": "stdout",
          "output_type": "stream",
          "text": [
            "111\n"
          ]
        }
      ],
      "source": [
        "def subtract_summation(root):\n",
        "  if root is None:\n",
        "    return 0\n",
        "  sum = summation(root.left) - summation(root.right)\n",
        "  return sum\n",
        "\n",
        "def summation(root):\n",
        "  if root is None:\n",
        "    return 0\n",
        "  sum = summation(root.left) + summation(root.right)\n",
        "  sum += root.elem\n",
        "  return sum\n",
        "\n",
        "#Driver Code\n",
        "root=BTNode(71)\n",
        "n2 = BTNode(27)\n",
        "n3 = BTNode(62)\n",
        "n4 = BTNode(80)\n",
        "n5 = BTNode(75)\n",
        "n6 = BTNode(41)\n",
        "n7 = BTNode(3)\n",
        "n8 = BTNode(87)\n",
        "n9 = BTNode(56)\n",
        "n10 = BTNode(19)\n",
        "n11 = BTNode(89)\n",
        "\n",
        "root.left = n2\n",
        "root.right = n3\n",
        "\n",
        "n2.left = n4\n",
        "n2.right = n5\n",
        "\n",
        "n3.left = n6\n",
        "n3.right = n7\n",
        "\n",
        "n4.left = n8\n",
        "n4.right = n9\n",
        "\n",
        "n7.left = n10\n",
        "n7.right = n11\n",
        "\n",
        "print(subtract_summation(root)) #This should print 111"
      ]
    },
    {
      "cell_type": "markdown",
      "metadata": {
        "id": "SBD-0xoZP_ni"
      },
      "source": [
        "Bonus Task"
      ]
    },
    {
      "cell_type": "code",
      "execution_count": 10,
      "metadata": {
        "colab": {
          "base_uri": "https://localhost:8080/"
        },
        "id": "U_LYhaRIxZCb",
        "outputId": "8e617f43-f19b-4d40-ad35-1b4d11003798"
      },
      "outputs": [
        {
          "name": "stdout",
          "output_type": "stream",
          "text": [
            "4\n"
          ]
        }
      ],
      "source": [
        "def level_sum(root):\n",
        "  if root is None:\n",
        "    return 0\n",
        "  sum =  - level_sum(root.right) - level_sum(root.left)\n",
        "  sum += - root.elem\n",
        "  return sum\n",
        "\n",
        "#DRIVER CODE\n",
        "root = BTNode(1)\n",
        "n2 = BTNode(2)\n",
        "n3 = BTNode(3)\n",
        "n4 = BTNode(4)\n",
        "n5 = BTNode(5)\n",
        "n6 = BTNode(6)\n",
        "n7 = BTNode(7)\n",
        "n8 = BTNode(8)\n",
        "#########################\n",
        "# n9 = BTNode(9)\n",
        "# n10 = BTNode(10)\n",
        "# n4.left = n9\n",
        "# n4.right = n10\n",
        "\n",
        "# n11 = BTNode(11)\n",
        "# n12 = BTNode(12)\n",
        "# n7.left = n11\n",
        "# n8.left = n12\n",
        "#########################\n",
        "root.left = n2\n",
        "root.right = n3\n",
        "\n",
        "n2.left = n4\n",
        "n3.left = n5\n",
        "n3.right = n6\n",
        "\n",
        "n5.left = n7\n",
        "n5.right = n8\n",
        "\n",
        "\n",
        "print(level_sum(root)) #This should print 4"
      ]
    }
  ],
  "metadata": {
    "colab": {
      "provenance": []
    },
    "kernelspec": {
      "display_name": "Python 3",
      "name": "python3"
    },
    "language_info": {
      "codemirror_mode": {
        "name": "ipython",
        "version": 3
      },
      "file_extension": ".py",
      "mimetype": "text/x-python",
      "name": "python",
      "nbconvert_exporter": "python",
      "pygments_lexer": "ipython3",
      "version": "3.12.6"
    }
  },
  "nbformat": 4,
  "nbformat_minor": 0
}
