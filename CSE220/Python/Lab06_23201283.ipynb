{
  "cells": [
    {
      "cell_type": "code",
      "execution_count": 8,
      "metadata": {
        "id": "D6vC520OPeTa"
      },
      "outputs": [],
      "source": [
        "class BTNode:\n",
        "  def __init__(self, elem):\n",
        "    self.elem = elem\n",
        "    self.right = None\n",
        "    self.left = None"
      ]
    },
    {
      "cell_type": "code",
      "execution_count": 9,
      "metadata": {
        "id": "UDTKlm4-PfNM"
      },
      "outputs": [],
      "source": [
        "def inorder(root):\n",
        "  if root == None:\n",
        "    return\n",
        "\n",
        "  inorder(root.left)\n",
        "  print(root.elem, end = ' ')\n",
        "  inorder(root.right)"
      ]
    },
    {
      "cell_type": "code",
      "execution_count": 10,
      "metadata": {
        "colab": {
          "base_uri": "https://localhost:8080/"
        },
        "id": "Rtc22SPzPgzM",
        "outputId": "5552dfba-20b5-4dda-c71c-217966b6f323"
      },
      "outputs": [
        {
          "name": "stdout",
          "output_type": "stream",
          "text": [
            "H D B E A I F J C G k "
          ]
        }
      ],
      "source": [
        "def tree_construction(arr, i = 1):\n",
        "  if i>=len(arr) or arr[i] == None:\n",
        "    return None\n",
        "  p = BTNode(arr[i])\n",
        "  p.left = tree_construction(arr, 2*i)\n",
        "  p.right = tree_construction(arr, 2*i+1)\n",
        "  return p\n",
        "\n",
        "\n",
        "root2 = tree_construction([None, 'A', 'B', 'C', 'D', 'E', 'F', 'G', 'H', None, None, None, 'I', 'J', None, 'k'])\n",
        "inorder(root2)"
      ]
    },
    {
      "cell_type": "markdown",
      "metadata": {
        "id": "S2nNCJNhPqGq"
      },
      "source": [
        "Task 1"
      ]
    },
    {
      "cell_type": "code",
      "execution_count": 11,
      "metadata": {
        "colab": {
          "base_uri": "https://localhost:8080/"
        },
        "id": "zbBHU3FoPieb",
        "outputId": "8fe017f6-7398-48a2-f9ea-1b2791b21665"
      },
      "outputs": [
        {
          "name": "stdout",
          "output_type": "stream",
          "text": [
            "10\n",
            "15\n",
            "20\n",
            "25\n",
            "10\n"
          ]
        }
      ],
      "source": [
        "def LCA(root, x, y):\n",
        "  if root is None:\n",
        "    return\n",
        "  if x > y:\n",
        "    x, y = y, x\n",
        "  if x <= root.elem <= y:\n",
        "    return root.elem\n",
        "  else:\n",
        "    L = LCA(root.left, x, y)\n",
        "    R = LCA(root.right, x, y)\n",
        "  if L is not None:\n",
        "    return L\n",
        "  elif R is not None:\n",
        "    return R\n",
        "\n",
        "\n",
        "#DRIVER CODE\n",
        "root = BTNode(15)\n",
        "n2 = BTNode(10)\n",
        "n3 = BTNode(25)\n",
        "n4 = BTNode(8)\n",
        "n5 = BTNode(12)\n",
        "n6 = BTNode(20)\n",
        "n7 = BTNode(30)\n",
        "n8 = BTNode(6)\n",
        "n9 = BTNode(9)\n",
        "n10 = BTNode(18)\n",
        "n11 = BTNode(22)\n",
        "\n",
        "root.left = n2\n",
        "root.right = n3\n",
        "\n",
        "n2.left = n4\n",
        "n2.right = n5\n",
        "\n",
        "n3.left = n6\n",
        "n3.right = n7\n",
        "\n",
        "n4.left = n8\n",
        "n4.right = n9\n",
        "\n",
        "n6.left = n10\n",
        "n6.right = n11\n",
        "\n",
        "#Write by yourself from the given tree (Create parent node and its corresponding left and right children nodes)\n",
        "#check all the sample inputs given\n",
        "#You can take help by seeing the driver code of Lab-6\n",
        "print(LCA(root, 6,12))\n",
        "print(LCA(root, 20,6))\n",
        "print(LCA(root, 18,22))\n",
        "print(LCA(root, 20,25))\n",
        "print(LCA(root, 10,12))"
      ]
    },
    {
      "cell_type": "markdown",
      "metadata": {
        "id": "c-TBf3m0PrtK"
      },
      "source": [
        "Task 2"
      ]
    },
    {
      "cell_type": "code",
      "execution_count": 12,
      "metadata": {
        "colab": {
          "base_uri": "https://localhost:8080/"
        },
        "id": "i6l-v7k1eE9A",
        "outputId": "a927f762-ba8a-4d94-c300-fac47c01e721"
      },
      "outputs": [
        {
          "name": "stdout",
          "output_type": "stream",
          "text": [
            "[30, 10, 15]\n",
            "No Path Found\n"
          ]
        }
      ],
      "source": [
        "def find_path(root, key):\n",
        "  # path = []\n",
        "  # if root is None:\n",
        "  #   return \"No path found\"\n",
        "  # if root.elem == key:\n",
        "  #   return [key]\n",
        "  # path += [root.elem]\n",
        "  # if root.elem < key:\n",
        "  #   path += find_path(root.right, key)\n",
        "  # if root.elem > key:\n",
        "  #   path += find_path(root.left, key)\n",
        "  # if type(path) is str:\n",
        "  #   return \"No path found\"\n",
        "  # return path\n",
        "  if root is None or key is None:\n",
        "    return\n",
        "  path = []\n",
        "  cur = root\n",
        "  found = False\n",
        "  while cur is not None:\n",
        "    if cur.elem > key:\n",
        "      path += [cur.elem]\n",
        "      cur = cur.left\n",
        "    elif cur.elem < key:\n",
        "      path += [cur.elem]\n",
        "      cur = cur.right\n",
        "    elif cur.elem == key:\n",
        "      path += [cur.elem]\n",
        "      found = True\n",
        "      break\n",
        "  if found:\n",
        "    return path\n",
        "  return \"No Path Found\"\n",
        "\n",
        "#DRIVER CODE\n",
        "root = BTNode(30)\n",
        "n2 = BTNode(10)\n",
        "n3 = BTNode(40)\n",
        "n4 = BTNode(3)\n",
        "n5 = BTNode(15)\n",
        "n6 = BTNode(35)\n",
        "n7 = BTNode(55)\n",
        "n8 = BTNode(2)\n",
        "n9 = BTNode(36)\n",
        "\n",
        "root.left = n2\n",
        "root.right = n3\n",
        "\n",
        "n2.left = n4\n",
        "n2.right = n5\n",
        "\n",
        "n3.left = n6\n",
        "n3.right = n7\n",
        "\n",
        "n4.next = n8\n",
        "\n",
        "n6.right = n9\n",
        "\n",
        "#Write by yourself from the given tree\n",
        "print(find_path(root,15))\n",
        "#This should print [30,10,15]\n",
        "\n",
        "print(find_path(root,50))\n",
        "#This should print No Path Found"
      ]
    },
    {
      "cell_type": "markdown",
      "metadata": {
        "id": "7r3lH3aWPz2d"
      },
      "source": [
        "Task 3"
      ]
    },
    {
      "cell_type": "code",
      "execution_count": 13,
      "metadata": {
        "colab": {
          "base_uri": "https://localhost:8080/"
        },
        "id": "5eT12zYb8zm7",
        "outputId": "18f7e35a-d873-453b-b1ca-543d9fb490df"
      },
      "outputs": [
        {
          "name": "stdout",
          "output_type": "stream",
          "text": [
            "108\n"
          ]
        }
      ],
      "source": [
        "def sum_of_leaves(root, sum):\n",
        "  if root is None:\n",
        "    return sum\n",
        "  if root.left is None and root.right is None:\n",
        "    return root.elem\n",
        "  sum += sum_of_leaves(root.left, sum) + sum_of_leaves(root.right, sum)\n",
        "  return sum\n",
        "\n",
        "#DRIVER CODE\n",
        "root = BTNode(30)\n",
        "n2 = BTNode(10)\n",
        "n3 = BTNode(40)\n",
        "n4 = BTNode(3)\n",
        "n5 = BTNode(15)\n",
        "n6 = BTNode(35)\n",
        "n7 = BTNode(55)\n",
        "n8 = BTNode(2)\n",
        "n9 = BTNode(36)\n",
        "\n",
        "root.left = n2\n",
        "root.right = n3\n",
        "\n",
        "n2.left = n4\n",
        "n2.right = n5\n",
        "\n",
        "n3.left = n6\n",
        "n3.right = n7\n",
        "\n",
        "n4.left = n8\n",
        "\n",
        "n6.right = n9\n",
        "\n",
        "print(sum_of_leaves(root, 0))"
      ]
    },
    {
      "cell_type": "markdown",
      "metadata": {
        "id": "5KeA-BoC3uOo"
      },
      "source": [
        "Task 4"
      ]
    },
    {
      "cell_type": "code",
      "execution_count": 14,
      "metadata": {
        "colab": {
          "base_uri": "https://localhost:8080/"
        },
        "id": "zFwP64v4Pu6d",
        "outputId": "b83b015e-fee3-4cce-fc0a-f85482953402"
      },
      "outputs": [
        {
          "name": "stdout",
          "output_type": "stream",
          "text": [
            "Given Tree Inorder Traversal:  4 8 10 12 14 20 22 \n",
            "\n",
            "Inorder predecessor of node 14: 12\n"
          ]
        }
      ],
      "source": [
        "def inorder_predecessor(root, x):\n",
        "  if root is None or x is None:\n",
        "    return\n",
        "\n",
        "  pred = None\n",
        "  cur = root\n",
        "  while cur is not None:\n",
        "    if cur.elem > x.elem:\n",
        "      cur = cur.left\n",
        "    elif cur.elem < x.elem:\n",
        "      pred = cur\n",
        "      cur = cur.right\n",
        "    else:\n",
        "      break\n",
        "\n",
        "  return pred\n",
        "\n",
        "\n",
        "#DRIVER CODE\n",
        "root = BTNode(20)\n",
        "n1 = BTNode(8)\n",
        "n2 = BTNode(22)\n",
        "n3 = BTNode(4)\n",
        "n4 = BTNode(12)\n",
        "n5 = BTNode(10)\n",
        "n6 = BTNode(14)\n",
        "\n",
        "root.left = n1\n",
        "root.right = n2\n",
        "\n",
        "n1.left = n3\n",
        "n1.right = n4\n",
        "\n",
        "n4.left = n5\n",
        "n4.right = n6\n",
        "\n",
        "print('Given Tree Inorder Traversal: ', end = ' ')\n",
        "inorder(root) #Given Tree Inorder Traversal:  4 8 10 12 14 20 22\n",
        "print()\n",
        "\n",
        "x = n6\n",
        "print()\n",
        "# print(inorder_predecessor(root, x))\n",
        "print(f'Inorder predecessor of node {x.elem}: {inorder_predecessor(root, x).elem}') #Inorder predecessor of node 20: 14"
      ]
    },
    {
      "cell_type": "code",
      "execution_count": 15,
      "metadata": {},
      "outputs": [
        {
          "name": "stdout",
          "output_type": "stream",
          "text": [
            "32 5 22 20 7 19 10 2 30 -2 "
          ]
        }
      ],
      "source": [
        "inorder(tree_construction([None, 19, 22, 10, 32, 20, None, 30, None, 5, None, 7, None, None, 2, -2]))"
      ]
    }
  ],
  "metadata": {
    "colab": {
      "provenance": []
    },
    "kernelspec": {
      "display_name": "Python 3",
      "name": "python3"
    },
    "language_info": {
      "codemirror_mode": {
        "name": "ipython",
        "version": 3
      },
      "file_extension": ".py",
      "mimetype": "text/x-python",
      "name": "python",
      "nbconvert_exporter": "python",
      "pygments_lexer": "ipython3",
      "version": "3.12.6"
    }
  },
  "nbformat": 4,
  "nbformat_minor": 0
}
