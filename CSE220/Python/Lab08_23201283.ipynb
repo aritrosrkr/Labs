{
  "nbformat": 4,
  "nbformat_minor": 0,
  "metadata": {
    "colab": {
      "provenance": [],
      "collapsed_sections": [
        "WJa2QbE5jVXo"
      ]
    },
    "kernelspec": {
      "name": "python3",
      "display_name": "Python 3"
    },
    "language_info": {
      "name": "python"
    }
  },
  "cells": [
    {
      "cell_type": "markdown",
      "source": [
        "![graph.png](data:image/png;base64,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)"
      ],
      "metadata": {
        "id": "p6vTFmKonRYE"
      }
    },
    {
      "cell_type": "markdown",
      "source": [
        "## **Array Representation**"
      ],
      "metadata": {
        "id": "WJa2QbE5jVXo"
      }
    },
    {
      "cell_type": "code",
      "source": [
        "import numpy as np\n",
        "graph_mat = np.array([[0, 0, 1, 0, 1, 1, 0, 0, 0],    #1\n",
        "                      [0, 0, 0, 0, 1, 1, 0, 0, 0],    #2\n",
        "                      [1, 0, 0, 1, 1, 0, 1, 0, 0],    #3\n",
        "                      [0, 0, 1, 0, 0, 1, 1, 0, 0],    #4\n",
        "                      [1, 1, 1, 0, 0, 1, 0, 1, 0],    #5\n",
        "                      [1, 1, 0, 1, 1, 0, 1, 0, 1],    #6\n",
        "                      [0, 0, 1, 1, 0, 1, 0, 1, 0],    #7\n",
        "                      [0, 0, 0, 0, 1, 0, 1, 0, 1],    #8\n",
        "                      [0, 0, 0, 0, 0, 1, 0, 1, 0]])   #9"
      ],
      "metadata": {
        "id": "KYwdL5wGLXfn"
      },
      "execution_count": 1,
      "outputs": []
    },
    {
      "cell_type": "code",
      "execution_count": 42,
      "metadata": {
        "id": "QfNQiyP94GqH",
        "colab": {
          "base_uri": "https://localhost:8080/"
        },
        "outputId": "c2c61f80-70fb-458e-d8b1-c80db8aa5cb7"
      },
      "outputs": [
        {
          "output_type": "stream",
          "name": "stdout",
          "text": [
            "Index: 5 has max degree: 6\n"
          ]
        }
      ],
      "source": [
        "# Task - 1\n",
        "def findDegree(graph):\n",
        "  sums = np.empty(len(graph), int)\n",
        "  for r in range(len(graph)):\n",
        "    sum = 0\n",
        "    for i in range(len(graph[r])):\n",
        "      sum += graph[r][i]\n",
        "    sums[r] = sum\n",
        "\n",
        "  max = 0\n",
        "  ind = 0\n",
        "  for i in range(len(sums)):\n",
        "    if sums[i] > max:\n",
        "      max = sums[i]\n",
        "      ind = i\n",
        "  return f\"Index: {ind} has max degree: {max}\"\n",
        "\n",
        "print(findDegree(graph_mat))"
      ]
    },
    {
      "cell_type": "code",
      "source": [
        "graph_mat = np.array([[0, 0, 5, 0, 1, 9, 0, 0, 0],    #1\n",
        "                      [0, 0, 0, 0, 8, 5, 0, 0, 0],    #2\n",
        "                      [5, 0, 0, 5, 2, 0, 3, 0, 0],    #3\n",
        "                      [0, 0, 5, 0, 0, 7, 4, 0, 0],    #4\n",
        "                      [1, 8, 2, 0, 0, 5, 0, 4, 0],    #5\n",
        "                      [9, 5, 0, 7, 5, 0, 6, 0, 2],    #6\n",
        "                      [0, 0, 3, 4, 0, 6, 0, 5, 0],    #7\n",
        "                      [0, 0, 0, 0, 4, 0, 5, 0, 9],    #8\n",
        "                      [0, 0, 0, 0, 0, 2, 0, 9, 0]])   #9\n",
        "\n",
        "def findMax(graph):\n",
        "  sums = np.empty(len(graph), int)\n",
        "  for r in range(len(graph)):\n",
        "    sum = 0\n",
        "    for i in range(len(graph[r])):\n",
        "      sum += graph[r][i]\n",
        "    sums[r] = sum\n",
        "\n",
        "  max = 0\n",
        "  ind = 0\n",
        "  for i in range(len(sums)):\n",
        "    if sums[i] > max:\n",
        "      max = sums[i]\n",
        "      ind = i\n",
        "  return f\"Index: {ind} has max weight: {max}\"\n",
        "\n",
        "print(findMax(graph_mat))"
      ],
      "metadata": {
        "colab": {
          "base_uri": "https://localhost:8080/"
        },
        "id": "ZagafrQ-e28N",
        "outputId": "fcc0f174-dcc0-4f26-d831-5f28219d00b9"
      },
      "execution_count": 43,
      "outputs": [
        {
          "output_type": "stream",
          "name": "stdout",
          "text": [
            "Index: 5 has max weight: 34\n"
          ]
        }
      ]
    },
    {
      "cell_type": "code",
      "source": [
        "graph_mat = np.array([[0, 0, 5, 0, 1, 9, 0, 0, 0],    #1\n",
        "                      [0, 0, 0, 0, 8, 5, 0, 0, 0],    #2\n",
        "                      [0, 0, 0, 5, 2, 0, 3, 0, 0],    #3\n",
        "                      [0, 0, 0, 0, 0, 0, 4, 0, 0],    #4\n",
        "                      [0, 0, 0, 0, 0, 5, 0, 4, 0],    #5\n",
        "                      [0, 0, 0, 7, 0, 0, 6, 0, 2],    #6\n",
        "                      [0, 0, 0, 0, 0, 0, 0, 5, 0],    #7\n",
        "                      [0, 0, 0, 0, 0, 0, 0, 0, 9],    #8\n",
        "                      [0, 0, 0, 0, 0, 0, 0, 0, 0]])   #9\n",
        "\n",
        "def findDegree(graph):\n",
        "  sums = np.empty(len(graph), int)\n",
        "  for r in range(len(graph)):\n",
        "    sum = 0\n",
        "    for i in range(len(graph[r])):\n",
        "      if graph[r][i] != 0:\n",
        "        sum += 1\n",
        "    sums[r] = sum\n",
        "\n",
        "  max = 0\n",
        "  ind = 0\n",
        "  for i in range(len(sums)):\n",
        "    if sums[i] > max:\n",
        "      max = sums[i]\n",
        "      ind = i\n",
        "  return f\"Index: {ind} has max degree: {max}\"\n",
        "\n",
        "def findMax(graph):\n",
        "  sums = np.empty(len(graph), int)\n",
        "  for r in range(len(graph)):\n",
        "    sum = 0\n",
        "    for i in range(len(graph[r])):\n",
        "      sum += graph[r][i]\n",
        "    sums[r] = sum\n",
        "\n",
        "  max = 0\n",
        "  ind = 0\n",
        "  for i in range(len(sums)):\n",
        "    if sums[i] > max:\n",
        "      max = sums[i]\n",
        "      ind = i\n",
        "  return f\"Index: {ind} has max weight: {max}\"\n",
        "\n",
        "print(findDegree(graph_mat))\n",
        "print(findMax(graph_mat))"
      ],
      "metadata": {
        "colab": {
          "base_uri": "https://localhost:8080/"
        },
        "id": "uRNsq3-S6uXO",
        "outputId": "c5355e80-d0e4-4ecc-9b10-58e15154b0bc"
      },
      "execution_count": 44,
      "outputs": [
        {
          "output_type": "stream",
          "name": "stdout",
          "text": [
            "Index: 0 has max degree: 3\n",
            "Index: 0 has max weight: 15\n"
          ]
        }
      ]
    },
    {
      "cell_type": "code",
      "source": [
        "graph_mat = np.array([[0, 0, 5, 0, 1, 9, 0, 0, 0],    #1\n",
        "                      [0, 0, 0, 0, 8, 5, 0, 0, 0],    #2\n",
        "                      [0, 0, 0, 5, 2, 0, 3, 0, 0],    #3\n",
        "                      [0, 0, 0, 0, 0, 0, 4, 0, 0],    #4\n",
        "                      [0, 0, 0, 0, 0, 5, 0, 4, 0],    #5\n",
        "                      [0, 0, 0, 7, 0, 0, 6, 0, 2],    #6\n",
        "                      [0, 0, 0, 0, 0, 0, 0, 5, 0],    #7\n",
        "                      [0, 0, 0, 0, 0, 0, 0, 0, 9],    #8\n",
        "                      [0, 0, 0, 0, 0, 0, 0, 0, 0]])   #9\n",
        "\n",
        "def convert(graph):\n",
        "  for i in range(len(graph)):\n",
        "    for j in range(len(graph[i])):\n",
        "      if graph[i][j] != 0:\n",
        "        graph[j][i] = graph[i][j]\n",
        "  return graph\n",
        "\n",
        "print(convert(graph_mat))"
      ],
      "metadata": {
        "colab": {
          "base_uri": "https://localhost:8080/"
        },
        "id": "MtlYxaNxbtxG",
        "outputId": "e8bb0d08-b337-4330-935d-3b0d81f1a778"
      },
      "execution_count": null,
      "outputs": [
        {
          "output_type": "stream",
          "name": "stdout",
          "text": [
            "[[0 0 5 0 1 9 0 0 0]\n",
            " [0 0 0 0 8 5 0 0 0]\n",
            " [5 0 0 5 2 0 3 0 0]\n",
            " [0 0 5 0 0 7 4 0 0]\n",
            " [1 8 2 0 0 5 0 4 0]\n",
            " [9 5 0 7 5 0 6 0 2]\n",
            " [0 0 3 4 0 6 0 5 0]\n",
            " [0 0 0 0 4 0 5 0 9]\n",
            " [0 0 0 0 0 2 0 9 0]]\n"
          ]
        }
      ]
    },
    {
      "cell_type": "markdown",
      "source": [
        "## **List Representation**"
      ],
      "metadata": {
        "id": "15CInCd_jalo"
      }
    },
    {
      "cell_type": "code",
      "source": [
        "class Node:\n",
        "  def __init__(self, elem, next = None):\n",
        "    self.elem = elem\n",
        "    self.next = next\n",
        "\n",
        "def create_graph(size):\n",
        "  graph = np.array([0]*size, dtype = Node)\n",
        "  for i in range(size):\n",
        "    graph[i] = Node(0)\n",
        "    cur = graph[i]\n",
        "    for j in range(size-1):\n",
        "      cur.next = Node(0)\n",
        "      cur = cur.next\n",
        "  return graph\n",
        "\n",
        "def plot_undirected(graph):\n",
        "  l = 0\n",
        "  while l < len(graph):\n",
        "    x = input(\"Point: \")\n",
        "    if x == 'exit':\n",
        "      break\n",
        "\n",
        "    coords = ''\n",
        "    for i in x:\n",
        "      if '0'<=i<='9':\n",
        "        coords += i\n",
        "\n",
        "    i = int(coords[0])\n",
        "    j = int(coords[1])\n",
        "\n",
        "    cur = graph[i]\n",
        "    for x in range(j):\n",
        "      cur = cur.next\n",
        "    cur.elem = 1\n",
        "\n",
        "    cur = graph[j]\n",
        "    for x in range(i):\n",
        "      cur = cur.next\n",
        "    cur.elem = 1\n",
        "\n",
        "def plot_wt(graph):\n",
        "  while True:\n",
        "    x = input(\"Point: \")\n",
        "    if x == 'exit':\n",
        "      break\n",
        "\n",
        "    coords = ''\n",
        "    for i in x:\n",
        "      if '0'<=i<='9':\n",
        "        coords += i\n",
        "\n",
        "    i = int(coords[0])\n",
        "    j = int(coords[1])\n",
        "    k = int(coords[2])\n",
        "\n",
        "    cur = graph[i]\n",
        "    for x in range(j):\n",
        "      cur = cur.next\n",
        "    cur.elem = k\n",
        "\n",
        "    cur = graph[j]\n",
        "    for x in range(i):\n",
        "      cur = cur.next\n",
        "    cur.elem = k\n",
        "\n",
        "def print_lst(graph):\n",
        "  i = 0\n",
        "  while i < len(graph):\n",
        "    cur = graph[i]\n",
        "    while cur is not None:\n",
        "      print(cur.elem, end= ' ')\n",
        "      cur = cur.next\n",
        "    print()\n",
        "    l += 1\n",
        "\n",
        "graph_lst = create_graph(9)\n",
        "plot_undirected(graph_lst)\n",
        "print_lst(graph_lst)\n",
        "graph_lst[1]\n",
        "print(graph_lst)"
      ],
      "metadata": {
        "id": "Kk4DTAQOjfFu",
        "colab": {
          "base_uri": "https://localhost:8080/"
        },
        "outputId": "9ec39a19-6a85-4647-e5ff-56763e3a6a0f"
      },
      "execution_count": 30,
      "outputs": [
        {
          "output_type": "stream",
          "name": "stdout",
          "text": [
            "Point: 0 2\n",
            "Point: 04\n",
            "Point: 0 5\n",
            "Point: 1 4\n",
            "Point: 1 5\n",
            "Point: 2 3\n",
            "Point: 2 4\n",
            "Point: 2 6\n",
            "Point: 3 6\n",
            "Point: 4 5\n",
            "Point: 4 7\n",
            "Point: 5 8\n",
            "Point: 5 3\n",
            "Point: 5 6\n",
            "Point: 7 8\n",
            "Point: 6 7\n",
            "Point: exit\n",
            "0 0 1 0 1 1 0 0 0 \n",
            "0 0 0 0 1 1 0 0 0 \n",
            "1 0 0 1 1 0 1 0 0 \n",
            "0 0 1 0 0 1 1 0 0 \n",
            "1 1 1 0 0 1 0 1 0 \n",
            "1 1 0 1 1 0 1 0 1 \n",
            "0 0 1 1 0 1 0 1 0 \n",
            "0 0 0 0 1 0 1 0 1 \n",
            "0 0 0 0 0 1 0 1 0 \n",
            "[<__main__.Node object at 0x7f9af59c6fe0>\n",
            " <__main__.Node object at 0x7f9af59c6170>\n",
            " <__main__.Node object at 0x7f9af59c45b0>\n",
            " <__main__.Node object at 0x7f9af59c6110>\n",
            " <__main__.Node object at 0x7f9af59c6b60>\n",
            " <__main__.Node object at 0x7f9af59b3640>\n",
            " <__main__.Node object at 0x7f9af59b0ee0>\n",
            " <__main__.Node object at 0x7f9af59b39d0>\n",
            " <__main__.Node object at 0x7f9af59b3f70>]\n"
          ]
        }
      ]
    },
    {
      "cell_type": "code",
      "source": [
        "# Task - 1\n",
        "def findDegree(graph):\n",
        "  sums = np.array([0]*len(graph), int)\n",
        "  i = 0\n",
        "\n",
        "  while i < len(graph):\n",
        "    cur = graph[i]\n",
        "    sum = 0\n",
        "    while cur is not None:\n",
        "      if cur.elem != 0:\n",
        "        sum += 1\n",
        "      cur = cur.next\n",
        "    sums[i] = sum\n",
        "    i += 1\n",
        "\n",
        "  max = 0\n",
        "  ind = 0\n",
        "  for i in range(len(sums)):\n",
        "    if sums[i] > max:\n",
        "      max = sums[i]\n",
        "      ind = i\n",
        "  return f\"Index: {ind} has max degree: {max}\"\n",
        "\n",
        "print(findDegree(graph_lst))"
      ],
      "metadata": {
        "colab": {
          "base_uri": "https://localhost:8080/"
        },
        "id": "q03RgdTlOeMB",
        "outputId": "fbdeb039-a348-4836-de3e-f0f1f84155b4"
      },
      "execution_count": 36,
      "outputs": [
        {
          "output_type": "stream",
          "name": "stdout",
          "text": [
            "0 0 1 0 1 1 0 0 0 \n",
            "0 0 0 0 1 1 0 0 0 \n",
            "1 0 0 1 1 0 1 0 0 \n",
            "0 0 1 0 0 1 1 0 0 \n",
            "1 1 1 0 0 1 0 1 0 \n",
            "1 1 0 1 1 0 1 0 1 \n",
            "0 0 1 1 0 1 0 1 0 \n",
            "0 0 0 0 1 0 1 0 1 \n",
            "0 0 0 0 0 1 0 1 0 \n",
            "Index: 5 has max degree: 6\n"
          ]
        }
      ]
    },
    {
      "cell_type": "code",
      "source": [
        "# Task - 2\n",
        "def plot_wt(graph):\n",
        "  while True:\n",
        "    x = input(\"Point: \")\n",
        "    if x == 'exit':\n",
        "      break\n",
        "\n",
        "    coords = ''\n",
        "    for i in x:\n",
        "      if '0'<=i<='9':\n",
        "        coords += i\n",
        "\n",
        "    i = int(coords[0])\n",
        "    j = int(coords[1])\n",
        "    k = int(coords[2])\n",
        "\n",
        "    cur = graph[i]\n",
        "    for x in range(j):\n",
        "      cur = cur.next\n",
        "    cur.elem = k\n",
        "\n",
        "    cur = graph[j]\n",
        "    for x in range(i):\n",
        "      cur = cur.next\n",
        "    cur.elem = k\n",
        "\n",
        "def findMax(graph):\n",
        "  sums = np.array([0]*len(graph), int)\n",
        "  i = 0\n",
        "  while i < len(graph):\n",
        "    cur = graph[i]\n",
        "    sum = 0\n",
        "    while cur is not None:\n",
        "      if cur.elem != 0:\n",
        "        sum += cur.elem\n",
        "      cur = cur.next\n",
        "    sums[i] = sum\n",
        "    i += 1\n",
        "\n",
        "  max = 0\n",
        "  ind = 0\n",
        "  for i in range(len(sums)):\n",
        "    if sums[i] > max:\n",
        "      max = sums[i]\n",
        "      ind = i\n",
        "  return f\"Index: {ind} has max weight: {max}\"\n",
        "\n",
        "plot_wt(graph_lst)\n",
        "print_lst(graph_lst)\n",
        "print(findMax(graph_lst))"
      ],
      "metadata": {
        "colab": {
          "base_uri": "https://localhost:8080/"
        },
        "id": "ic9PfkJmbpWG",
        "outputId": "8ab094b8-9b50-4486-98d2-06d3509c4885"
      },
      "execution_count": 39,
      "outputs": [
        {
          "output_type": "stream",
          "name": "stdout",
          "text": [
            "Point: 0 2 5\n",
            "Point: 0 4 1\n",
            "Point: 0 5 9\n",
            "Point: 1 4 8\n",
            "Point: 1 5 5\n",
            "Point: 2 3 5\n",
            "Point: 2 4 2\n",
            "Point: 2 6 3\n",
            "Point: 3 6 4\n",
            "Point: 4 5 5\n",
            "Point: 4 7 4\n",
            "Point: 5 8 2\n",
            "Point: 5 3 7\n",
            "Point: 5 6 6\n",
            "Point: 7 8 9\n",
            "Point: 6 7 5\n",
            "Point: exit\n",
            "0 0 5 0 1 9 0 0 0 \n",
            "0 0 0 0 8 5 0 0 0 \n",
            "5 0 0 5 2 0 3 0 0 \n",
            "0 0 5 0 0 7 4 0 0 \n",
            "1 8 2 0 0 5 0 4 0 \n",
            "9 5 0 7 5 0 6 0 2 \n",
            "0 0 3 4 0 6 0 5 0 \n",
            "0 0 0 0 4 0 5 0 9 \n",
            "0 0 0 0 0 2 0 9 0 \n",
            "Index: 5 has max weight: 34\n"
          ]
        }
      ]
    },
    {
      "cell_type": "code",
      "source": [
        "# Task - 3\n",
        "def plot_directed_wt(graph):\n",
        "  while True:\n",
        "    x = input(\"Point: \")\n",
        "    if x == 'exit':\n",
        "      break\n",
        "\n",
        "    coords = ''\n",
        "    for i in x:\n",
        "      if '0'<=i<='9':\n",
        "        coords += i\n",
        "\n",
        "    i = int(coords[0])\n",
        "    j = int(coords[1])\n",
        "    k = int(coords[2])\n",
        "\n",
        "    cur = graph[i]\n",
        "    for x in range(j):\n",
        "      cur = cur.next\n",
        "    cur.elem = k\n",
        "\n",
        "def findDegree(graph):\n",
        "  sums = np.array([0]*len(graph), int)\n",
        "  i = 0\n",
        "\n",
        "  while i < len(graph):\n",
        "    cur = graph[i]\n",
        "    sum = 0\n",
        "    while cur is not None:\n",
        "      if cur.elem != 0:\n",
        "        sum += 1\n",
        "      cur = cur.next\n",
        "    sums[i] = sum\n",
        "    i += 1\n",
        "\n",
        "  max = 0\n",
        "  ind = 0\n",
        "  for i in range(len(sums)):\n",
        "    if sums[i] > max:\n",
        "      max = sums[i]\n",
        "      ind = i\n",
        "  return f\"Index: {ind} has max degree: {max}\"\n",
        "\n",
        "def findMax(graph):\n",
        "  sums = np.array([0]*len(graph), int)\n",
        "  i = 0\n",
        "  while i < len(graph):\n",
        "    cur = graph[i]\n",
        "    sum = 0\n",
        "    while cur is not None:\n",
        "      if cur.elem != 0:\n",
        "        sum += cur.elem\n",
        "      cur = cur.next\n",
        "    sums[i] = sum\n",
        "    i += 1\n",
        "\n",
        "  max = 0\n",
        "  ind = 0\n",
        "  for i in range(len(sums)):\n",
        "    if sums[i] > max:\n",
        "      max = sums[i]\n",
        "      ind = i\n",
        "  return f\"Index: {ind} has max weight: {max}\"\n",
        "\n",
        "graph_lst = create_graph(9)\n",
        "plot_directed_wt(graph_lst)\n",
        "print_lst(graph_lst)\n",
        "print(findDegree(graph_lst))\n",
        "print(findMax(graph_lst))"
      ],
      "metadata": {
        "colab": {
          "base_uri": "https://localhost:8080/"
        },
        "id": "yYEv78g4fAhR",
        "outputId": "8d771a1c-623b-4ced-8470-24220a4a7927"
      },
      "execution_count": 47,
      "outputs": [
        {
          "output_type": "stream",
          "name": "stdout",
          "text": [
            "Point: 0 2 5\n",
            "Point: 0 4 1\n",
            "Point: 0 5 9\n",
            "Point: 1 4 8\n",
            "Point: 1 5 5\n",
            "Point: 2 3 5\n",
            "Point: 2 4 2\n",
            "Point: 2 6 3\n",
            "Point: 3 6 4\n",
            "Point: 4 5 5\n",
            "Point: 4 7 4\n",
            "Point: 5 8 2\n",
            "Point: 5 3 7\n",
            "Point: 5 6 6\n",
            "Point: 7 8 9\n",
            "Point: 6 7 5\n",
            "Point: exit\n",
            "0 0 5 0 1 9 0 0 0 \n",
            "0 0 0 0 8 5 0 0 0 \n",
            "0 0 0 5 2 0 3 0 0 \n",
            "0 0 0 0 0 0 4 0 0 \n",
            "0 0 0 0 0 5 0 4 0 \n",
            "0 0 0 7 0 0 6 0 2 \n",
            "0 0 0 0 0 0 0 5 0 \n",
            "0 0 0 0 0 0 0 0 9 \n",
            "0 0 0 0 0 0 0 0 0 \n",
            "Index: 0 has max degree: 3\n",
            "Index: 0 has max weight: 15\n"
          ]
        }
      ]
    },
    {
      "cell_type": "code",
      "source": [
        "def convert(graph):\n",
        "    for i in range(size):\n",
        "        cur = graph[i]\n",
        "        j = 0\n",
        "        while cur is not None:\n",
        "          if cur.elem != 0:\n",
        "              cur = graph[j]\n",
        "              k = 0\n",
        "              while cur is not None:\n",
        "                if k == i:\n",
        "                  if cur.elem == 0:\n",
        "                    cur.elem = weight\n",
        "                  break\n",
        "                cur = cur.next\n",
        "                k += 1\n",
        "          cur = cur.next\n",
        "          j += 1\n",
        "    return graph"
      ],
      "metadata": {
        "id": "HinR4pKVjpbP"
      },
      "execution_count": null,
      "outputs": []
    }
  ]
}